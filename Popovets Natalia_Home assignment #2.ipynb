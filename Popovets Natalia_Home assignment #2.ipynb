{
 "cells": [
  {
   "cell_type": "markdown",
   "id": "f0c68b86",
   "metadata": {},
   "source": [
    "# Датасет по соотношению уровней счастья и коррупции в 132 странах мира за 2015-2020 гг"
   ]
  },
  {
   "cell_type": "markdown",
   "id": "44e007fc",
   "metadata": {},
   "source": [
    "*Переменные*\n",
    "* **Country** - название страны\n",
    "* **happiness_score** - средняя оценка уровня жизни, 0-10\n",
    "* **gdp_per_capita** - увровень влияния ВВП на показатель счастья\n",
    "* **family** - увровень влияния семьи на показатель счастья\n",
    "* **health** - увровень влияния ожидаемой продолжительности жизни на показатель счастья\n",
    "* **freedom** - увровень влияния степени свободы на показатель счастья\n",
    "* **generosity** - оценка уровня щедрости страны\n",
    "* **government_trust** - степень влияния восприятия коррупци на показатель счастья\n",
    "* **dystopia_residual** - гипотетическое сравнение своей страны с самым грустным государством в мире\n",
    "* **continent** - название континента\n",
    "* **Year** - год опроса\n",
    "* **social_support** - оценка уровня поддержки в обществе\n",
    "* **cpi_score** - индекс восприятия коррупции (чем выше, тем лучше)."
   ]
  },
  {
   "cell_type": "code",
   "execution_count": 1,
   "id": "f2452e22",
   "metadata": {},
   "outputs": [],
   "source": [
    "import pandas as pd\n",
    "import numpy as np\n",
    "import scipy.stats\n",
    "import seaborn as sns\n",
    "import matplotlib.pyplot as plt\n",
    "import statsmodels.api as sm"
   ]
  },
  {
   "cell_type": "code",
   "execution_count": 2,
   "id": "e06c28e0",
   "metadata": {
    "scrolled": true
   },
   "outputs": [
    {
     "data": {
      "text/html": [
       "<div>\n",
       "<style scoped>\n",
       "    .dataframe tbody tr th:only-of-type {\n",
       "        vertical-align: middle;\n",
       "    }\n",
       "\n",
       "    .dataframe tbody tr th {\n",
       "        vertical-align: top;\n",
       "    }\n",
       "\n",
       "    .dataframe thead th {\n",
       "        text-align: right;\n",
       "    }\n",
       "</style>\n",
       "<table border=\"1\" class=\"dataframe\">\n",
       "  <thead>\n",
       "    <tr style=\"text-align: right;\">\n",
       "      <th></th>\n",
       "      <th>Country</th>\n",
       "      <th>happiness_score</th>\n",
       "      <th>gdp_per_capita</th>\n",
       "      <th>family</th>\n",
       "      <th>health</th>\n",
       "      <th>freedom</th>\n",
       "      <th>generosity</th>\n",
       "      <th>government_trust</th>\n",
       "      <th>dystopia_residual</th>\n",
       "      <th>continent</th>\n",
       "      <th>Year</th>\n",
       "      <th>social_support</th>\n",
       "      <th>cpi_score</th>\n",
       "    </tr>\n",
       "  </thead>\n",
       "  <tbody>\n",
       "    <tr>\n",
       "      <th>0</th>\n",
       "      <td>Norway</td>\n",
       "      <td>7.5370</td>\n",
       "      <td>1.616463</td>\n",
       "      <td>1.533524</td>\n",
       "      <td>0.796667</td>\n",
       "      <td>0.635423</td>\n",
       "      <td>0.362012</td>\n",
       "      <td>0.315964</td>\n",
       "      <td>2.277027</td>\n",
       "      <td>Europe</td>\n",
       "      <td>2015</td>\n",
       "      <td>0.000000</td>\n",
       "      <td>88</td>\n",
       "    </tr>\n",
       "    <tr>\n",
       "      <th>1</th>\n",
       "      <td>Denmark</td>\n",
       "      <td>7.5220</td>\n",
       "      <td>1.482383</td>\n",
       "      <td>1.551122</td>\n",
       "      <td>0.792566</td>\n",
       "      <td>0.626007</td>\n",
       "      <td>0.355280</td>\n",
       "      <td>0.400770</td>\n",
       "      <td>2.313707</td>\n",
       "      <td>Europe</td>\n",
       "      <td>2015</td>\n",
       "      <td>0.000000</td>\n",
       "      <td>91</td>\n",
       "    </tr>\n",
       "    <tr>\n",
       "      <th>2</th>\n",
       "      <td>Iceland</td>\n",
       "      <td>7.5040</td>\n",
       "      <td>1.480633</td>\n",
       "      <td>1.610574</td>\n",
       "      <td>0.833552</td>\n",
       "      <td>0.627163</td>\n",
       "      <td>0.475540</td>\n",
       "      <td>0.153527</td>\n",
       "      <td>2.322715</td>\n",
       "      <td>Europe</td>\n",
       "      <td>2015</td>\n",
       "      <td>0.000000</td>\n",
       "      <td>79</td>\n",
       "    </tr>\n",
       "    <tr>\n",
       "      <th>3</th>\n",
       "      <td>Switzerland</td>\n",
       "      <td>7.4940</td>\n",
       "      <td>1.564980</td>\n",
       "      <td>1.516912</td>\n",
       "      <td>0.858131</td>\n",
       "      <td>0.620071</td>\n",
       "      <td>0.290549</td>\n",
       "      <td>0.367007</td>\n",
       "      <td>2.276716</td>\n",
       "      <td>Europe</td>\n",
       "      <td>2015</td>\n",
       "      <td>0.000000</td>\n",
       "      <td>86</td>\n",
       "    </tr>\n",
       "    <tr>\n",
       "      <th>4</th>\n",
       "      <td>Finland</td>\n",
       "      <td>7.4690</td>\n",
       "      <td>1.443572</td>\n",
       "      <td>1.540247</td>\n",
       "      <td>0.809158</td>\n",
       "      <td>0.617951</td>\n",
       "      <td>0.245483</td>\n",
       "      <td>0.382612</td>\n",
       "      <td>2.430182</td>\n",
       "      <td>Europe</td>\n",
       "      <td>2015</td>\n",
       "      <td>0.000000</td>\n",
       "      <td>90</td>\n",
       "    </tr>\n",
       "    <tr>\n",
       "      <th>...</th>\n",
       "      <td>...</td>\n",
       "      <td>...</td>\n",
       "      <td>...</td>\n",
       "      <td>...</td>\n",
       "      <td>...</td>\n",
       "      <td>...</td>\n",
       "      <td>...</td>\n",
       "      <td>...</td>\n",
       "      <td>...</td>\n",
       "      <td>...</td>\n",
       "      <td>...</td>\n",
       "      <td>...</td>\n",
       "      <td>...</td>\n",
       "    </tr>\n",
       "    <tr>\n",
       "      <th>787</th>\n",
       "      <td>Botswana</td>\n",
       "      <td>3.4789</td>\n",
       "      <td>0.997549</td>\n",
       "      <td>0.000000</td>\n",
       "      <td>0.494102</td>\n",
       "      <td>0.509089</td>\n",
       "      <td>0.033407</td>\n",
       "      <td>0.101786</td>\n",
       "      <td>0.257241</td>\n",
       "      <td>Africa</td>\n",
       "      <td>2020</td>\n",
       "      <td>1.085695</td>\n",
       "      <td>60</td>\n",
       "    </tr>\n",
       "    <tr>\n",
       "      <th>788</th>\n",
       "      <td>Tanzania</td>\n",
       "      <td>3.4762</td>\n",
       "      <td>0.457163</td>\n",
       "      <td>0.000000</td>\n",
       "      <td>0.442678</td>\n",
       "      <td>0.509343</td>\n",
       "      <td>0.271541</td>\n",
       "      <td>0.203881</td>\n",
       "      <td>0.718963</td>\n",
       "      <td>Africa</td>\n",
       "      <td>2020</td>\n",
       "      <td>0.872675</td>\n",
       "      <td>38</td>\n",
       "    </tr>\n",
       "    <tr>\n",
       "      <th>789</th>\n",
       "      <td>Rwanda</td>\n",
       "      <td>3.3123</td>\n",
       "      <td>0.343243</td>\n",
       "      <td>0.000000</td>\n",
       "      <td>0.572383</td>\n",
       "      <td>0.604088</td>\n",
       "      <td>0.235705</td>\n",
       "      <td>0.485542</td>\n",
       "      <td>0.548445</td>\n",
       "      <td>Africa</td>\n",
       "      <td>2020</td>\n",
       "      <td>0.522876</td>\n",
       "      <td>54</td>\n",
       "    </tr>\n",
       "    <tr>\n",
       "      <th>790</th>\n",
       "      <td>Zimbabwe</td>\n",
       "      <td>3.2992</td>\n",
       "      <td>0.425564</td>\n",
       "      <td>0.000000</td>\n",
       "      <td>0.375038</td>\n",
       "      <td>0.377405</td>\n",
       "      <td>0.151349</td>\n",
       "      <td>0.080929</td>\n",
       "      <td>0.841031</td>\n",
       "      <td>Africa</td>\n",
       "      <td>2020</td>\n",
       "      <td>1.047835</td>\n",
       "      <td>24</td>\n",
       "    </tr>\n",
       "    <tr>\n",
       "      <th>791</th>\n",
       "      <td>Afghanistan</td>\n",
       "      <td>2.5669</td>\n",
       "      <td>0.300706</td>\n",
       "      <td>0.000000</td>\n",
       "      <td>0.266052</td>\n",
       "      <td>0.000000</td>\n",
       "      <td>0.135235</td>\n",
       "      <td>0.001226</td>\n",
       "      <td>1.507236</td>\n",
       "      <td>Asia</td>\n",
       "      <td>2020</td>\n",
       "      <td>0.356434</td>\n",
       "      <td>19</td>\n",
       "    </tr>\n",
       "  </tbody>\n",
       "</table>\n",
       "<p>792 rows × 13 columns</p>\n",
       "</div>"
      ],
      "text/plain": [
       "         Country  happiness_score  gdp_per_capita    family    health  \\\n",
       "0         Norway           7.5370        1.616463  1.533524  0.796667   \n",
       "1        Denmark           7.5220        1.482383  1.551122  0.792566   \n",
       "2        Iceland           7.5040        1.480633  1.610574  0.833552   \n",
       "3    Switzerland           7.4940        1.564980  1.516912  0.858131   \n",
       "4        Finland           7.4690        1.443572  1.540247  0.809158   \n",
       "..           ...              ...             ...       ...       ...   \n",
       "787     Botswana           3.4789        0.997549  0.000000  0.494102   \n",
       "788     Tanzania           3.4762        0.457163  0.000000  0.442678   \n",
       "789       Rwanda           3.3123        0.343243  0.000000  0.572383   \n",
       "790     Zimbabwe           3.2992        0.425564  0.000000  0.375038   \n",
       "791  Afghanistan           2.5669        0.300706  0.000000  0.266052   \n",
       "\n",
       "      freedom  generosity  government_trust  dystopia_residual continent  \\\n",
       "0    0.635423    0.362012          0.315964           2.277027    Europe   \n",
       "1    0.626007    0.355280          0.400770           2.313707    Europe   \n",
       "2    0.627163    0.475540          0.153527           2.322715    Europe   \n",
       "3    0.620071    0.290549          0.367007           2.276716    Europe   \n",
       "4    0.617951    0.245483          0.382612           2.430182    Europe   \n",
       "..        ...         ...               ...                ...       ...   \n",
       "787  0.509089    0.033407          0.101786           0.257241    Africa   \n",
       "788  0.509343    0.271541          0.203881           0.718963    Africa   \n",
       "789  0.604088    0.235705          0.485542           0.548445    Africa   \n",
       "790  0.377405    0.151349          0.080929           0.841031    Africa   \n",
       "791  0.000000    0.135235          0.001226           1.507236      Asia   \n",
       "\n",
       "     Year  social_support  cpi_score  \n",
       "0    2015        0.000000         88  \n",
       "1    2015        0.000000         91  \n",
       "2    2015        0.000000         79  \n",
       "3    2015        0.000000         86  \n",
       "4    2015        0.000000         90  \n",
       "..    ...             ...        ...  \n",
       "787  2020        1.085695         60  \n",
       "788  2020        0.872675         38  \n",
       "789  2020        0.522876         54  \n",
       "790  2020        1.047835         24  \n",
       "791  2020        0.356434         19  \n",
       "\n",
       "[792 rows x 13 columns]"
      ]
     },
     "execution_count": 2,
     "metadata": {},
     "output_type": "execute_result"
    }
   ],
   "source": [
    "#Выгружаем и отображаем датасет\n",
    "\n",
    "happy = pd.read_csv('WorldHappiness_Corruption_2015_2020.csv')\n",
    "happy"
   ]
  },
  {
   "cell_type": "markdown",
   "id": "e116890a",
   "metadata": {},
   "source": [
    "Отметим, что датасет выстроен по годам - сначала идет рейтинг от самой счастливой страны за 2015 год, затем за 2016 и т.д. При текущем отражении мы видем, что самой счастливой страной 2015 года была Норвегия, а самой несчастной в 2020 г. - Афганистан"
   ]
  },
  {
   "cell_type": "markdown",
   "id": "062ae0dc",
   "metadata": {},
   "source": [
    "# 1. Фильтрация и сортировка данных "
   ]
  },
  {
   "cell_type": "code",
   "execution_count": 3,
   "id": "f0cb6d63",
   "metadata": {},
   "outputs": [
    {
     "name": "stdout",
     "output_type": "stream",
     "text": [
      "<class 'pandas.core.frame.DataFrame'>\n",
      "RangeIndex: 792 entries, 0 to 791\n",
      "Data columns (total 13 columns):\n",
      " #   Column             Non-Null Count  Dtype  \n",
      "---  ------             --------------  -----  \n",
      " 0   Country            792 non-null    object \n",
      " 1   happiness_score    792 non-null    float64\n",
      " 2   gdp_per_capita     792 non-null    float64\n",
      " 3   family             792 non-null    float64\n",
      " 4   health             792 non-null    float64\n",
      " 5   freedom            792 non-null    float64\n",
      " 6   generosity         792 non-null    float64\n",
      " 7   government_trust   792 non-null    float64\n",
      " 8   dystopia_residual  792 non-null    float64\n",
      " 9   continent          792 non-null    object \n",
      " 10  Year               792 non-null    int64  \n",
      " 11  social_support     792 non-null    float64\n",
      " 12  cpi_score          792 non-null    int64  \n",
      "dtypes: float64(9), int64(2), object(2)\n",
      "memory usage: 74.3+ KB\n"
     ]
    }
   ],
   "source": [
    "#В первую очередь проверяем, на предмет пропущенных значений, а также тип переменных\n",
    "\n",
    "happy.info()"
   ]
  },
  {
   "cell_type": "code",
   "execution_count": 4,
   "id": "544507b8",
   "metadata": {},
   "outputs": [
    {
     "data": {
      "text/plain": [
       "Country              0\n",
       "happiness_score      0\n",
       "gdp_per_capita       0\n",
       "family               0\n",
       "health               0\n",
       "freedom              0\n",
       "generosity           0\n",
       "government_trust     0\n",
       "dystopia_residual    0\n",
       "continent            0\n",
       "Year                 0\n",
       "social_support       0\n",
       "cpi_score            0\n",
       "dtype: int64"
      ]
     },
     "execution_count": 4,
     "metadata": {},
     "output_type": "execute_result"
    }
   ],
   "source": [
    "happy.isna().sum()"
   ]
  },
  {
   "cell_type": "code",
   "execution_count": 5,
   "id": "2cceb637",
   "metadata": {},
   "outputs": [
    {
     "data": {
      "text/plain": [
       "array(['Europe', 'North America', 'Australia', 'Asia', 'South America',\n",
       "       'Africa'], dtype=object)"
      ]
     },
     "execution_count": 5,
     "metadata": {},
     "output_type": "execute_result"
    }
   ],
   "source": [
    "happy['continent'].unique()"
   ]
  },
  {
   "cell_type": "markdown",
   "id": "96ae96e4",
   "metadata": {},
   "source": [
    "Выведем сколько стран представлено от каждого контитента"
   ]
  },
  {
   "cell_type": "code",
   "execution_count": 6,
   "id": "bbe8b282",
   "metadata": {},
   "outputs": [
    {
     "name": "stdout",
     "output_type": "stream",
     "text": [
      "(228, 13)\n",
      "(18, 13)\n",
      "(12, 13)\n",
      "(222, 13)\n",
      "(120, 13)\n",
      "(192, 13)\n"
     ]
    }
   ],
   "source": [
    "print(happy[happy['continent'] == 'Europe'].shape)\n",
    "print(happy[happy['continent'] == 'North America'].shape)\n",
    "print(happy[happy['continent'] == 'Australia'].shape)\n",
    "print(happy[happy['continent'] == 'Asia'].shape)\n",
    "print(happy[happy['continent'] == 'South America'].shape)\n",
    "print(happy[happy['continent'] == 'Africa'].shape)"
   ]
  },
  {
   "cell_type": "markdown",
   "id": "53a702be",
   "metadata": {},
   "source": [
    "Наибольшее количество стран представлено из Европы, на втором месте - Азия. Наименьшее количество ответов собрано из австралии и Северной Америки, что связано с количсетвом стран на этих континентах.\n",
    "\n",
    "Построим частотную таблицу, чтобы узнать, сколько раз встрачается каждая страна в датасете."
   ]
  },
  {
   "cell_type": "code",
   "execution_count": 7,
   "id": "8c1432db",
   "metadata": {
    "scrolled": true
   },
   "outputs": [
    {
     "data": {
      "text/plain": [
       "Norway        6\n",
       "Nigeria       6\n",
       "Bangladesh    6\n",
       "Albania       6\n",
       "Iran          6\n",
       "             ..\n",
       "Nicaragua     6\n",
       "Malaysia      6\n",
       "Bahrain       6\n",
       "Slovakia      6\n",
       "Burundi       6\n",
       "Name: Country, Length: 132, dtype: int64"
      ]
     },
     "execution_count": 7,
     "metadata": {},
     "output_type": "execute_result"
    }
   ],
   "source": [
    "happy['Country'].value_counts()"
   ]
  },
  {
   "cell_type": "markdown",
   "id": "439c29d6",
   "metadata": {},
   "source": [
    "Отсортируем показатели счастья по возарстанию."
   ]
  },
  {
   "cell_type": "code",
   "execution_count": 8,
   "id": "7a86d38e",
   "metadata": {},
   "outputs": [
    {
     "data": {
      "text/plain": [
       "660    7.8087\n",
       "264    7.7690\n",
       "661    7.6456\n",
       "396    7.6320\n",
       "265    7.6000\n",
       "        ...  \n",
       "659    2.9050\n",
       "527    2.9050\n",
       "131    2.9050\n",
       "263    2.8390\n",
       "791    2.5669\n",
       "Name: happiness_score, Length: 792, dtype: float64"
      ]
     },
     "execution_count": 8,
     "metadata": {},
     "output_type": "execute_result"
    }
   ],
   "source": [
    "happy['happiness_score'].sort_values(ascending=False) #переменная False вызывает распредление от большего к меньшему"
   ]
  },
  {
   "cell_type": "markdown",
   "id": "680954b8",
   "metadata": {},
   "source": [
    "Интересно отметить, что наивысший показатель параметра уровня счаться находится не в начале рейтинга, а на 660-й строчке. Посмотрим, какая это страна."
   ]
  },
  {
   "cell_type": "code",
   "execution_count": 9,
   "id": "1b878006",
   "metadata": {},
   "outputs": [
    {
     "data": {
      "text/plain": [
       "Country               Finland\n",
       "happiness_score        7.8087\n",
       "gdp_per_capita        1.28519\n",
       "family                    0.0\n",
       "health               0.961271\n",
       "freedom              0.662317\n",
       "generosity            0.15967\n",
       "government_trust     0.477857\n",
       "dystopia_residual    2.762835\n",
       "continent              Europe\n",
       "Year                     2020\n",
       "social_support       1.499526\n",
       "cpi_score                  85\n",
       "Name: 660, dtype: object"
      ]
     },
     "execution_count": 9,
     "metadata": {},
     "output_type": "execute_result"
    }
   ],
   "source": [
    "happy.iloc[660]"
   ]
  },
  {
   "cell_type": "markdown",
   "id": "57bdaaad",
   "metadata": {},
   "source": [
    "Выходит, что наивысшей уровень показателя счаться был в 2020 в Финаляндии. Позднее мы проанализируем взаимосвязь этого уровня с другими данными датасета. \n",
    "Проверим динамику показателя счастья за 2015-2020 года в этой стране."
   ]
  },
  {
   "cell_type": "code",
   "execution_count": 10,
   "id": "1c5d5ca8",
   "metadata": {
    "scrolled": true
   },
   "outputs": [
    {
     "data": {
      "text/html": [
       "<div>\n",
       "<style scoped>\n",
       "    .dataframe tbody tr th:only-of-type {\n",
       "        vertical-align: middle;\n",
       "    }\n",
       "\n",
       "    .dataframe tbody tr th {\n",
       "        vertical-align: top;\n",
       "    }\n",
       "\n",
       "    .dataframe thead th {\n",
       "        text-align: right;\n",
       "    }\n",
       "</style>\n",
       "<table border=\"1\" class=\"dataframe\">\n",
       "  <thead>\n",
       "    <tr style=\"text-align: right;\">\n",
       "      <th></th>\n",
       "      <th>Country</th>\n",
       "      <th>happiness_score</th>\n",
       "      <th>gdp_per_capita</th>\n",
       "      <th>family</th>\n",
       "      <th>health</th>\n",
       "      <th>freedom</th>\n",
       "      <th>generosity</th>\n",
       "      <th>government_trust</th>\n",
       "      <th>dystopia_residual</th>\n",
       "      <th>continent</th>\n",
       "      <th>Year</th>\n",
       "      <th>social_support</th>\n",
       "      <th>cpi_score</th>\n",
       "    </tr>\n",
       "  </thead>\n",
       "  <tbody>\n",
       "    <tr>\n",
       "      <th>4</th>\n",
       "      <td>Finland</td>\n",
       "      <td>7.4690</td>\n",
       "      <td>1.443572</td>\n",
       "      <td>1.540247</td>\n",
       "      <td>0.809158</td>\n",
       "      <td>0.617951</td>\n",
       "      <td>0.245483</td>\n",
       "      <td>0.382612</td>\n",
       "      <td>2.430182</td>\n",
       "      <td>Europe</td>\n",
       "      <td>2015</td>\n",
       "      <td>0.000000</td>\n",
       "      <td>90</td>\n",
       "    </tr>\n",
       "    <tr>\n",
       "      <th>137</th>\n",
       "      <td>Finland</td>\n",
       "      <td>7.4060</td>\n",
       "      <td>1.290250</td>\n",
       "      <td>1.318260</td>\n",
       "      <td>0.889110</td>\n",
       "      <td>0.641690</td>\n",
       "      <td>0.233510</td>\n",
       "      <td>0.413720</td>\n",
       "      <td>2.619550</td>\n",
       "      <td>Europe</td>\n",
       "      <td>2016</td>\n",
       "      <td>0.000000</td>\n",
       "      <td>89</td>\n",
       "    </tr>\n",
       "    <tr>\n",
       "      <th>264</th>\n",
       "      <td>Finland</td>\n",
       "      <td>7.7690</td>\n",
       "      <td>1.340000</td>\n",
       "      <td>0.000000</td>\n",
       "      <td>0.986000</td>\n",
       "      <td>0.596000</td>\n",
       "      <td>0.153000</td>\n",
       "      <td>0.393000</td>\n",
       "      <td>0.000000</td>\n",
       "      <td>Europe</td>\n",
       "      <td>2017</td>\n",
       "      <td>1.587000</td>\n",
       "      <td>85</td>\n",
       "    </tr>\n",
       "    <tr>\n",
       "      <th>396</th>\n",
       "      <td>Finland</td>\n",
       "      <td>7.6320</td>\n",
       "      <td>1.305000</td>\n",
       "      <td>0.000000</td>\n",
       "      <td>0.874000</td>\n",
       "      <td>0.681000</td>\n",
       "      <td>0.202000</td>\n",
       "      <td>0.393000</td>\n",
       "      <td>0.000000</td>\n",
       "      <td>Europe</td>\n",
       "      <td>2018</td>\n",
       "      <td>1.592000</td>\n",
       "      <td>85</td>\n",
       "    </tr>\n",
       "    <tr>\n",
       "      <th>532</th>\n",
       "      <td>Finland</td>\n",
       "      <td>7.4130</td>\n",
       "      <td>1.405980</td>\n",
       "      <td>1.134640</td>\n",
       "      <td>0.810910</td>\n",
       "      <td>0.571040</td>\n",
       "      <td>0.254920</td>\n",
       "      <td>0.410040</td>\n",
       "      <td>2.825960</td>\n",
       "      <td>Europe</td>\n",
       "      <td>2019</td>\n",
       "      <td>0.000000</td>\n",
       "      <td>86</td>\n",
       "    </tr>\n",
       "    <tr>\n",
       "      <th>660</th>\n",
       "      <td>Finland</td>\n",
       "      <td>7.8087</td>\n",
       "      <td>1.285190</td>\n",
       "      <td>0.000000</td>\n",
       "      <td>0.961271</td>\n",
       "      <td>0.662317</td>\n",
       "      <td>0.159670</td>\n",
       "      <td>0.477857</td>\n",
       "      <td>2.762835</td>\n",
       "      <td>Europe</td>\n",
       "      <td>2020</td>\n",
       "      <td>1.499526</td>\n",
       "      <td>85</td>\n",
       "    </tr>\n",
       "  </tbody>\n",
       "</table>\n",
       "</div>"
      ],
      "text/plain": [
       "     Country  happiness_score  gdp_per_capita    family    health   freedom  \\\n",
       "4    Finland           7.4690        1.443572  1.540247  0.809158  0.617951   \n",
       "137  Finland           7.4060        1.290250  1.318260  0.889110  0.641690   \n",
       "264  Finland           7.7690        1.340000  0.000000  0.986000  0.596000   \n",
       "396  Finland           7.6320        1.305000  0.000000  0.874000  0.681000   \n",
       "532  Finland           7.4130        1.405980  1.134640  0.810910  0.571040   \n",
       "660  Finland           7.8087        1.285190  0.000000  0.961271  0.662317   \n",
       "\n",
       "     generosity  government_trust  dystopia_residual continent  Year  \\\n",
       "4      0.245483          0.382612           2.430182    Europe  2015   \n",
       "137    0.233510          0.413720           2.619550    Europe  2016   \n",
       "264    0.153000          0.393000           0.000000    Europe  2017   \n",
       "396    0.202000          0.393000           0.000000    Europe  2018   \n",
       "532    0.254920          0.410040           2.825960    Europe  2019   \n",
       "660    0.159670          0.477857           2.762835    Europe  2020   \n",
       "\n",
       "     social_support  cpi_score  \n",
       "4          0.000000         90  \n",
       "137        0.000000         89  \n",
       "264        1.587000         85  \n",
       "396        1.592000         85  \n",
       "532        0.000000         86  \n",
       "660        1.499526         85  "
      ]
     },
     "execution_count": 10,
     "metadata": {},
     "output_type": "execute_result"
    }
   ],
   "source": [
    "happy[(happy['Country'] == 'Finland')]"
   ]
  },
  {
   "cell_type": "markdown",
   "id": "898e2cad",
   "metadata": {},
   "source": [
    "Из таблицы видно, что данный показатель вырос на 0,3 пункта за 5 лет, что скорее всего связана с проводимой политикой в стране. Посмотрим на динамику других показателей в Финляднии.\n",
    "Выявим года, когда у Финляндии фиксировался наивысший индекс отношения к коррупции (89-100), т.е. коррупция была на низком уровне."
   ]
  },
  {
   "cell_type": "code",
   "execution_count": 11,
   "id": "43df7246",
   "metadata": {},
   "outputs": [
    {
     "data": {
      "text/html": [
       "<div>\n",
       "<style scoped>\n",
       "    .dataframe tbody tr th:only-of-type {\n",
       "        vertical-align: middle;\n",
       "    }\n",
       "\n",
       "    .dataframe tbody tr th {\n",
       "        vertical-align: top;\n",
       "    }\n",
       "\n",
       "    .dataframe thead th {\n",
       "        text-align: right;\n",
       "    }\n",
       "</style>\n",
       "<table border=\"1\" class=\"dataframe\">\n",
       "  <thead>\n",
       "    <tr style=\"text-align: right;\">\n",
       "      <th></th>\n",
       "      <th>Country</th>\n",
       "      <th>happiness_score</th>\n",
       "      <th>gdp_per_capita</th>\n",
       "      <th>family</th>\n",
       "      <th>health</th>\n",
       "      <th>freedom</th>\n",
       "      <th>generosity</th>\n",
       "      <th>government_trust</th>\n",
       "      <th>dystopia_residual</th>\n",
       "      <th>continent</th>\n",
       "      <th>Year</th>\n",
       "      <th>social_support</th>\n",
       "      <th>cpi_score</th>\n",
       "    </tr>\n",
       "  </thead>\n",
       "  <tbody>\n",
       "    <tr>\n",
       "      <th>4</th>\n",
       "      <td>Finland</td>\n",
       "      <td>7.469</td>\n",
       "      <td>1.443572</td>\n",
       "      <td>1.540247</td>\n",
       "      <td>0.809158</td>\n",
       "      <td>0.617951</td>\n",
       "      <td>0.245483</td>\n",
       "      <td>0.382612</td>\n",
       "      <td>2.430182</td>\n",
       "      <td>Europe</td>\n",
       "      <td>2015</td>\n",
       "      <td>0.0</td>\n",
       "      <td>90</td>\n",
       "    </tr>\n",
       "    <tr>\n",
       "      <th>137</th>\n",
       "      <td>Finland</td>\n",
       "      <td>7.406</td>\n",
       "      <td>1.290250</td>\n",
       "      <td>1.318260</td>\n",
       "      <td>0.889110</td>\n",
       "      <td>0.641690</td>\n",
       "      <td>0.233510</td>\n",
       "      <td>0.413720</td>\n",
       "      <td>2.619550</td>\n",
       "      <td>Europe</td>\n",
       "      <td>2016</td>\n",
       "      <td>0.0</td>\n",
       "      <td>89</td>\n",
       "    </tr>\n",
       "  </tbody>\n",
       "</table>\n",
       "</div>"
      ],
      "text/plain": [
       "     Country  happiness_score  gdp_per_capita    family    health   freedom  \\\n",
       "4    Finland            7.469        1.443572  1.540247  0.809158  0.617951   \n",
       "137  Finland            7.406        1.290250  1.318260  0.889110  0.641690   \n",
       "\n",
       "     generosity  government_trust  dystopia_residual continent  Year  \\\n",
       "4      0.245483          0.382612           2.430182    Europe  2015   \n",
       "137    0.233510          0.413720           2.619550    Europe  2016   \n",
       "\n",
       "     social_support  cpi_score  \n",
       "4               0.0         90  \n",
       "137             0.0         89  "
      ]
     },
     "execution_count": 11,
     "metadata": {},
     "output_type": "execute_result"
    }
   ],
   "source": [
    "happy[(happy['Country'] == 'Finland') &\n",
    "     ( happy['cpi_score'].isin(range(89, 100)))]"
   ]
  },
  {
   "cell_type": "markdown",
   "id": "c939997b",
   "metadata": {},
   "source": [
    "Наилучшее отношение к коррупции было зафиксровано в 2015 и 2016 годах, что соответсвует наиболее низким показателям счаться в Финляндии за анализируемый период. Предварительно можем сделать вывод о том, что **хорошее отношение к коррупции не повышает уровень счатья в стране**.\n",
    "\n",
    "Одновремнно с этим может возникнуть вопрос - снижение хорошего отношения к коррупции повышает уровень счатья в стране. Проверим эту гипотезу относительно стран с самым низким уровнем счастья в датасете. "
   ]
  },
  {
   "cell_type": "code",
   "execution_count": 12,
   "id": "89671877",
   "metadata": {
    "scrolled": true
   },
   "outputs": [
    {
     "data": {
      "text/html": [
       "<div>\n",
       "<style scoped>\n",
       "    .dataframe tbody tr th:only-of-type {\n",
       "        vertical-align: middle;\n",
       "    }\n",
       "\n",
       "    .dataframe tbody tr th {\n",
       "        vertical-align: top;\n",
       "    }\n",
       "\n",
       "    .dataframe thead th {\n",
       "        text-align: right;\n",
       "    }\n",
       "</style>\n",
       "<table border=\"1\" class=\"dataframe\">\n",
       "  <thead>\n",
       "    <tr style=\"text-align: right;\">\n",
       "      <th></th>\n",
       "      <th>Country</th>\n",
       "      <th>happiness_score</th>\n",
       "      <th>gdp_per_capita</th>\n",
       "      <th>family</th>\n",
       "      <th>health</th>\n",
       "      <th>freedom</th>\n",
       "      <th>generosity</th>\n",
       "      <th>government_trust</th>\n",
       "      <th>dystopia_residual</th>\n",
       "      <th>continent</th>\n",
       "      <th>Year</th>\n",
       "      <th>social_support</th>\n",
       "      <th>cpi_score</th>\n",
       "    </tr>\n",
       "  </thead>\n",
       "  <tbody>\n",
       "    <tr>\n",
       "      <th>791</th>\n",
       "      <td>Afghanistan</td>\n",
       "      <td>2.5669</td>\n",
       "      <td>0.300706</td>\n",
       "      <td>0.000000</td>\n",
       "      <td>0.266052</td>\n",
       "      <td>0.000000</td>\n",
       "      <td>0.135235</td>\n",
       "      <td>0.001226</td>\n",
       "      <td>1.507236</td>\n",
       "      <td>Asia</td>\n",
       "      <td>2020</td>\n",
       "      <td>0.356434</td>\n",
       "      <td>19</td>\n",
       "    </tr>\n",
       "    <tr>\n",
       "      <th>263</th>\n",
       "      <td>Togo</td>\n",
       "      <td>2.8390</td>\n",
       "      <td>0.208680</td>\n",
       "      <td>0.139950</td>\n",
       "      <td>0.284430</td>\n",
       "      <td>0.364530</td>\n",
       "      <td>0.166810</td>\n",
       "      <td>0.107310</td>\n",
       "      <td>1.567260</td>\n",
       "      <td>Africa</td>\n",
       "      <td>2016</td>\n",
       "      <td>0.000000</td>\n",
       "      <td>32</td>\n",
       "    </tr>\n",
       "    <tr>\n",
       "      <th>131</th>\n",
       "      <td>Burundi</td>\n",
       "      <td>2.9050</td>\n",
       "      <td>0.091623</td>\n",
       "      <td>0.629794</td>\n",
       "      <td>0.151611</td>\n",
       "      <td>0.059901</td>\n",
       "      <td>0.204435</td>\n",
       "      <td>0.084148</td>\n",
       "      <td>1.683024</td>\n",
       "      <td>Africa</td>\n",
       "      <td>2015</td>\n",
       "      <td>0.000000</td>\n",
       "      <td>21</td>\n",
       "    </tr>\n",
       "    <tr>\n",
       "      <th>262</th>\n",
       "      <td>Burundi</td>\n",
       "      <td>2.9050</td>\n",
       "      <td>0.015300</td>\n",
       "      <td>0.415870</td>\n",
       "      <td>0.223960</td>\n",
       "      <td>0.118500</td>\n",
       "      <td>0.197270</td>\n",
       "      <td>0.100620</td>\n",
       "      <td>1.833020</td>\n",
       "      <td>Africa</td>\n",
       "      <td>2016</td>\n",
       "      <td>0.000000</td>\n",
       "      <td>20</td>\n",
       "    </tr>\n",
       "    <tr>\n",
       "      <th>659</th>\n",
       "      <td>Burundi</td>\n",
       "      <td>2.9050</td>\n",
       "      <td>0.068310</td>\n",
       "      <td>0.234420</td>\n",
       "      <td>0.157470</td>\n",
       "      <td>0.043200</td>\n",
       "      <td>0.202900</td>\n",
       "      <td>0.094190</td>\n",
       "      <td>2.104040</td>\n",
       "      <td>Africa</td>\n",
       "      <td>2019</td>\n",
       "      <td>0.000000</td>\n",
       "      <td>19</td>\n",
       "    </tr>\n",
       "    <tr>\n",
       "      <th>...</th>\n",
       "      <td>...</td>\n",
       "      <td>...</td>\n",
       "      <td>...</td>\n",
       "      <td>...</td>\n",
       "      <td>...</td>\n",
       "      <td>...</td>\n",
       "      <td>...</td>\n",
       "      <td>...</td>\n",
       "      <td>...</td>\n",
       "      <td>...</td>\n",
       "      <td>...</td>\n",
       "      <td>...</td>\n",
       "      <td>...</td>\n",
       "    </tr>\n",
       "    <tr>\n",
       "      <th>265</th>\n",
       "      <td>Denmark</td>\n",
       "      <td>7.6000</td>\n",
       "      <td>1.383000</td>\n",
       "      <td>0.000000</td>\n",
       "      <td>0.996000</td>\n",
       "      <td>0.592000</td>\n",
       "      <td>0.252000</td>\n",
       "      <td>0.410000</td>\n",
       "      <td>0.000000</td>\n",
       "      <td>Europe</td>\n",
       "      <td>2017</td>\n",
       "      <td>1.573000</td>\n",
       "      <td>88</td>\n",
       "    </tr>\n",
       "    <tr>\n",
       "      <th>396</th>\n",
       "      <td>Finland</td>\n",
       "      <td>7.6320</td>\n",
       "      <td>1.305000</td>\n",
       "      <td>0.000000</td>\n",
       "      <td>0.874000</td>\n",
       "      <td>0.681000</td>\n",
       "      <td>0.202000</td>\n",
       "      <td>0.393000</td>\n",
       "      <td>0.000000</td>\n",
       "      <td>Europe</td>\n",
       "      <td>2018</td>\n",
       "      <td>1.592000</td>\n",
       "      <td>85</td>\n",
       "    </tr>\n",
       "    <tr>\n",
       "      <th>661</th>\n",
       "      <td>Denmark</td>\n",
       "      <td>7.6456</td>\n",
       "      <td>1.326949</td>\n",
       "      <td>0.000000</td>\n",
       "      <td>0.979333</td>\n",
       "      <td>0.665040</td>\n",
       "      <td>0.242793</td>\n",
       "      <td>0.495260</td>\n",
       "      <td>2.432741</td>\n",
       "      <td>Europe</td>\n",
       "      <td>2020</td>\n",
       "      <td>1.503449</td>\n",
       "      <td>88</td>\n",
       "    </tr>\n",
       "    <tr>\n",
       "      <th>264</th>\n",
       "      <td>Finland</td>\n",
       "      <td>7.7690</td>\n",
       "      <td>1.340000</td>\n",
       "      <td>0.000000</td>\n",
       "      <td>0.986000</td>\n",
       "      <td>0.596000</td>\n",
       "      <td>0.153000</td>\n",
       "      <td>0.393000</td>\n",
       "      <td>0.000000</td>\n",
       "      <td>Europe</td>\n",
       "      <td>2017</td>\n",
       "      <td>1.587000</td>\n",
       "      <td>85</td>\n",
       "    </tr>\n",
       "    <tr>\n",
       "      <th>660</th>\n",
       "      <td>Finland</td>\n",
       "      <td>7.8087</td>\n",
       "      <td>1.285190</td>\n",
       "      <td>0.000000</td>\n",
       "      <td>0.961271</td>\n",
       "      <td>0.662317</td>\n",
       "      <td>0.159670</td>\n",
       "      <td>0.477857</td>\n",
       "      <td>2.762835</td>\n",
       "      <td>Europe</td>\n",
       "      <td>2020</td>\n",
       "      <td>1.499526</td>\n",
       "      <td>85</td>\n",
       "    </tr>\n",
       "  </tbody>\n",
       "</table>\n",
       "<p>792 rows × 13 columns</p>\n",
       "</div>"
      ],
      "text/plain": [
       "         Country  happiness_score  gdp_per_capita    family    health  \\\n",
       "791  Afghanistan           2.5669        0.300706  0.000000  0.266052   \n",
       "263         Togo           2.8390        0.208680  0.139950  0.284430   \n",
       "131      Burundi           2.9050        0.091623  0.629794  0.151611   \n",
       "262      Burundi           2.9050        0.015300  0.415870  0.223960   \n",
       "659      Burundi           2.9050        0.068310  0.234420  0.157470   \n",
       "..           ...              ...             ...       ...       ...   \n",
       "265      Denmark           7.6000        1.383000  0.000000  0.996000   \n",
       "396      Finland           7.6320        1.305000  0.000000  0.874000   \n",
       "661      Denmark           7.6456        1.326949  0.000000  0.979333   \n",
       "264      Finland           7.7690        1.340000  0.000000  0.986000   \n",
       "660      Finland           7.8087        1.285190  0.000000  0.961271   \n",
       "\n",
       "      freedom  generosity  government_trust  dystopia_residual continent  \\\n",
       "791  0.000000    0.135235          0.001226           1.507236      Asia   \n",
       "263  0.364530    0.166810          0.107310           1.567260    Africa   \n",
       "131  0.059901    0.204435          0.084148           1.683024    Africa   \n",
       "262  0.118500    0.197270          0.100620           1.833020    Africa   \n",
       "659  0.043200    0.202900          0.094190           2.104040    Africa   \n",
       "..        ...         ...               ...                ...       ...   \n",
       "265  0.592000    0.252000          0.410000           0.000000    Europe   \n",
       "396  0.681000    0.202000          0.393000           0.000000    Europe   \n",
       "661  0.665040    0.242793          0.495260           2.432741    Europe   \n",
       "264  0.596000    0.153000          0.393000           0.000000    Europe   \n",
       "660  0.662317    0.159670          0.477857           2.762835    Europe   \n",
       "\n",
       "     Year  social_support  cpi_score  \n",
       "791  2020        0.356434         19  \n",
       "263  2016        0.000000         32  \n",
       "131  2015        0.000000         21  \n",
       "262  2016        0.000000         20  \n",
       "659  2019        0.000000         19  \n",
       "..    ...             ...        ...  \n",
       "265  2017        1.573000         88  \n",
       "396  2018        1.592000         85  \n",
       "661  2020        1.503449         88  \n",
       "264  2017        1.587000         85  \n",
       "660  2020        1.499526         85  \n",
       "\n",
       "[792 rows x 13 columns]"
      ]
     },
     "execution_count": 12,
     "metadata": {},
     "output_type": "execute_result"
    }
   ],
   "source": [
    "happy.sort_values(by=['happiness_score', 'cpi_score'], ascending=[True, False])"
   ]
  },
  {
   "cell_type": "markdown",
   "id": "00e21128",
   "metadata": {},
   "source": [
    "По первым строчкам очевидно, что гипотеза о том, что снижение хорошего отношения к коррупции повышает уровень счастья опровержена."
   ]
  },
  {
   "cell_type": "markdown",
   "id": "9ca02524",
   "metadata": {},
   "source": [
    "# 2. Создание новых переменных"
   ]
  },
  {
   "cell_type": "markdown",
   "id": "e5fbcda3",
   "metadata": {},
   "source": [
    "Выявим наивыший увроень по cpi score, Создадим бинарную переменную для сортировки показателей отношения к коррупции."
   ]
  },
  {
   "cell_type": "code",
   "execution_count": 13,
   "id": "58e9b7d2",
   "metadata": {},
   "outputs": [
    {
     "data": {
      "text/plain": [
       "7      91\n",
       "1      91\n",
       "134    90\n",
       "4      90\n",
       "140    90\n",
       "       ..\n",
       "259    15\n",
       "247    14\n",
       "525    14\n",
       "187    14\n",
       "120    11\n",
       "Name: cpi_score, Length: 792, dtype: int64"
      ]
     },
     "execution_count": 13,
     "metadata": {},
     "output_type": "execute_result"
    }
   ],
   "source": [
    "happy['cpi_score'].sort_values(ascending=False)"
   ]
  },
  {
   "cell_type": "code",
   "execution_count": 14,
   "id": "762f0065",
   "metadata": {},
   "outputs": [],
   "source": [
    "happy['Good cpi_score'] = happy['cpi_score'].apply(lambda x: 1 if x in range(81,100) else 0)"
   ]
  },
  {
   "cell_type": "code",
   "execution_count": 15,
   "id": "5b28d39c",
   "metadata": {
    "scrolled": true
   },
   "outputs": [
    {
     "data": {
      "text/html": [
       "<div>\n",
       "<style scoped>\n",
       "    .dataframe tbody tr th:only-of-type {\n",
       "        vertical-align: middle;\n",
       "    }\n",
       "\n",
       "    .dataframe tbody tr th {\n",
       "        vertical-align: top;\n",
       "    }\n",
       "\n",
       "    .dataframe thead th {\n",
       "        text-align: right;\n",
       "    }\n",
       "</style>\n",
       "<table border=\"1\" class=\"dataframe\">\n",
       "  <thead>\n",
       "    <tr style=\"text-align: right;\">\n",
       "      <th></th>\n",
       "      <th>Country</th>\n",
       "      <th>happiness_score</th>\n",
       "      <th>gdp_per_capita</th>\n",
       "      <th>family</th>\n",
       "      <th>health</th>\n",
       "      <th>freedom</th>\n",
       "      <th>generosity</th>\n",
       "      <th>government_trust</th>\n",
       "      <th>dystopia_residual</th>\n",
       "      <th>continent</th>\n",
       "      <th>Year</th>\n",
       "      <th>social_support</th>\n",
       "      <th>cpi_score</th>\n",
       "      <th>Good cpi_score</th>\n",
       "    </tr>\n",
       "  </thead>\n",
       "  <tbody>\n",
       "    <tr>\n",
       "      <th>0</th>\n",
       "      <td>Norway</td>\n",
       "      <td>7.537</td>\n",
       "      <td>1.616463</td>\n",
       "      <td>1.533524</td>\n",
       "      <td>0.796667</td>\n",
       "      <td>0.635423</td>\n",
       "      <td>0.362012</td>\n",
       "      <td>0.315964</td>\n",
       "      <td>2.277027</td>\n",
       "      <td>Europe</td>\n",
       "      <td>2015</td>\n",
       "      <td>0.0</td>\n",
       "      <td>88</td>\n",
       "      <td>1</td>\n",
       "    </tr>\n",
       "    <tr>\n",
       "      <th>1</th>\n",
       "      <td>Denmark</td>\n",
       "      <td>7.522</td>\n",
       "      <td>1.482383</td>\n",
       "      <td>1.551122</td>\n",
       "      <td>0.792566</td>\n",
       "      <td>0.626007</td>\n",
       "      <td>0.355280</td>\n",
       "      <td>0.400770</td>\n",
       "      <td>2.313707</td>\n",
       "      <td>Europe</td>\n",
       "      <td>2015</td>\n",
       "      <td>0.0</td>\n",
       "      <td>91</td>\n",
       "      <td>1</td>\n",
       "    </tr>\n",
       "    <tr>\n",
       "      <th>2</th>\n",
       "      <td>Iceland</td>\n",
       "      <td>7.504</td>\n",
       "      <td>1.480633</td>\n",
       "      <td>1.610574</td>\n",
       "      <td>0.833552</td>\n",
       "      <td>0.627163</td>\n",
       "      <td>0.475540</td>\n",
       "      <td>0.153527</td>\n",
       "      <td>2.322715</td>\n",
       "      <td>Europe</td>\n",
       "      <td>2015</td>\n",
       "      <td>0.0</td>\n",
       "      <td>79</td>\n",
       "      <td>0</td>\n",
       "    </tr>\n",
       "    <tr>\n",
       "      <th>3</th>\n",
       "      <td>Switzerland</td>\n",
       "      <td>7.494</td>\n",
       "      <td>1.564980</td>\n",
       "      <td>1.516912</td>\n",
       "      <td>0.858131</td>\n",
       "      <td>0.620071</td>\n",
       "      <td>0.290549</td>\n",
       "      <td>0.367007</td>\n",
       "      <td>2.276716</td>\n",
       "      <td>Europe</td>\n",
       "      <td>2015</td>\n",
       "      <td>0.0</td>\n",
       "      <td>86</td>\n",
       "      <td>1</td>\n",
       "    </tr>\n",
       "    <tr>\n",
       "      <th>4</th>\n",
       "      <td>Finland</td>\n",
       "      <td>7.469</td>\n",
       "      <td>1.443572</td>\n",
       "      <td>1.540247</td>\n",
       "      <td>0.809158</td>\n",
       "      <td>0.617951</td>\n",
       "      <td>0.245483</td>\n",
       "      <td>0.382612</td>\n",
       "      <td>2.430182</td>\n",
       "      <td>Europe</td>\n",
       "      <td>2015</td>\n",
       "      <td>0.0</td>\n",
       "      <td>90</td>\n",
       "      <td>1</td>\n",
       "    </tr>\n",
       "  </tbody>\n",
       "</table>\n",
       "</div>"
      ],
      "text/plain": [
       "       Country  happiness_score  gdp_per_capita    family    health   freedom  \\\n",
       "0       Norway            7.537        1.616463  1.533524  0.796667  0.635423   \n",
       "1      Denmark            7.522        1.482383  1.551122  0.792566  0.626007   \n",
       "2      Iceland            7.504        1.480633  1.610574  0.833552  0.627163   \n",
       "3  Switzerland            7.494        1.564980  1.516912  0.858131  0.620071   \n",
       "4      Finland            7.469        1.443572  1.540247  0.809158  0.617951   \n",
       "\n",
       "   generosity  government_trust  dystopia_residual continent  Year  \\\n",
       "0    0.362012          0.315964           2.277027    Europe  2015   \n",
       "1    0.355280          0.400770           2.313707    Europe  2015   \n",
       "2    0.475540          0.153527           2.322715    Europe  2015   \n",
       "3    0.290549          0.367007           2.276716    Europe  2015   \n",
       "4    0.245483          0.382612           2.430182    Europe  2015   \n",
       "\n",
       "   social_support  cpi_score  Good cpi_score  \n",
       "0             0.0         88               1  \n",
       "1             0.0         91               1  \n",
       "2             0.0         79               0  \n",
       "3             0.0         86               1  \n",
       "4             0.0         90               1  "
      ]
     },
     "execution_count": 15,
     "metadata": {},
     "output_type": "execute_result"
    }
   ],
   "source": [
    "happy.head()"
   ]
  },
  {
   "cell_type": "markdown",
   "id": "b394dcc3",
   "metadata": {},
   "source": [
    "Перейдем к созданию категориальной переменной на основе количественной happiness score."
   ]
  },
  {
   "cell_type": "code",
   "execution_count": 16,
   "id": "520028a9",
   "metadata": {},
   "outputs": [],
   "source": [
    "def get_happy_cat(happy):\n",
    "    if happy < 3.7:\n",
    "        return 'Most depressing'\n",
    "    elif happy < 4.7:\n",
    "        return 'Very Sad'\n",
    "    elif happy < 5.7:\n",
    "        return 'Sad'\n",
    "    elif happy < 6.7:\n",
    "        return 'Okay'\n",
    "    elif happy < 7:\n",
    "        return 'Happy'\n",
    "    elif happy >= 7:\n",
    "        return 'The most happy'\n",
    "    else:\n",
    "        return happy"
   ]
  },
  {
   "cell_type": "code",
   "execution_count": 17,
   "id": "04eb92f6",
   "metadata": {},
   "outputs": [],
   "source": [
    "happy['Happiness Category'] = happy['happiness_score'].apply(get_happy_cat)"
   ]
  },
  {
   "cell_type": "code",
   "execution_count": 18,
   "id": "807c251c",
   "metadata": {},
   "outputs": [
    {
     "data": {
      "text/html": [
       "<div>\n",
       "<style scoped>\n",
       "    .dataframe tbody tr th:only-of-type {\n",
       "        vertical-align: middle;\n",
       "    }\n",
       "\n",
       "    .dataframe tbody tr th {\n",
       "        vertical-align: top;\n",
       "    }\n",
       "\n",
       "    .dataframe thead th {\n",
       "        text-align: right;\n",
       "    }\n",
       "</style>\n",
       "<table border=\"1\" class=\"dataframe\">\n",
       "  <thead>\n",
       "    <tr style=\"text-align: right;\">\n",
       "      <th></th>\n",
       "      <th>Happiness Category</th>\n",
       "      <th>happiness_score</th>\n",
       "    </tr>\n",
       "  </thead>\n",
       "  <tbody>\n",
       "    <tr>\n",
       "      <th>0</th>\n",
       "      <td>The most happy</td>\n",
       "      <td>7.5370</td>\n",
       "    </tr>\n",
       "    <tr>\n",
       "      <th>1</th>\n",
       "      <td>The most happy</td>\n",
       "      <td>7.5220</td>\n",
       "    </tr>\n",
       "    <tr>\n",
       "      <th>2</th>\n",
       "      <td>The most happy</td>\n",
       "      <td>7.5040</td>\n",
       "    </tr>\n",
       "    <tr>\n",
       "      <th>3</th>\n",
       "      <td>The most happy</td>\n",
       "      <td>7.4940</td>\n",
       "    </tr>\n",
       "    <tr>\n",
       "      <th>4</th>\n",
       "      <td>The most happy</td>\n",
       "      <td>7.4690</td>\n",
       "    </tr>\n",
       "    <tr>\n",
       "      <th>...</th>\n",
       "      <td>...</td>\n",
       "      <td>...</td>\n",
       "    </tr>\n",
       "    <tr>\n",
       "      <th>787</th>\n",
       "      <td>Most depressing</td>\n",
       "      <td>3.4789</td>\n",
       "    </tr>\n",
       "    <tr>\n",
       "      <th>788</th>\n",
       "      <td>Most depressing</td>\n",
       "      <td>3.4762</td>\n",
       "    </tr>\n",
       "    <tr>\n",
       "      <th>789</th>\n",
       "      <td>Most depressing</td>\n",
       "      <td>3.3123</td>\n",
       "    </tr>\n",
       "    <tr>\n",
       "      <th>790</th>\n",
       "      <td>Most depressing</td>\n",
       "      <td>3.2992</td>\n",
       "    </tr>\n",
       "    <tr>\n",
       "      <th>791</th>\n",
       "      <td>Most depressing</td>\n",
       "      <td>2.5669</td>\n",
       "    </tr>\n",
       "  </tbody>\n",
       "</table>\n",
       "<p>792 rows × 2 columns</p>\n",
       "</div>"
      ],
      "text/plain": [
       "    Happiness Category  happiness_score\n",
       "0       The most happy           7.5370\n",
       "1       The most happy           7.5220\n",
       "2       The most happy           7.5040\n",
       "3       The most happy           7.4940\n",
       "4       The most happy           7.4690\n",
       "..                 ...              ...\n",
       "787    Most depressing           3.4789\n",
       "788    Most depressing           3.4762\n",
       "789    Most depressing           3.3123\n",
       "790    Most depressing           3.2992\n",
       "791    Most depressing           2.5669\n",
       "\n",
       "[792 rows x 2 columns]"
      ]
     },
     "execution_count": 18,
     "metadata": {},
     "output_type": "execute_result"
    }
   ],
   "source": [
    "happy[['Happiness Category', 'happiness_score']]"
   ]
  },
  {
   "cell_type": "code",
   "execution_count": 19,
   "id": "c15bccae",
   "metadata": {},
   "outputs": [],
   "source": [
    "happy['Happiness Category'] = pd.Categorical(happy['Happiness Category'])"
   ]
  },
  {
   "cell_type": "code",
   "execution_count": 20,
   "id": "5a993662",
   "metadata": {
    "scrolled": true
   },
   "outputs": [
    {
     "name": "stdout",
     "output_type": "stream",
     "text": [
      "<class 'pandas.core.frame.DataFrame'>\n",
      "RangeIndex: 792 entries, 0 to 791\n",
      "Data columns (total 15 columns):\n",
      " #   Column              Non-Null Count  Dtype   \n",
      "---  ------              --------------  -----   \n",
      " 0   Country             792 non-null    object  \n",
      " 1   happiness_score     792 non-null    float64 \n",
      " 2   gdp_per_capita      792 non-null    float64 \n",
      " 3   family              792 non-null    float64 \n",
      " 4   health              792 non-null    float64 \n",
      " 5   freedom             792 non-null    float64 \n",
      " 6   generosity          792 non-null    float64 \n",
      " 7   government_trust    792 non-null    float64 \n",
      " 8   dystopia_residual   792 non-null    float64 \n",
      " 9   continent           792 non-null    object  \n",
      " 10  Year                792 non-null    int64   \n",
      " 11  social_support      792 non-null    float64 \n",
      " 12  cpi_score           792 non-null    int64   \n",
      " 13  Good cpi_score      792 non-null    int64   \n",
      " 14  Happiness Category  792 non-null    category\n",
      "dtypes: category(1), float64(9), int64(3), object(2)\n",
      "memory usage: 81.4+ KB\n"
     ]
    }
   ],
   "source": [
    "#Проверяем, что категориальная переменная отображается в нужном виде.\n",
    "happy.info()"
   ]
  },
  {
   "cell_type": "markdown",
   "id": "a369ea49",
   "metadata": {},
   "source": [
    "Для корректного формирования гипотез отобразим распределение переменных health, freedom и family на простых гистограммах."
   ]
  },
  {
   "cell_type": "code",
   "execution_count": 21,
   "id": "fa02f082",
   "metadata": {},
   "outputs": [
    {
     "data": {
      "text/plain": [
       "<AxesSubplot:>"
      ]
     },
     "execution_count": 21,
     "metadata": {},
     "output_type": "execute_result"
    },
    {
     "data": {
      "image/png": "[encoded data removed]",
      "text/plain": [
       "<Figure size 432x288 with 1 Axes>"
      ]
     },
     "metadata": {
      "needs_background": "light"
     },
     "output_type": "display_data"
    }
   ],
   "source": [
    "happy['health'].hist(bins=10)"
   ]
  },
  {
   "cell_type": "code",
   "execution_count": 22,
   "id": "f5d8c686",
   "metadata": {},
   "outputs": [
    {
     "data": {
      "text/plain": [
       "<AxesSubplot:>"
      ]
     },
     "execution_count": 22,
     "metadata": {},
     "output_type": "execute_result"
    },
    {
     "data": {
      "image/png": "[encoded data removed]",
      "text/plain": [
       "<Figure size 432x288 with 1 Axes>"
      ]
     },
     "metadata": {
      "needs_background": "light"
     },
     "output_type": "display_data"
    }
   ],
   "source": [
    "happy['freedom'].hist(bins=10)"
   ]
  },
  {
   "cell_type": "code",
   "execution_count": 23,
   "id": "519b6b04",
   "metadata": {},
   "outputs": [
    {
     "data": {
      "text/plain": [
       "<AxesSubplot:>"
      ]
     },
     "execution_count": 23,
     "metadata": {},
     "output_type": "execute_result"
    },
    {
     "data": {
      "image/png": "[encoded data removed]",
      "text/plain": [
       "<Figure size 432x288 with 1 Axes>"
      ]
     },
     "metadata": {
      "needs_background": "light"
     },
     "output_type": "display_data"
    }
   ],
   "source": [
    "happy['family'].hist(bins=10)"
   ]
  },
  {
   "cell_type": "code",
   "execution_count": 24,
   "id": "8ff9821b",
   "metadata": {},
   "outputs": [],
   "source": [
    "happy['great country'] = np.where((happy['Happiness Category'] == 'The most happy') &\n",
    "         (happy['health'] > 0.7) &\n",
    "         (happy['freedom'] > 0.65) &                       \n",
    "         (happy['family'] > 1.15), 1, 0)"
   ]
  },
  {
   "cell_type": "code",
   "execution_count": 25,
   "id": "11d112ad",
   "metadata": {},
   "outputs": [
    {
     "data": {
      "text/html": [
       "<div>\n",
       "<style scoped>\n",
       "    .dataframe tbody tr th:only-of-type {\n",
       "        vertical-align: middle;\n",
       "    }\n",
       "\n",
       "    .dataframe tbody tr th {\n",
       "        vertical-align: top;\n",
       "    }\n",
       "\n",
       "    .dataframe thead th {\n",
       "        text-align: right;\n",
       "    }\n",
       "</style>\n",
       "<table border=\"1\" class=\"dataframe\">\n",
       "  <thead>\n",
       "    <tr style=\"text-align: right;\">\n",
       "      <th></th>\n",
       "      <th>Country</th>\n",
       "      <th>happiness_score</th>\n",
       "      <th>gdp_per_capita</th>\n",
       "      <th>family</th>\n",
       "      <th>health</th>\n",
       "      <th>freedom</th>\n",
       "      <th>generosity</th>\n",
       "      <th>government_trust</th>\n",
       "      <th>dystopia_residual</th>\n",
       "      <th>continent</th>\n",
       "      <th>Year</th>\n",
       "      <th>social_support</th>\n",
       "      <th>cpi_score</th>\n",
       "      <th>Good cpi_score</th>\n",
       "      <th>Happiness Category</th>\n",
       "      <th>great country</th>\n",
       "    </tr>\n",
       "  </thead>\n",
       "  <tbody>\n",
       "    <tr>\n",
       "      <th>0</th>\n",
       "      <td>Norway</td>\n",
       "      <td>7.537</td>\n",
       "      <td>1.616463</td>\n",
       "      <td>1.533524</td>\n",
       "      <td>0.796667</td>\n",
       "      <td>0.635423</td>\n",
       "      <td>0.362012</td>\n",
       "      <td>0.315964</td>\n",
       "      <td>2.277027</td>\n",
       "      <td>Europe</td>\n",
       "      <td>2015</td>\n",
       "      <td>0.0</td>\n",
       "      <td>88</td>\n",
       "      <td>1</td>\n",
       "      <td>The most happy</td>\n",
       "      <td>0</td>\n",
       "    </tr>\n",
       "    <tr>\n",
       "      <th>1</th>\n",
       "      <td>Denmark</td>\n",
       "      <td>7.522</td>\n",
       "      <td>1.482383</td>\n",
       "      <td>1.551122</td>\n",
       "      <td>0.792566</td>\n",
       "      <td>0.626007</td>\n",
       "      <td>0.355280</td>\n",
       "      <td>0.400770</td>\n",
       "      <td>2.313707</td>\n",
       "      <td>Europe</td>\n",
       "      <td>2015</td>\n",
       "      <td>0.0</td>\n",
       "      <td>91</td>\n",
       "      <td>1</td>\n",
       "      <td>The most happy</td>\n",
       "      <td>0</td>\n",
       "    </tr>\n",
       "    <tr>\n",
       "      <th>2</th>\n",
       "      <td>Iceland</td>\n",
       "      <td>7.504</td>\n",
       "      <td>1.480633</td>\n",
       "      <td>1.610574</td>\n",
       "      <td>0.833552</td>\n",
       "      <td>0.627163</td>\n",
       "      <td>0.475540</td>\n",
       "      <td>0.153527</td>\n",
       "      <td>2.322715</td>\n",
       "      <td>Europe</td>\n",
       "      <td>2015</td>\n",
       "      <td>0.0</td>\n",
       "      <td>79</td>\n",
       "      <td>0</td>\n",
       "      <td>The most happy</td>\n",
       "      <td>0</td>\n",
       "    </tr>\n",
       "    <tr>\n",
       "      <th>3</th>\n",
       "      <td>Switzerland</td>\n",
       "      <td>7.494</td>\n",
       "      <td>1.564980</td>\n",
       "      <td>1.516912</td>\n",
       "      <td>0.858131</td>\n",
       "      <td>0.620071</td>\n",
       "      <td>0.290549</td>\n",
       "      <td>0.367007</td>\n",
       "      <td>2.276716</td>\n",
       "      <td>Europe</td>\n",
       "      <td>2015</td>\n",
       "      <td>0.0</td>\n",
       "      <td>86</td>\n",
       "      <td>1</td>\n",
       "      <td>The most happy</td>\n",
       "      <td>0</td>\n",
       "    </tr>\n",
       "    <tr>\n",
       "      <th>4</th>\n",
       "      <td>Finland</td>\n",
       "      <td>7.469</td>\n",
       "      <td>1.443572</td>\n",
       "      <td>1.540247</td>\n",
       "      <td>0.809158</td>\n",
       "      <td>0.617951</td>\n",
       "      <td>0.245483</td>\n",
       "      <td>0.382612</td>\n",
       "      <td>2.430182</td>\n",
       "      <td>Europe</td>\n",
       "      <td>2015</td>\n",
       "      <td>0.0</td>\n",
       "      <td>90</td>\n",
       "      <td>1</td>\n",
       "      <td>The most happy</td>\n",
       "      <td>0</td>\n",
       "    </tr>\n",
       "  </tbody>\n",
       "</table>\n",
       "</div>"
      ],
      "text/plain": [
       "       Country  happiness_score  gdp_per_capita    family    health   freedom  \\\n",
       "0       Norway            7.537        1.616463  1.533524  0.796667  0.635423   \n",
       "1      Denmark            7.522        1.482383  1.551122  0.792566  0.626007   \n",
       "2      Iceland            7.504        1.480633  1.610574  0.833552  0.627163   \n",
       "3  Switzerland            7.494        1.564980  1.516912  0.858131  0.620071   \n",
       "4      Finland            7.469        1.443572  1.540247  0.809158  0.617951   \n",
       "\n",
       "   generosity  government_trust  dystopia_residual continent  Year  \\\n",
       "0    0.362012          0.315964           2.277027    Europe  2015   \n",
       "1    0.355280          0.400770           2.313707    Europe  2015   \n",
       "2    0.475540          0.153527           2.322715    Europe  2015   \n",
       "3    0.290549          0.367007           2.276716    Europe  2015   \n",
       "4    0.245483          0.382612           2.430182    Europe  2015   \n",
       "\n",
       "   social_support  cpi_score  Good cpi_score Happiness Category  great country  \n",
       "0             0.0         88               1     The most happy              0  \n",
       "1             0.0         91               1     The most happy              0  \n",
       "2             0.0         79               0     The most happy              0  \n",
       "3             0.0         86               1     The most happy              0  \n",
       "4             0.0         90               1     The most happy              0  "
      ]
     },
     "execution_count": 25,
     "metadata": {},
     "output_type": "execute_result"
    }
   ],
   "source": [
    "happy.head()"
   ]
  },
  {
   "cell_type": "markdown",
   "id": "f9025b37",
   "metadata": {},
   "source": [
    "# 3. Генеральная совокупность и выборка\n",
    "\n",
    "Посмотрим частотаную таблицу для категориальной переменной Happiness Category, что отобразит то, сколько раз встречается каждая категория."
   ]
  },
  {
   "cell_type": "code",
   "execution_count": 26,
   "id": "d5d3b879",
   "metadata": {},
   "outputs": [
    {
     "data": {
      "text/plain": [
       "Sad                227\n",
       "Okay               214\n",
       "Very Sad           167\n",
       "The most happy      88\n",
       "Most depressing     54\n",
       "Happy               42\n",
       "Name: Happiness Category, dtype: int64"
      ]
     },
     "execution_count": 26,
     "metadata": {},
     "output_type": "execute_result"
    }
   ],
   "source": [
    "happy['Happiness Category'].value_counts()"
   ]
  },
  {
   "cell_type": "markdown",
   "id": "e113da6e",
   "metadata": {},
   "source": [
    "На основании нашего датасета в мире преобладают \"грустные страны\", их 227.\n",
    "\n",
    "Перейдем к группировке, отобразим суммарные значения влиялия семьи по континтетам, таким образом мы узнаем, в какой части света семья играет наибольшую роль."
   ]
  },
  {
   "cell_type": "code",
   "execution_count": 27,
   "id": "5fa7b7bf",
   "metadata": {},
   "outputs": [
    {
     "data": {
      "text/plain": [
       "continent\n",
       "Africa            77.508491\n",
       "Asia             104.572007\n",
       "Australia          7.964677\n",
       "Europe           134.630633\n",
       "North America     10.454882\n",
       "South America     64.827360\n",
       "Name: family, dtype: float64"
      ]
     },
     "execution_count": 27,
     "metadata": {},
     "output_type": "execute_result"
    }
   ],
   "source": [
    "happy.groupby('continent')['family'].sum()"
   ]
  },
  {
   "cell_type": "markdown",
   "id": "7b237ea9",
   "metadata": {},
   "source": [
    "Согласно выгружнным данным, наибольший весь семьи фиксируется в Европе, но это может быть связано с преобладанием количества стран на этом континенте.\n",
    "Также посмотрим на распределение переменной \"отличная страна\" по континентам и годам."
   ]
  },
  {
   "cell_type": "code",
   "execution_count": 28,
   "id": "18542ac0",
   "metadata": {},
   "outputs": [
    {
     "data": {
      "text/plain": [
       "continent      Year\n",
       "Africa         2015    0\n",
       "               2016    0\n",
       "               2017    0\n",
       "               2018    0\n",
       "               2019    0\n",
       "               2020    0\n",
       "Asia           2015    0\n",
       "               2016    0\n",
       "               2017    0\n",
       "               2018    0\n",
       "               2019    0\n",
       "               2020    0\n",
       "Australia      2015    0\n",
       "               2016    1\n",
       "               2017    0\n",
       "               2018    0\n",
       "               2019    0\n",
       "               2020    0\n",
       "Europe         2015    0\n",
       "               2016    3\n",
       "               2017    0\n",
       "               2018    0\n",
       "               2019    0\n",
       "               2020    0\n",
       "North America  2015    0\n",
       "               2016    0\n",
       "               2017    0\n",
       "               2018    0\n",
       "               2019    0\n",
       "               2020    0\n",
       "South America  2015    0\n",
       "               2016    0\n",
       "               2017    0\n",
       "               2018    0\n",
       "               2019    0\n",
       "               2020    0\n",
       "Name: great country, dtype: int32"
      ]
     },
     "execution_count": 28,
     "metadata": {},
     "output_type": "execute_result"
    }
   ],
   "source": [
    "happy.groupby(['continent', 'Year'])['great country'].sum()"
   ]
  },
  {
   "cell_type": "markdown",
   "id": "5b63c4e7",
   "metadata": {},
   "source": [
    "Таким образом, мы видим, что \"отличные\" условя встречались только в 2016 году в Австралии и в трех странах Европы.\n",
    "\n",
    "Визуализируем распределения категорий счастья по континентам, для этого обратимся к столбачатому графику. Для того, чтобы график отобразился в читаемом виде обратимся к функции \"unstack\", которая превратит категории в столбцы, а континенты в ряды. Получается красивый и понятный график."
   ]
  },
  {
   "cell_type": "code",
   "execution_count": 29,
   "id": "fd04029b",
   "metadata": {},
   "outputs": [
    {
     "data": {
      "text/plain": [
       "<AxesSubplot:xlabel='continent'>"
      ]
     },
     "execution_count": 29,
     "metadata": {},
     "output_type": "execute_result"
    },
    {
     "data": {
      "image/png": "[encoded data removed]",
      "text/plain": [
       "<Figure size 432x288 with 1 Axes>"
      ]
     },
     "metadata": {
      "needs_background": "light"
     },
     "output_type": "display_data"
    }
   ],
   "source": [
    "happy.groupby('continent')['Happiness Category'].value_counts().unstack().plot(kind='bar')"
   ]
  },
  {
   "cell_type": "markdown",
   "id": "88d6a909",
   "metadata": {},
   "source": [
    "Можем сделать вывод о том, что в Африке превалируют очень грустные страны, в Азии - грустные, в Европк и Южной Америке = нормальные, а в Северной Америке и в Австалии больше всего наиболее счастливых стран."
   ]
  },
  {
   "cell_type": "markdown",
   "id": "14568a20",
   "metadata": {},
   "source": [
    "# 4. Меры центральных тендеции и разброса\n",
    "\n",
    "Посмотрим на меры центральных тенденций по всем переменным сразу."
   ]
  },
  {
   "cell_type": "code",
   "execution_count": 30,
   "id": "077e56f1",
   "metadata": {},
   "outputs": [
    {
     "data": {
      "text/html": [
       "<div>\n",
       "<style scoped>\n",
       "    .dataframe tbody tr th:only-of-type {\n",
       "        vertical-align: middle;\n",
       "    }\n",
       "\n",
       "    .dataframe tbody tr th {\n",
       "        vertical-align: top;\n",
       "    }\n",
       "\n",
       "    .dataframe thead th {\n",
       "        text-align: right;\n",
       "    }\n",
       "</style>\n",
       "<table border=\"1\" class=\"dataframe\">\n",
       "  <thead>\n",
       "    <tr style=\"text-align: right;\">\n",
       "      <th></th>\n",
       "      <th>happiness_score</th>\n",
       "      <th>gdp_per_capita</th>\n",
       "      <th>family</th>\n",
       "      <th>health</th>\n",
       "      <th>freedom</th>\n",
       "      <th>generosity</th>\n",
       "      <th>government_trust</th>\n",
       "      <th>dystopia_residual</th>\n",
       "      <th>Year</th>\n",
       "      <th>social_support</th>\n",
       "      <th>cpi_score</th>\n",
       "      <th>Good cpi_score</th>\n",
       "      <th>great country</th>\n",
       "    </tr>\n",
       "  </thead>\n",
       "  <tbody>\n",
       "    <tr>\n",
       "      <th>count</th>\n",
       "      <td>792.000000</td>\n",
       "      <td>792.000000</td>\n",
       "      <td>792.000000</td>\n",
       "      <td>792.000000</td>\n",
       "      <td>792.000000</td>\n",
       "      <td>792.000000</td>\n",
       "      <td>792.000000</td>\n",
       "      <td>792.000000</td>\n",
       "      <td>792.000000</td>\n",
       "      <td>792.000000</td>\n",
       "      <td>792.000000</td>\n",
       "      <td>792.000000</td>\n",
       "      <td>792.000000</td>\n",
       "    </tr>\n",
       "    <tr>\n",
       "      <th>mean</th>\n",
       "      <td>5.473310</td>\n",
       "      <td>0.929217</td>\n",
       "      <td>0.504998</td>\n",
       "      <td>0.648691</td>\n",
       "      <td>0.427016</td>\n",
       "      <td>0.212440</td>\n",
       "      <td>0.125720</td>\n",
       "      <td>1.379277</td>\n",
       "      <td>2017.500000</td>\n",
       "      <td>0.609302</td>\n",
       "      <td>44.327020</td>\n",
       "      <td>0.078283</td>\n",
       "      <td>0.005051</td>\n",
       "    </tr>\n",
       "    <tr>\n",
       "      <th>std</th>\n",
       "      <td>1.124726</td>\n",
       "      <td>0.385774</td>\n",
       "      <td>0.552736</td>\n",
       "      <td>0.232261</td>\n",
       "      <td>0.148003</td>\n",
       "      <td>0.121660</td>\n",
       "      <td>0.109032</td>\n",
       "      <td>1.075276</td>\n",
       "      <td>1.708904</td>\n",
       "      <td>0.640754</td>\n",
       "      <td>19.508833</td>\n",
       "      <td>0.268786</td>\n",
       "      <td>0.070932</td>\n",
       "    </tr>\n",
       "    <tr>\n",
       "      <th>min</th>\n",
       "      <td>2.566900</td>\n",
       "      <td>0.000000</td>\n",
       "      <td>0.000000</td>\n",
       "      <td>0.000000</td>\n",
       "      <td>0.000000</td>\n",
       "      <td>0.000000</td>\n",
       "      <td>0.000000</td>\n",
       "      <td>0.000000</td>\n",
       "      <td>2015.000000</td>\n",
       "      <td>0.000000</td>\n",
       "      <td>11.000000</td>\n",
       "      <td>0.000000</td>\n",
       "      <td>0.000000</td>\n",
       "    </tr>\n",
       "    <tr>\n",
       "      <th>25%</th>\n",
       "      <td>4.590750</td>\n",
       "      <td>0.644242</td>\n",
       "      <td>0.000000</td>\n",
       "      <td>0.510070</td>\n",
       "      <td>0.325433</td>\n",
       "      <td>0.125784</td>\n",
       "      <td>0.052862</td>\n",
       "      <td>0.000000</td>\n",
       "      <td>2016.000000</td>\n",
       "      <td>0.000000</td>\n",
       "      <td>30.000000</td>\n",
       "      <td>0.000000</td>\n",
       "      <td>0.000000</td>\n",
       "    </tr>\n",
       "    <tr>\n",
       "      <th>50%</th>\n",
       "      <td>5.485500</td>\n",
       "      <td>0.994544</td>\n",
       "      <td>0.000000</td>\n",
       "      <td>0.685397</td>\n",
       "      <td>0.439621</td>\n",
       "      <td>0.197000</td>\n",
       "      <td>0.089000</td>\n",
       "      <td>1.731948</td>\n",
       "      <td>2017.500000</td>\n",
       "      <td>0.176214</td>\n",
       "      <td>38.000000</td>\n",
       "      <td>0.000000</td>\n",
       "      <td>0.000000</td>\n",
       "    </tr>\n",
       "    <tr>\n",
       "      <th>75%</th>\n",
       "      <td>6.300500</td>\n",
       "      <td>1.228677</td>\n",
       "      <td>1.040410</td>\n",
       "      <td>0.815641</td>\n",
       "      <td>0.546280</td>\n",
       "      <td>0.273250</td>\n",
       "      <td>0.154250</td>\n",
       "      <td>2.236894</td>\n",
       "      <td>2019.000000</td>\n",
       "      <td>1.268250</td>\n",
       "      <td>57.000000</td>\n",
       "      <td>0.000000</td>\n",
       "      <td>0.000000</td>\n",
       "    </tr>\n",
       "    <tr>\n",
       "      <th>max</th>\n",
       "      <td>7.808700</td>\n",
       "      <td>2.096000</td>\n",
       "      <td>1.610574</td>\n",
       "      <td>1.141000</td>\n",
       "      <td>0.724000</td>\n",
       "      <td>0.838075</td>\n",
       "      <td>0.551910</td>\n",
       "      <td>3.602140</td>\n",
       "      <td>2020.000000</td>\n",
       "      <td>1.644000</td>\n",
       "      <td>91.000000</td>\n",
       "      <td>1.000000</td>\n",
       "      <td>1.000000</td>\n",
       "    </tr>\n",
       "  </tbody>\n",
       "</table>\n",
       "</div>"
      ],
      "text/plain": [
       "       happiness_score  gdp_per_capita      family      health     freedom  \\\n",
       "count       792.000000      792.000000  792.000000  792.000000  792.000000   \n",
       "mean          5.473310        0.929217    0.504998    0.648691    0.427016   \n",
       "std           1.124726        0.385774    0.552736    0.232261    0.148003   \n",
       "min           2.566900        0.000000    0.000000    0.000000    0.000000   \n",
       "25%           4.590750        0.644242    0.000000    0.510070    0.325433   \n",
       "50%           5.485500        0.994544    0.000000    0.685397    0.439621   \n",
       "75%           6.300500        1.228677    1.040410    0.815641    0.546280   \n",
       "max           7.808700        2.096000    1.610574    1.141000    0.724000   \n",
       "\n",
       "       generosity  government_trust  dystopia_residual         Year  \\\n",
       "count  792.000000        792.000000         792.000000   792.000000   \n",
       "mean     0.212440          0.125720           1.379277  2017.500000   \n",
       "std      0.121660          0.109032           1.075276     1.708904   \n",
       "min      0.000000          0.000000           0.000000  2015.000000   \n",
       "25%      0.125784          0.052862           0.000000  2016.000000   \n",
       "50%      0.197000          0.089000           1.731948  2017.500000   \n",
       "75%      0.273250          0.154250           2.236894  2019.000000   \n",
       "max      0.838075          0.551910           3.602140  2020.000000   \n",
       "\n",
       "       social_support   cpi_score  Good cpi_score  great country  \n",
       "count      792.000000  792.000000      792.000000     792.000000  \n",
       "mean         0.609302   44.327020        0.078283       0.005051  \n",
       "std          0.640754   19.508833        0.268786       0.070932  \n",
       "min          0.000000   11.000000        0.000000       0.000000  \n",
       "25%          0.000000   30.000000        0.000000       0.000000  \n",
       "50%          0.176214   38.000000        0.000000       0.000000  \n",
       "75%          1.268250   57.000000        0.000000       0.000000  \n",
       "max          1.644000   91.000000        1.000000       1.000000  "
      ]
     },
     "execution_count": 30,
     "metadata": {},
     "output_type": "execute_result"
    }
   ],
   "source": [
    "happy.describe()"
   ]
  },
  {
   "cell_type": "markdown",
   "id": "d6b989ad",
   "metadata": {},
   "source": [
    "Сгруппируем наш датасет по годам и отобразим выявим динамику среднего ВВП на душу населения по среднему арифметическому, моде и медиане."
   ]
  },
  {
   "cell_type": "code",
   "execution_count": 31,
   "id": "d59fae49",
   "metadata": {},
   "outputs": [
    {
     "data": {
      "text/plain": [
       "<AxesSubplot:xlabel='Year'>"
      ]
     },
     "execution_count": 31,
     "metadata": {},
     "output_type": "execute_result"
    },
    {
     "data": {
      "image/png": "[encoded data removed]",
      "text/plain": [
       "<Figure size 432x288 with 1 Axes>"
      ]
     },
     "metadata": {
      "needs_background": "light"
     },
     "output_type": "display_data"
    }
   ],
   "source": [
    "happy.groupby('Year')['gdp_per_capita'].agg(pd.Series.mean).plot(kind='bar')"
   ]
  },
  {
   "cell_type": "markdown",
   "id": "e4dc7eda",
   "metadata": {},
   "source": [
    "На осоновании графика выше можно сделать вывод о том, что к 2020 году ВВП на душу населения сократилось относительно 2015 года.\n",
    "Теперь посмотрим на динамику медианы в соответствии с распределением по континентам."
   ]
  },
  {
   "cell_type": "code",
   "execution_count": 32,
   "id": "53512b46",
   "metadata": {
    "scrolled": true
   },
   "outputs": [
    {
     "data": {
      "text/plain": [
       "Year  continent    \n",
       "2015  Africa           0.495222\n",
       "      Asia             1.027236\n",
       "      Australia        1.445060\n",
       "      Europe           1.323136\n",
       "      North America    1.479204\n",
       "      South America    1.018023\n",
       "2016  Africa           0.353320\n",
       "      Asia             0.890120\n",
       "      Australia        1.291880\n",
       "      Europe           1.164410\n",
       "      North America    1.326290\n",
       "      South America    0.879695\n",
       "2017  Africa           0.463000\n",
       "      Asia             0.949000\n",
       "      Australia        1.337500\n",
       "      Europe           1.242000\n",
       "      North America    1.365000\n",
       "      South America    0.936000\n",
       "2018  Africa           0.442000\n",
       "      Asia             0.918000\n",
       "      Australia        1.304000\n",
       "      Europe           1.205000\n",
       "      North America    1.330000\n",
       "      South America    0.911500\n",
       "2019  Africa           0.457345\n",
       "      Asia             0.996730\n",
       "      Australia        1.402545\n",
       "      Europe           1.279685\n",
       "      North America    1.440150\n",
       "      South America    0.984540\n",
       "2020  Africa           0.466788\n",
       "      Asia             0.897987\n",
       "      Australia        1.276357\n",
       "      Europe           1.194199\n",
       "      North America    1.301648\n",
       "      South America    0.875687\n",
       "Name: gdp_per_capita, dtype: float64"
      ]
     },
     "execution_count": 32,
     "metadata": {},
     "output_type": "execute_result"
    }
   ],
   "source": [
    "happy.groupby(['Year', 'continent'])['gdp_per_capita'].agg(pd.Series.median)"
   ]
  },
  {
   "cell_type": "markdown",
   "id": "121b8d1c",
   "metadata": {},
   "source": [
    "Проанализируем модальные значения для категорий счастья по континентам, далее выявим среднее и медиану по переменной \"уровня счастья\" для каждого континента."
   ]
  },
  {
   "cell_type": "code",
   "execution_count": 33,
   "id": "2c0d33bf",
   "metadata": {},
   "outputs": [
    {
     "data": {
      "text/plain": [
       "continent\n",
       "Africa                 Very Sad\n",
       "Asia                        Sad\n",
       "Australia        The most happy\n",
       "Europe                     Okay\n",
       "North America    The most happy\n",
       "South America              Okay\n",
       "Name: Happiness Category, dtype: object"
      ]
     },
     "execution_count": 33,
     "metadata": {},
     "output_type": "execute_result"
    }
   ],
   "source": [
    "happy.groupby('continent')['Happiness Category'].agg(lambda x: x.value_counts().index[0])"
   ]
  },
  {
   "cell_type": "code",
   "execution_count": 34,
   "id": "098d9a80",
   "metadata": {},
   "outputs": [
    {
     "data": {
      "text/html": [
       "<div>\n",
       "<style scoped>\n",
       "    .dataframe tbody tr th:only-of-type {\n",
       "        vertical-align: middle;\n",
       "    }\n",
       "\n",
       "    .dataframe tbody tr th {\n",
       "        vertical-align: top;\n",
       "    }\n",
       "\n",
       "    .dataframe thead th {\n",
       "        text-align: right;\n",
       "    }\n",
       "</style>\n",
       "<table border=\"1\" class=\"dataframe\">\n",
       "  <thead>\n",
       "    <tr style=\"text-align: right;\">\n",
       "      <th></th>\n",
       "      <th>mean</th>\n",
       "      <th>median</th>\n",
       "    </tr>\n",
       "    <tr>\n",
       "      <th>continent</th>\n",
       "      <th></th>\n",
       "      <th></th>\n",
       "    </tr>\n",
       "  </thead>\n",
       "  <tbody>\n",
       "    <tr>\n",
       "      <th>Africa</th>\n",
       "      <td>4.353944</td>\n",
       "      <td>4.3680</td>\n",
       "    </tr>\n",
       "    <tr>\n",
       "      <th>Asia</th>\n",
       "      <td>5.267553</td>\n",
       "      <td>5.2395</td>\n",
       "    </tr>\n",
       "    <tr>\n",
       "      <th>Australia</th>\n",
       "      <td>7.289033</td>\n",
       "      <td>7.2928</td>\n",
       "    </tr>\n",
       "    <tr>\n",
       "      <th>Europe</th>\n",
       "      <td>6.193717</td>\n",
       "      <td>6.0459</td>\n",
       "    </tr>\n",
       "    <tr>\n",
       "      <th>North America</th>\n",
       "      <td>7.000539</td>\n",
       "      <td>7.0485</td>\n",
       "    </tr>\n",
       "    <tr>\n",
       "      <th>South America</th>\n",
       "      <td>5.865516</td>\n",
       "      <td>6.0055</td>\n",
       "    </tr>\n",
       "  </tbody>\n",
       "</table>\n",
       "</div>"
      ],
      "text/plain": [
       "                   mean  median\n",
       "continent                      \n",
       "Africa         4.353944  4.3680\n",
       "Asia           5.267553  5.2395\n",
       "Australia      7.289033  7.2928\n",
       "Europe         6.193717  6.0459\n",
       "North America  7.000539  7.0485\n",
       "South America  5.865516  6.0055"
      ]
     },
     "execution_count": 34,
     "metadata": {},
     "output_type": "execute_result"
    }
   ],
   "source": [
    "happy.groupby('continent')['happiness_score'].agg(['mean', 'median'])"
   ]
  },
  {
   "cell_type": "markdown",
   "id": "ab474906",
   "metadata": {},
   "source": [
    "Выведенные цифры подтверждают наше суждение о том, что наиболее счастливые страны расположены в Северной Америке и в Австралии.\n",
    "Сформируем пивотальную таблицу по медиане и среднем значениям по уровням отношения к коррупции, также учтем уровени счастья и доверия государству в разбивке по континентам. "
   ]
  },
  {
   "cell_type": "code",
   "execution_count": 35,
   "id": "b94f82c2",
   "metadata": {
    "scrolled": true
   },
   "outputs": [
    {
     "data": {
      "text/html": [
       "<div>\n",
       "<style scoped>\n",
       "    .dataframe tbody tr th:only-of-type {\n",
       "        vertical-align: middle;\n",
       "    }\n",
       "\n",
       "    .dataframe tbody tr th {\n",
       "        vertical-align: top;\n",
       "    }\n",
       "\n",
       "    .dataframe thead tr th {\n",
       "        text-align: left;\n",
       "    }\n",
       "\n",
       "    .dataframe thead tr:last-of-type th {\n",
       "        text-align: right;\n",
       "    }\n",
       "</style>\n",
       "<table border=\"1\" class=\"dataframe\">\n",
       "  <thead>\n",
       "    <tr>\n",
       "      <th></th>\n",
       "      <th colspan=\"3\" halign=\"left\">mean</th>\n",
       "      <th colspan=\"3\" halign=\"left\">median</th>\n",
       "    </tr>\n",
       "    <tr>\n",
       "      <th></th>\n",
       "      <th>cpi_score</th>\n",
       "      <th>government_trust</th>\n",
       "      <th>happiness_score</th>\n",
       "      <th>cpi_score</th>\n",
       "      <th>government_trust</th>\n",
       "      <th>happiness_score</th>\n",
       "    </tr>\n",
       "    <tr>\n",
       "      <th>continent</th>\n",
       "      <th></th>\n",
       "      <th></th>\n",
       "      <th></th>\n",
       "      <th></th>\n",
       "      <th></th>\n",
       "      <th></th>\n",
       "    </tr>\n",
       "  </thead>\n",
       "  <tbody>\n",
       "    <tr>\n",
       "      <th>Africa</th>\n",
       "      <td>34.197917</td>\n",
       "      <td>0.099369</td>\n",
       "      <td>4.353944</td>\n",
       "      <td>33.0</td>\n",
       "      <td>0.082000</td>\n",
       "      <td>4.3680</td>\n",
       "    </tr>\n",
       "    <tr>\n",
       "      <th>Asia</th>\n",
       "      <td>38.076577</td>\n",
       "      <td>0.126775</td>\n",
       "      <td>5.267553</td>\n",
       "      <td>35.5</td>\n",
       "      <td>0.104629</td>\n",
       "      <td>5.2395</td>\n",
       "    </tr>\n",
       "    <tr>\n",
       "      <th>Australia</th>\n",
       "      <td>83.166667</td>\n",
       "      <td>0.364184</td>\n",
       "      <td>7.289033</td>\n",
       "      <td>83.0</td>\n",
       "      <td>0.368185</td>\n",
       "      <td>7.2928</td>\n",
       "    </tr>\n",
       "    <tr>\n",
       "      <th>Europe</th>\n",
       "      <td>59.793860</td>\n",
       "      <td>0.145965</td>\n",
       "      <td>6.193717</td>\n",
       "      <td>59.0</td>\n",
       "      <td>0.077758</td>\n",
       "      <td>6.0459</td>\n",
       "    </tr>\n",
       "    <tr>\n",
       "      <th>North America</th>\n",
       "      <td>60.666667</td>\n",
       "      <td>0.195445</td>\n",
       "      <td>7.000539</td>\n",
       "      <td>72.5</td>\n",
       "      <td>0.155592</td>\n",
       "      <td>7.0485</td>\n",
       "    </tr>\n",
       "    <tr>\n",
       "      <th>South America</th>\n",
       "      <td>36.375000</td>\n",
       "      <td>0.093155</td>\n",
       "      <td>5.865516</td>\n",
       "      <td>34.0</td>\n",
       "      <td>0.086377</td>\n",
       "      <td>6.0055</td>\n",
       "    </tr>\n",
       "  </tbody>\n",
       "</table>\n",
       "</div>"
      ],
      "text/plain": [
       "                    mean                                     median  \\\n",
       "               cpi_score government_trust happiness_score cpi_score   \n",
       "continent                                                             \n",
       "Africa         34.197917         0.099369        4.353944      33.0   \n",
       "Asia           38.076577         0.126775        5.267553      35.5   \n",
       "Australia      83.166667         0.364184        7.289033      83.0   \n",
       "Europe         59.793860         0.145965        6.193717      59.0   \n",
       "North America  60.666667         0.195445        7.000539      72.5   \n",
       "South America  36.375000         0.093155        5.865516      34.0   \n",
       "\n",
       "                                                \n",
       "              government_trust happiness_score  \n",
       "continent                                       \n",
       "Africa                0.082000          4.3680  \n",
       "Asia                  0.104629          5.2395  \n",
       "Australia             0.368185          7.2928  \n",
       "Europe                0.077758          6.0459  \n",
       "North America         0.155592          7.0485  \n",
       "South America         0.086377          6.0055  "
      ]
     },
     "execution_count": 35,
     "metadata": {},
     "output_type": "execute_result"
    }
   ],
   "source": [
    "happy.pivot_table(index='continent', \n",
    "                  values=['happiness_score', 'government_trust', 'cpi_score'],\n",
    "                  aggfunc=['mean', 'median'])"
   ]
  },
  {
   "cell_type": "markdown",
   "id": "ed938f6b",
   "metadata": {},
   "source": [
    "Перейдем к анализу мер размахов по переменной \"уровень счастья\" в соответствии с годами"
   ]
  },
  {
   "cell_type": "code",
   "execution_count": 36,
   "id": "803fcc3b",
   "metadata": {},
   "outputs": [],
   "source": [
    "happy_by_year = pd.DataFrame(happy.groupby('Year')['happiness_score'].sum())"
   ]
  },
  {
   "cell_type": "code",
   "execution_count": 37,
   "id": "afc65b8e",
   "metadata": {},
   "outputs": [
    {
     "data": {
      "text/plain": [
       "<bound method NDFrame.describe of       happiness_score\n",
       "Year                 \n",
       "2015       717.747999\n",
       "2016       718.112000\n",
       "2017       726.904000\n",
       "2018       721.340000\n",
       "2019       716.853000\n",
       "2020       733.904399>"
      ]
     },
     "execution_count": 37,
     "metadata": {},
     "output_type": "execute_result"
    }
   ],
   "source": [
    "happy_by_year.describe"
   ]
  },
  {
   "cell_type": "code",
   "execution_count": 38,
   "id": "cd104b61",
   "metadata": {},
   "outputs": [
    {
     "data": {
      "text/plain": [
       "<AxesSubplot:xlabel='Year'>"
      ]
     },
     "execution_count": 38,
     "metadata": {},
     "output_type": "execute_result"
    },
    {
     "data": {
      "image/png": "[encoded data removed]",
      "text/plain": [
       "<Figure size 432x288 with 1 Axes>"
      ]
     },
     "metadata": {
      "needs_background": "light"
     },
     "output_type": "display_data"
    }
   ],
   "source": [
    "happy_by_year.plot(kind='bar')"
   ]
  },
  {
   "cell_type": "code",
   "execution_count": 39,
   "id": "4a9b1d2c",
   "metadata": {},
   "outputs": [
    {
     "data": {
      "text/plain": [
       "17.05139915699999"
      ]
     },
     "execution_count": 39,
     "metadata": {},
     "output_type": "execute_result"
    }
   ],
   "source": [
    "# размах\n",
    "happy_by_year['happiness_score'].max() - happy_by_year['happiness_score'].min()"
   ]
  },
  {
   "cell_type": "code",
   "execution_count": 40,
   "id": "ec9847b2",
   "metadata": {},
   "outputs": [
    {
     "data": {
      "text/plain": [
       "7.674000426750013"
      ]
     },
     "execution_count": 40,
     "metadata": {},
     "output_type": "execute_result"
    }
   ],
   "source": [
    "# интерквартильный размах\n",
    "happy_by_year['happiness_score'].quantile(0.75) - happy_by_year['happiness_score'].quantile(0.25)"
   ]
  },
  {
   "cell_type": "code",
   "execution_count": 41,
   "id": "fd10320b",
   "metadata": {},
   "outputs": [
    {
     "name": "stdout",
     "output_type": "stream",
     "text": [
      "717.83899957325\n",
      "717.83899957325\n"
     ]
    }
   ],
   "source": [
    "# перцентили\n",
    "print(np.percentile(happy_by_year['happiness_score'], 25))\n",
    "print(np.quantile(happy_by_year['happiness_score'], 0.25))"
   ]
  },
  {
   "cell_type": "code",
   "execution_count": 42,
   "id": "13b473e7",
   "metadata": {},
   "outputs": [
    {
     "name": "stdout",
     "output_type": "stream",
     "text": [
      "37.420432802453824\n",
      "6.117224272695405\n"
     ]
    }
   ],
   "source": [
    "#дисперсия и ср.квадратичное отклонение для генеральной совокупности\n",
    "print(happy_by_year['happiness_score'].var(ddof=0))\n",
    "print(happy_by_year['happiness_score'].std(ddof=0))"
   ]
  },
  {
   "cell_type": "markdown",
   "id": "8b124c72",
   "metadata": {},
   "source": [
    "# 5. Z-оценка. Выбросы\n",
    "\n",
    "Проверим отношение к коррупции по континентам. "
   ]
  },
  {
   "cell_type": "code",
   "execution_count": 43,
   "id": "b5d4e299",
   "metadata": {},
   "outputs": [
    {
     "data": {
      "text/plain": [
       "<AxesSubplot:>"
      ]
     },
     "execution_count": 43,
     "metadata": {},
     "output_type": "execute_result"
    },
    {
     "data": {
      "image/png": "[encoded data removed]",
      "text/plain": [
       "<Figure size 432x288 with 1 Axes>"
      ]
     },
     "metadata": {
      "needs_background": "light"
     },
     "output_type": "display_data"
    }
   ],
   "source": [
    "happy['cpi_score'].hist(bins=10)"
   ]
  },
  {
   "cell_type": "code",
   "execution_count": 44,
   "id": "6152a43c",
   "metadata": {},
   "outputs": [],
   "source": [
    "EU = happy[happy['continent'] == 'Europe'] # EU = Европа\n",
    "NA = happy[happy['continent'] == 'North America'] # NA = Севереная Америка\n",
    "SA = happy[happy['continent'] == 'South America'] # NA = Южная Америка\n",
    "AU = happy[happy['continent'] == 'Australia'] # AU = Австралия\n",
    "Asia = happy[happy['continent'] == 'Asia']\n",
    "Africa = happy[happy['continent'] == 'Africa']"
   ]
  },
  {
   "cell_type": "code",
   "execution_count": 45,
   "id": "1f538bad",
   "metadata": {},
   "outputs": [
    {
     "data": {
      "text/plain": [
       "<AxesSubplot:>"
      ]
     },
     "execution_count": 45,
     "metadata": {},
     "output_type": "execute_result"
    },
    {
     "data": {
      "image/png": "[encoded data removed]",
      "text/plain": [
       "<Figure size 432x288 with 1 Axes>"
      ]
     },
     "metadata": {
      "needs_background": "light"
     },
     "output_type": "display_data"
    }
   ],
   "source": [
    "EU['cpi_score'].hist()"
   ]
  },
  {
   "cell_type": "code",
   "execution_count": 46,
   "id": "0e79bb55",
   "metadata": {},
   "outputs": [
    {
     "data": {
      "text/plain": [
       "<AxesSubplot:>"
      ]
     },
     "execution_count": 46,
     "metadata": {},
     "output_type": "execute_result"
    },
    {
     "data": {
      "image/png": "[encoded data removed]",
      "text/plain": [
       "<Figure size 432x288 with 1 Axes>"
      ]
     },
     "metadata": {
      "needs_background": "light"
     },
     "output_type": "display_data"
    }
   ],
   "source": [
    "NA['cpi_score'].hist()"
   ]
  },
  {
   "cell_type": "code",
   "execution_count": 47,
   "id": "f9e11735",
   "metadata": {},
   "outputs": [
    {
     "data": {
      "text/plain": [
       "<AxesSubplot:>"
      ]
     },
     "execution_count": 47,
     "metadata": {},
     "output_type": "execute_result"
    },
    {
     "data": {
      "image/png": "[encoded data removed]",
      "text/plain": [
       "<Figure size 432x288 with 1 Axes>"
      ]
     },
     "metadata": {
      "needs_background": "light"
     },
     "output_type": "display_data"
    }
   ],
   "source": [
    "SA['cpi_score'].hist()"
   ]
  },
  {
   "cell_type": "code",
   "execution_count": 48,
   "id": "b37ccb3b",
   "metadata": {},
   "outputs": [
    {
     "data": {
      "text/plain": [
       "<AxesSubplot:>"
      ]
     },
     "execution_count": 48,
     "metadata": {},
     "output_type": "execute_result"
    },
    {
     "data": {
      "image/png": "[encoded data removed]",
      "text/plain": [
       "<Figure size 432x288 with 1 Axes>"
      ]
     },
     "metadata": {
      "needs_background": "light"
     },
     "output_type": "display_data"
    }
   ],
   "source": [
    "AU['cpi_score'].hist()"
   ]
  },
  {
   "cell_type": "code",
   "execution_count": 49,
   "id": "26c85539",
   "metadata": {},
   "outputs": [
    {
     "data": {
      "text/plain": [
       "<AxesSubplot:>"
      ]
     },
     "execution_count": 49,
     "metadata": {},
     "output_type": "execute_result"
    },
    {
     "data": {
      "image/png": "[encoded data removed]",
      "text/plain": [
       "<Figure size 432x288 with 1 Axes>"
      ]
     },
     "metadata": {
      "needs_background": "light"
     },
     "output_type": "display_data"
    }
   ],
   "source": [
    "Asia['cpi_score'].hist()"
   ]
  },
  {
   "cell_type": "code",
   "execution_count": 50,
   "id": "60e239c4",
   "metadata": {},
   "outputs": [
    {
     "data": {
      "text/plain": [
       "<AxesSubplot:>"
      ]
     },
     "execution_count": 50,
     "metadata": {},
     "output_type": "execute_result"
    },
    {
     "data": {
      "image/png": "[encoded data removed]",
      "text/plain": [
       "<Figure size 432x288 with 1 Axes>"
      ]
     },
     "metadata": {
      "needs_background": "light"
     },
     "output_type": "display_data"
    }
   ],
   "source": [
    "Africa['cpi_score'].hist()"
   ]
  },
  {
   "cell_type": "markdown",
   "id": "cc888b24",
   "metadata": {},
   "source": [
    "Отобразив распределения отношения к коррупции по континентам за весь анализируемый период мы видим достаточно сильную динамику и различия в разрбросах.\n",
    "Наилучшее отношение к коррупции фиксируется в странах Австралии - разброс примерно от 75 до 95, при этом от 79 до 89 значений нет. Также зафиксировано интресное распределение по старанам Северной Америки - разброс в диапазоне 30 и 69-85, между 30 и 69 оценок нет.\n",
    "\n",
    "Для выявления z-score для генеральной совокупности приступаем к стандартизации по каждому континенту через библиотеку scipy."
   ]
  },
  {
   "cell_type": "code",
   "execution_count": 51,
   "id": "81af0d5a",
   "metadata": {},
   "outputs": [
    {
     "data": {
      "text/plain": [
       "0      1.522723\n",
       "1      1.684679\n",
       "2      1.036853\n",
       "3      1.414752\n",
       "4      1.630694\n",
       "         ...   \n",
       "731   -0.528726\n",
       "732   -0.690683\n",
       "745   -0.852639\n",
       "753   -1.284523\n",
       "768   -1.446480\n",
       "Name: cpi_score, Length: 228, dtype: float64"
      ]
     },
     "execution_count": 51,
     "metadata": {},
     "output_type": "execute_result"
    }
   ],
   "source": [
    "scipy.stats.zscore(EU['cpi_score'])"
   ]
  },
  {
   "cell_type": "markdown",
   "id": "7d1039ab",
   "metadata": {},
   "source": [
    "Создадим колонку z-score со значениями по континентам."
   ]
  },
  {
   "cell_type": "code",
   "execution_count": 52,
   "id": "818cac75",
   "metadata": {},
   "outputs": [
    {
     "name": "stderr",
     "output_type": "stream",
     "text": [
      "C:\\Users\\Public\\Documents\\Wondershare\\CreatorTemp\\ipykernel_10224\\4248269291.py:1: SettingWithCopyWarning: \n",
      "A value is trying to be set on a copy of a slice from a DataFrame.\n",
      "Try using .loc[row_indexer,col_indexer] = value instead\n",
      "\n",
      "See the caveats in the documentation: https://pandas.pydata.org/pandas-docs/stable/user_guide/indexing.html#returning-a-view-versus-a-copy\n",
      "  EU['z-score'] = scipy.stats.zscore(EU['cpi_score'])\n"
     ]
    }
   ],
   "source": [
    "EU['z-score'] = scipy.stats.zscore(EU['cpi_score'])"
   ]
  },
  {
   "cell_type": "code",
   "execution_count": 53,
   "id": "80dced61",
   "metadata": {},
   "outputs": [
    {
     "name": "stderr",
     "output_type": "stream",
     "text": [
      "C:\\Users\\Public\\Documents\\Wondershare\\CreatorTemp\\ipykernel_10224\\227385024.py:1: SettingWithCopyWarning: \n",
      "A value is trying to be set on a copy of a slice from a DataFrame.\n",
      "Try using .loc[row_indexer,col_indexer] = value instead\n",
      "\n",
      "See the caveats in the documentation: https://pandas.pydata.org/pandas-docs/stable/user_guide/indexing.html#returning-a-view-versus-a-copy\n",
      "  NA['z-score'] = scipy.stats.zscore(NA['cpi_score'])\n"
     ]
    }
   ],
   "source": [
    "NA['z-score'] = scipy.stats.zscore(NA['cpi_score'])"
   ]
  },
  {
   "cell_type": "code",
   "execution_count": 54,
   "id": "8a5e928b",
   "metadata": {},
   "outputs": [
    {
     "name": "stderr",
     "output_type": "stream",
     "text": [
      "C:\\Users\\Public\\Documents\\Wondershare\\CreatorTemp\\ipykernel_10224\\3328046054.py:1: SettingWithCopyWarning: \n",
      "A value is trying to be set on a copy of a slice from a DataFrame.\n",
      "Try using .loc[row_indexer,col_indexer] = value instead\n",
      "\n",
      "See the caveats in the documentation: https://pandas.pydata.org/pandas-docs/stable/user_guide/indexing.html#returning-a-view-versus-a-copy\n",
      "  SA['z-score'] = scipy.stats.zscore(SA['cpi_score'])\n"
     ]
    }
   ],
   "source": [
    "SA['z-score'] = scipy.stats.zscore(SA['cpi_score'])"
   ]
  },
  {
   "cell_type": "code",
   "execution_count": 55,
   "id": "20506a55",
   "metadata": {},
   "outputs": [
    {
     "name": "stderr",
     "output_type": "stream",
     "text": [
      "C:\\Users\\Public\\Documents\\Wondershare\\CreatorTemp\\ipykernel_10224\\3056301863.py:1: SettingWithCopyWarning: \n",
      "A value is trying to be set on a copy of a slice from a DataFrame.\n",
      "Try using .loc[row_indexer,col_indexer] = value instead\n",
      "\n",
      "See the caveats in the documentation: https://pandas.pydata.org/pandas-docs/stable/user_guide/indexing.html#returning-a-view-versus-a-copy\n",
      "  AU['z-score'] = scipy.stats.zscore(AU['cpi_score'])\n"
     ]
    }
   ],
   "source": [
    "AU['z-score'] = scipy.stats.zscore(AU['cpi_score'])"
   ]
  },
  {
   "cell_type": "code",
   "execution_count": 56,
   "id": "ec9d8f6d",
   "metadata": {},
   "outputs": [
    {
     "name": "stderr",
     "output_type": "stream",
     "text": [
      "C:\\Users\\Public\\Documents\\Wondershare\\CreatorTemp\\ipykernel_10224\\716030464.py:1: SettingWithCopyWarning: \n",
      "A value is trying to be set on a copy of a slice from a DataFrame.\n",
      "Try using .loc[row_indexer,col_indexer] = value instead\n",
      "\n",
      "See the caveats in the documentation: https://pandas.pydata.org/pandas-docs/stable/user_guide/indexing.html#returning-a-view-versus-a-copy\n",
      "  Asia['z-score'] = scipy.stats.zscore(Asia['cpi_score'])\n"
     ]
    }
   ],
   "source": [
    "Asia['z-score'] = scipy.stats.zscore(Asia['cpi_score'])"
   ]
  },
  {
   "cell_type": "code",
   "execution_count": 57,
   "id": "6e31652a",
   "metadata": {},
   "outputs": [
    {
     "name": "stderr",
     "output_type": "stream",
     "text": [
      "C:\\Users\\Public\\Documents\\Wondershare\\CreatorTemp\\ipykernel_10224\\126439123.py:1: SettingWithCopyWarning: \n",
      "A value is trying to be set on a copy of a slice from a DataFrame.\n",
      "Try using .loc[row_indexer,col_indexer] = value instead\n",
      "\n",
      "See the caveats in the documentation: https://pandas.pydata.org/pandas-docs/stable/user_guide/indexing.html#returning-a-view-versus-a-copy\n",
      "  Africa['z-score'] = scipy.stats.zscore(Africa['cpi_score'])\n"
     ]
    }
   ],
   "source": [
    "Africa['z-score'] = scipy.stats.zscore(Africa['cpi_score'])"
   ]
  },
  {
   "cell_type": "code",
   "execution_count": 58,
   "id": "2f77f410",
   "metadata": {},
   "outputs": [],
   "source": [
    "happy = pd.concat([EU, NA, SA, AU, Asia, Africa])"
   ]
  },
  {
   "cell_type": "markdown",
   "id": "63d51baf",
   "metadata": {},
   "source": [
    "Сравним z-score "
   ]
  },
  {
   "cell_type": "code",
   "execution_count": 59,
   "id": "e6883972",
   "metadata": {},
   "outputs": [
    {
     "data": {
      "text/plain": [
       "<AxesSubplot:>"
      ]
     },
     "execution_count": 59,
     "metadata": {},
     "output_type": "execute_result"
    },
    {
     "data": {
      "image/png": "[encoded data removed]",
      "text/plain": [
       "<Figure size 432x288 with 1 Axes>"
      ]
     },
     "metadata": {
      "needs_background": "light"
     },
     "output_type": "display_data"
    }
   ],
   "source": [
    "happy['z-score'].hist()"
   ]
  },
  {
   "cell_type": "markdown",
   "id": "b10e7088",
   "metadata": {},
   "source": [
    "Получается, что основное распределение у нас от -1 до 1. Посмотрим, по каким странам фиксируется наихудшее отношение к коррупции (от -1.5). "
   ]
  },
  {
   "cell_type": "code",
   "execution_count": 60,
   "id": "eebbf138",
   "metadata": {},
   "outputs": [
    {
     "data": {
      "text/html": [
       "<div>\n",
       "<style scoped>\n",
       "    .dataframe tbody tr th:only-of-type {\n",
       "        vertical-align: middle;\n",
       "    }\n",
       "\n",
       "    .dataframe tbody tr th {\n",
       "        vertical-align: top;\n",
       "    }\n",
       "\n",
       "    .dataframe thead th {\n",
       "        text-align: right;\n",
       "    }\n",
       "</style>\n",
       "<table border=\"1\" class=\"dataframe\">\n",
       "  <thead>\n",
       "    <tr style=\"text-align: right;\">\n",
       "      <th></th>\n",
       "      <th>Country</th>\n",
       "      <th>happiness_score</th>\n",
       "      <th>gdp_per_capita</th>\n",
       "      <th>family</th>\n",
       "      <th>health</th>\n",
       "      <th>freedom</th>\n",
       "      <th>generosity</th>\n",
       "      <th>government_trust</th>\n",
       "      <th>dystopia_residual</th>\n",
       "      <th>continent</th>\n",
       "      <th>Year</th>\n",
       "      <th>social_support</th>\n",
       "      <th>cpi_score</th>\n",
       "      <th>Good cpi_score</th>\n",
       "      <th>Happiness Category</th>\n",
       "      <th>great country</th>\n",
       "      <th>z-score</th>\n",
       "    </tr>\n",
       "  </thead>\n",
       "  <tbody>\n",
       "    <tr>\n",
       "      <th>44</th>\n",
       "      <td>Russia</td>\n",
       "      <td>5.9630</td>\n",
       "      <td>1.281778</td>\n",
       "      <td>1.469282</td>\n",
       "      <td>0.547349</td>\n",
       "      <td>0.373783</td>\n",
       "      <td>0.052264</td>\n",
       "      <td>0.032963</td>\n",
       "      <td>2.205607</td>\n",
       "      <td>Europe</td>\n",
       "      <td>2015</td>\n",
       "      <td>0.000000</td>\n",
       "      <td>29</td>\n",
       "      <td>0</td>\n",
       "      <td>Okay</td>\n",
       "      <td>0</td>\n",
       "      <td>-1.662422</td>\n",
       "    </tr>\n",
       "    <tr>\n",
       "      <th>59</th>\n",
       "      <td>Belarus</td>\n",
       "      <td>5.5690</td>\n",
       "      <td>1.156558</td>\n",
       "      <td>1.444945</td>\n",
       "      <td>0.637714</td>\n",
       "      <td>0.295400</td>\n",
       "      <td>0.155138</td>\n",
       "      <td>0.156314</td>\n",
       "      <td>1.723233</td>\n",
       "      <td>Europe</td>\n",
       "      <td>2015</td>\n",
       "      <td>0.000000</td>\n",
       "      <td>32</td>\n",
       "      <td>0</td>\n",
       "      <td>Sad</td>\n",
       "      <td>0</td>\n",
       "      <td>-1.500465</td>\n",
       "    </tr>\n",
       "    <tr>\n",
       "      <th>113</th>\n",
       "      <td>Ukraine</td>\n",
       "      <td>4.0960</td>\n",
       "      <td>0.894652</td>\n",
       "      <td>1.394538</td>\n",
       "      <td>0.575904</td>\n",
       "      <td>0.122975</td>\n",
       "      <td>0.270061</td>\n",
       "      <td>0.023029</td>\n",
       "      <td>0.814382</td>\n",
       "      <td>Europe</td>\n",
       "      <td>2015</td>\n",
       "      <td>0.000000</td>\n",
       "      <td>27</td>\n",
       "      <td>0</td>\n",
       "      <td>Very Sad</td>\n",
       "      <td>0</td>\n",
       "      <td>-1.770393</td>\n",
       "    </tr>\n",
       "    <tr>\n",
       "      <th>176</th>\n",
       "      <td>Moldova</td>\n",
       "      <td>5.8890</td>\n",
       "      <td>0.594480</td>\n",
       "      <td>1.015280</td>\n",
       "      <td>0.618260</td>\n",
       "      <td>0.328180</td>\n",
       "      <td>0.209510</td>\n",
       "      <td>0.016150</td>\n",
       "      <td>3.107120</td>\n",
       "      <td>Europe</td>\n",
       "      <td>2016</td>\n",
       "      <td>0.000000</td>\n",
       "      <td>30</td>\n",
       "      <td>0</td>\n",
       "      <td>Okay</td>\n",
       "      <td>0</td>\n",
       "      <td>-1.608436</td>\n",
       "    </tr>\n",
       "    <tr>\n",
       "      <th>188</th>\n",
       "      <td>Russia</td>\n",
       "      <td>5.7160</td>\n",
       "      <td>1.137640</td>\n",
       "      <td>1.236170</td>\n",
       "      <td>0.669260</td>\n",
       "      <td>0.366790</td>\n",
       "      <td>0.001990</td>\n",
       "      <td>0.030050</td>\n",
       "      <td>2.273940</td>\n",
       "      <td>Europe</td>\n",
       "      <td>2016</td>\n",
       "      <td>0.000000</td>\n",
       "      <td>29</td>\n",
       "      <td>0</td>\n",
       "      <td>Okay</td>\n",
       "      <td>0</td>\n",
       "      <td>-1.662422</td>\n",
       "    </tr>\n",
       "    <tr>\n",
       "      <th>225</th>\n",
       "      <td>Ukraine</td>\n",
       "      <td>4.6810</td>\n",
       "      <td>0.799070</td>\n",
       "      <td>1.202780</td>\n",
       "      <td>0.673900</td>\n",
       "      <td>0.251230</td>\n",
       "      <td>0.152750</td>\n",
       "      <td>0.029610</td>\n",
       "      <td>1.571400</td>\n",
       "      <td>Europe</td>\n",
       "      <td>2016</td>\n",
       "      <td>0.000000</td>\n",
       "      <td>29</td>\n",
       "      <td>0</td>\n",
       "      <td>Very Sad</td>\n",
       "      <td>0</td>\n",
       "      <td>-1.662422</td>\n",
       "    </tr>\n",
       "    <tr>\n",
       "      <th>325</th>\n",
       "      <td>Russia</td>\n",
       "      <td>5.6480</td>\n",
       "      <td>1.183000</td>\n",
       "      <td>0.000000</td>\n",
       "      <td>0.726000</td>\n",
       "      <td>0.334000</td>\n",
       "      <td>0.082000</td>\n",
       "      <td>0.031000</td>\n",
       "      <td>0.000000</td>\n",
       "      <td>Europe</td>\n",
       "      <td>2017</td>\n",
       "      <td>1.452000</td>\n",
       "      <td>29</td>\n",
       "      <td>0</td>\n",
       "      <td>Sad</td>\n",
       "      <td>0</td>\n",
       "      <td>-1.662422</td>\n",
       "    </tr>\n",
       "    <tr>\n",
       "      <th>328</th>\n",
       "      <td>Moldova</td>\n",
       "      <td>5.5290</td>\n",
       "      <td>0.685000</td>\n",
       "      <td>0.000000</td>\n",
       "      <td>0.739000</td>\n",
       "      <td>0.245000</td>\n",
       "      <td>0.181000</td>\n",
       "      <td>0.000000</td>\n",
       "      <td>0.000000</td>\n",
       "      <td>Europe</td>\n",
       "      <td>2017</td>\n",
       "      <td>1.328000</td>\n",
       "      <td>31</td>\n",
       "      <td>0</td>\n",
       "      <td>Sad</td>\n",
       "      <td>0</td>\n",
       "      <td>-1.554451</td>\n",
       "    </tr>\n",
       "    <tr>\n",
       "      <th>378</th>\n",
       "      <td>Ukraine</td>\n",
       "      <td>4.3320</td>\n",
       "      <td>0.820000</td>\n",
       "      <td>0.000000</td>\n",
       "      <td>0.739000</td>\n",
       "      <td>0.178000</td>\n",
       "      <td>0.187000</td>\n",
       "      <td>0.010000</td>\n",
       "      <td>0.000000</td>\n",
       "      <td>Europe</td>\n",
       "      <td>2017</td>\n",
       "      <td>1.390000</td>\n",
       "      <td>30</td>\n",
       "      <td>0</td>\n",
       "      <td>Very Sad</td>\n",
       "      <td>0</td>\n",
       "      <td>-1.608436</td>\n",
       "    </tr>\n",
       "    <tr>\n",
       "      <th>447</th>\n",
       "      <td>Russia</td>\n",
       "      <td>5.8100</td>\n",
       "      <td>1.151000</td>\n",
       "      <td>0.000000</td>\n",
       "      <td>0.599000</td>\n",
       "      <td>0.399000</td>\n",
       "      <td>0.065000</td>\n",
       "      <td>0.025000</td>\n",
       "      <td>0.000000</td>\n",
       "      <td>Europe</td>\n",
       "      <td>2018</td>\n",
       "      <td>1.479000</td>\n",
       "      <td>28</td>\n",
       "      <td>0</td>\n",
       "      <td>Okay</td>\n",
       "      <td>0</td>\n",
       "      <td>-1.716407</td>\n",
       "    </tr>\n",
       "    <tr>\n",
       "      <th>514</th>\n",
       "      <td>Ukraine</td>\n",
       "      <td>4.1030</td>\n",
       "      <td>0.793000</td>\n",
       "      <td>0.000000</td>\n",
       "      <td>0.609000</td>\n",
       "      <td>0.163000</td>\n",
       "      <td>0.187000</td>\n",
       "      <td>0.011000</td>\n",
       "      <td>0.000000</td>\n",
       "      <td>Europe</td>\n",
       "      <td>2018</td>\n",
       "      <td>1.413000</td>\n",
       "      <td>32</td>\n",
       "      <td>0</td>\n",
       "      <td>Very Sad</td>\n",
       "      <td>0</td>\n",
       "      <td>-1.500465</td>\n",
       "    </tr>\n",
       "    <tr>\n",
       "      <th>575</th>\n",
       "      <td>Moldova</td>\n",
       "      <td>5.8970</td>\n",
       "      <td>0.691770</td>\n",
       "      <td>0.831320</td>\n",
       "      <td>0.523090</td>\n",
       "      <td>0.252020</td>\n",
       "      <td>0.199970</td>\n",
       "      <td>0.019030</td>\n",
       "      <td>3.380070</td>\n",
       "      <td>Europe</td>\n",
       "      <td>2019</td>\n",
       "      <td>0.000000</td>\n",
       "      <td>32</td>\n",
       "      <td>0</td>\n",
       "      <td>Okay</td>\n",
       "      <td>0</td>\n",
       "      <td>-1.500465</td>\n",
       "    </tr>\n",
       "    <tr>\n",
       "      <th>576</th>\n",
       "      <td>Russia</td>\n",
       "      <td>5.8560</td>\n",
       "      <td>1.232280</td>\n",
       "      <td>1.052610</td>\n",
       "      <td>0.589910</td>\n",
       "      <td>0.326820</td>\n",
       "      <td>0.027360</td>\n",
       "      <td>0.035860</td>\n",
       "      <td>2.591150</td>\n",
       "      <td>Europe</td>\n",
       "      <td>2019</td>\n",
       "      <td>0.000000</td>\n",
       "      <td>28</td>\n",
       "      <td>0</td>\n",
       "      <td>Okay</td>\n",
       "      <td>0</td>\n",
       "      <td>-1.716407</td>\n",
       "    </tr>\n",
       "    <tr>\n",
       "      <th>633</th>\n",
       "      <td>Ukraine</td>\n",
       "      <td>4.3240</td>\n",
       "      <td>0.872870</td>\n",
       "      <td>1.014130</td>\n",
       "      <td>0.586280</td>\n",
       "      <td>0.128590</td>\n",
       "      <td>0.203630</td>\n",
       "      <td>0.018290</td>\n",
       "      <td>1.500660</td>\n",
       "      <td>Europe</td>\n",
       "      <td>2019</td>\n",
       "      <td>0.000000</td>\n",
       "      <td>30</td>\n",
       "      <td>0</td>\n",
       "      <td>Very Sad</td>\n",
       "      <td>0</td>\n",
       "      <td>-1.608436</td>\n",
       "    </tr>\n",
       "    <tr>\n",
       "      <th>728</th>\n",
       "      <td>Russia</td>\n",
       "      <td>5.5460</td>\n",
       "      <td>1.127000</td>\n",
       "      <td>0.000000</td>\n",
       "      <td>0.680446</td>\n",
       "      <td>0.399500</td>\n",
       "      <td>0.099042</td>\n",
       "      <td>0.045699</td>\n",
       "      <td>1.815717</td>\n",
       "      <td>Europe</td>\n",
       "      <td>2020</td>\n",
       "      <td>1.378644</td>\n",
       "      <td>30</td>\n",
       "      <td>0</td>\n",
       "      <td>Sad</td>\n",
       "      <td>0</td>\n",
       "      <td>-1.608436</td>\n",
       "    </tr>\n",
       "    <tr>\n",
       "      <th>748</th>\n",
       "      <td>Venezuela</td>\n",
       "      <td>5.0532</td>\n",
       "      <td>0.770239</td>\n",
       "      <td>0.000000</td>\n",
       "      <td>0.767026</td>\n",
       "      <td>0.271717</td>\n",
       "      <td>0.087179</td>\n",
       "      <td>0.063625</td>\n",
       "      <td>1.744841</td>\n",
       "      <td>South America</td>\n",
       "      <td>2020</td>\n",
       "      <td>1.348547</td>\n",
       "      <td>15</td>\n",
       "      <td>0</td>\n",
       "      <td>Sad</td>\n",
       "      <td>0</td>\n",
       "      <td>-1.533578</td>\n",
       "    </tr>\n",
       "    <tr>\n",
       "      <th>120</th>\n",
       "      <td>Afghanistan</td>\n",
       "      <td>3.7940</td>\n",
       "      <td>0.401477</td>\n",
       "      <td>0.581543</td>\n",
       "      <td>0.180747</td>\n",
       "      <td>0.106180</td>\n",
       "      <td>0.311871</td>\n",
       "      <td>0.061158</td>\n",
       "      <td>2.150801</td>\n",
       "      <td>Asia</td>\n",
       "      <td>2015</td>\n",
       "      <td>0.000000</td>\n",
       "      <td>11</td>\n",
       "      <td>0</td>\n",
       "      <td>Very Sad</td>\n",
       "      <td>0</td>\n",
       "      <td>-1.683574</td>\n",
       "    </tr>\n",
       "    <tr>\n",
       "      <th>60</th>\n",
       "      <td>Libya</td>\n",
       "      <td>5.5250</td>\n",
       "      <td>1.101803</td>\n",
       "      <td>1.357564</td>\n",
       "      <td>0.520169</td>\n",
       "      <td>0.465733</td>\n",
       "      <td>0.152074</td>\n",
       "      <td>0.092610</td>\n",
       "      <td>1.835011</td>\n",
       "      <td>Africa</td>\n",
       "      <td>2015</td>\n",
       "      <td>0.000000</td>\n",
       "      <td>16</td>\n",
       "      <td>0</td>\n",
       "      <td>Sad</td>\n",
       "      <td>0</td>\n",
       "      <td>-1.813733</td>\n",
       "    </tr>\n",
       "    <tr>\n",
       "      <th>187</th>\n",
       "      <td>Libya</td>\n",
       "      <td>5.7540</td>\n",
       "      <td>1.131450</td>\n",
       "      <td>1.118620</td>\n",
       "      <td>0.703800</td>\n",
       "      <td>0.416680</td>\n",
       "      <td>0.182950</td>\n",
       "      <td>0.110230</td>\n",
       "      <td>2.090660</td>\n",
       "      <td>Africa</td>\n",
       "      <td>2016</td>\n",
       "      <td>0.000000</td>\n",
       "      <td>14</td>\n",
       "      <td>0</td>\n",
       "      <td>Okay</td>\n",
       "      <td>0</td>\n",
       "      <td>-2.013068</td>\n",
       "    </tr>\n",
       "    <tr>\n",
       "      <th>329</th>\n",
       "      <td>Libya</td>\n",
       "      <td>5.5250</td>\n",
       "      <td>1.044000</td>\n",
       "      <td>0.000000</td>\n",
       "      <td>0.673000</td>\n",
       "      <td>0.416000</td>\n",
       "      <td>0.133000</td>\n",
       "      <td>0.152000</td>\n",
       "      <td>0.000000</td>\n",
       "      <td>Africa</td>\n",
       "      <td>2017</td>\n",
       "      <td>1.303000</td>\n",
       "      <td>17</td>\n",
       "      <td>0</td>\n",
       "      <td>Sad</td>\n",
       "      <td>0</td>\n",
       "      <td>-1.714066</td>\n",
       "    </tr>\n",
       "    <tr>\n",
       "      <th>458</th>\n",
       "      <td>Libya</td>\n",
       "      <td>5.5660</td>\n",
       "      <td>0.985000</td>\n",
       "      <td>0.000000</td>\n",
       "      <td>0.553000</td>\n",
       "      <td>0.496000</td>\n",
       "      <td>0.116000</td>\n",
       "      <td>0.148000</td>\n",
       "      <td>0.000000</td>\n",
       "      <td>Africa</td>\n",
       "      <td>2018</td>\n",
       "      <td>1.350000</td>\n",
       "      <td>17</td>\n",
       "      <td>0</td>\n",
       "      <td>Sad</td>\n",
       "      <td>0</td>\n",
       "      <td>-1.714066</td>\n",
       "    </tr>\n",
       "    <tr>\n",
       "      <th>509</th>\n",
       "      <td>Chad</td>\n",
       "      <td>4.3010</td>\n",
       "      <td>0.358000</td>\n",
       "      <td>0.000000</td>\n",
       "      <td>0.053000</td>\n",
       "      <td>0.189000</td>\n",
       "      <td>0.181000</td>\n",
       "      <td>0.060000</td>\n",
       "      <td>0.000000</td>\n",
       "      <td>Africa</td>\n",
       "      <td>2018</td>\n",
       "      <td>0.907000</td>\n",
       "      <td>19</td>\n",
       "      <td>0</td>\n",
       "      <td>Very Sad</td>\n",
       "      <td>0</td>\n",
       "      <td>-1.514732</td>\n",
       "    </tr>\n",
       "    <tr>\n",
       "      <th>527</th>\n",
       "      <td>Burundi</td>\n",
       "      <td>2.9050</td>\n",
       "      <td>0.091000</td>\n",
       "      <td>0.000000</td>\n",
       "      <td>0.145000</td>\n",
       "      <td>0.065000</td>\n",
       "      <td>0.149000</td>\n",
       "      <td>0.076000</td>\n",
       "      <td>0.000000</td>\n",
       "      <td>Africa</td>\n",
       "      <td>2018</td>\n",
       "      <td>0.627000</td>\n",
       "      <td>17</td>\n",
       "      <td>0</td>\n",
       "      <td>Most depressing</td>\n",
       "      <td>0</td>\n",
       "      <td>-1.714066</td>\n",
       "    </tr>\n",
       "    <tr>\n",
       "      <th>585</th>\n",
       "      <td>Libya</td>\n",
       "      <td>5.6150</td>\n",
       "      <td>1.066880</td>\n",
       "      <td>0.950760</td>\n",
       "      <td>0.523040</td>\n",
       "      <td>0.406720</td>\n",
       "      <td>0.170870</td>\n",
       "      <td>0.103390</td>\n",
       "      <td>2.393740</td>\n",
       "      <td>Africa</td>\n",
       "      <td>2019</td>\n",
       "      <td>0.000000</td>\n",
       "      <td>18</td>\n",
       "      <td>0</td>\n",
       "      <td>Sad</td>\n",
       "      <td>0</td>\n",
       "      <td>-1.614399</td>\n",
       "    </tr>\n",
       "    <tr>\n",
       "      <th>659</th>\n",
       "      <td>Burundi</td>\n",
       "      <td>2.9050</td>\n",
       "      <td>0.068310</td>\n",
       "      <td>0.234420</td>\n",
       "      <td>0.157470</td>\n",
       "      <td>0.043200</td>\n",
       "      <td>0.202900</td>\n",
       "      <td>0.094190</td>\n",
       "      <td>2.104040</td>\n",
       "      <td>Africa</td>\n",
       "      <td>2019</td>\n",
       "      <td>0.000000</td>\n",
       "      <td>19</td>\n",
       "      <td>0</td>\n",
       "      <td>Most depressing</td>\n",
       "      <td>0</td>\n",
       "      <td>-1.514732</td>\n",
       "    </tr>\n",
       "    <tr>\n",
       "      <th>733</th>\n",
       "      <td>Libya</td>\n",
       "      <td>5.4888</td>\n",
       "      <td>1.021914</td>\n",
       "      <td>0.000000</td>\n",
       "      <td>0.615627</td>\n",
       "      <td>0.451354</td>\n",
       "      <td>0.142758</td>\n",
       "      <td>0.172258</td>\n",
       "      <td>1.888563</td>\n",
       "      <td>Africa</td>\n",
       "      <td>2020</td>\n",
       "      <td>1.196284</td>\n",
       "      <td>17</td>\n",
       "      <td>0</td>\n",
       "      <td>Sad</td>\n",
       "      <td>0</td>\n",
       "      <td>-1.714066</td>\n",
       "    </tr>\n",
       "    <tr>\n",
       "      <th>781</th>\n",
       "      <td>Burundi</td>\n",
       "      <td>3.7753</td>\n",
       "      <td>0.000000</td>\n",
       "      <td>0.000000</td>\n",
       "      <td>0.295213</td>\n",
       "      <td>0.275399</td>\n",
       "      <td>0.187402</td>\n",
       "      <td>0.212187</td>\n",
       "      <td>2.401507</td>\n",
       "      <td>Africa</td>\n",
       "      <td>2020</td>\n",
       "      <td>0.403575</td>\n",
       "      <td>19</td>\n",
       "      <td>0</td>\n",
       "      <td>Very Sad</td>\n",
       "      <td>0</td>\n",
       "      <td>-1.514732</td>\n",
       "    </tr>\n",
       "  </tbody>\n",
       "</table>\n",
       "</div>"
      ],
      "text/plain": [
       "         Country  happiness_score  gdp_per_capita    family    health  \\\n",
       "44        Russia           5.9630        1.281778  1.469282  0.547349   \n",
       "59       Belarus           5.5690        1.156558  1.444945  0.637714   \n",
       "113      Ukraine           4.0960        0.894652  1.394538  0.575904   \n",
       "176      Moldova           5.8890        0.594480  1.015280  0.618260   \n",
       "188       Russia           5.7160        1.137640  1.236170  0.669260   \n",
       "225      Ukraine           4.6810        0.799070  1.202780  0.673900   \n",
       "325       Russia           5.6480        1.183000  0.000000  0.726000   \n",
       "328      Moldova           5.5290        0.685000  0.000000  0.739000   \n",
       "378      Ukraine           4.3320        0.820000  0.000000  0.739000   \n",
       "447       Russia           5.8100        1.151000  0.000000  0.599000   \n",
       "514      Ukraine           4.1030        0.793000  0.000000  0.609000   \n",
       "575      Moldova           5.8970        0.691770  0.831320  0.523090   \n",
       "576       Russia           5.8560        1.232280  1.052610  0.589910   \n",
       "633      Ukraine           4.3240        0.872870  1.014130  0.586280   \n",
       "728       Russia           5.5460        1.127000  0.000000  0.680446   \n",
       "748    Venezuela           5.0532        0.770239  0.000000  0.767026   \n",
       "120  Afghanistan           3.7940        0.401477  0.581543  0.180747   \n",
       "60         Libya           5.5250        1.101803  1.357564  0.520169   \n",
       "187        Libya           5.7540        1.131450  1.118620  0.703800   \n",
       "329        Libya           5.5250        1.044000  0.000000  0.673000   \n",
       "458        Libya           5.5660        0.985000  0.000000  0.553000   \n",
       "509         Chad           4.3010        0.358000  0.000000  0.053000   \n",
       "527      Burundi           2.9050        0.091000  0.000000  0.145000   \n",
       "585        Libya           5.6150        1.066880  0.950760  0.523040   \n",
       "659      Burundi           2.9050        0.068310  0.234420  0.157470   \n",
       "733        Libya           5.4888        1.021914  0.000000  0.615627   \n",
       "781      Burundi           3.7753        0.000000  0.000000  0.295213   \n",
       "\n",
       "      freedom  generosity  government_trust  dystopia_residual      continent  \\\n",
       "44   0.373783    0.052264          0.032963           2.205607         Europe   \n",
       "59   0.295400    0.155138          0.156314           1.723233         Europe   \n",
       "113  0.122975    0.270061          0.023029           0.814382         Europe   \n",
       "176  0.328180    0.209510          0.016150           3.107120         Europe   \n",
       "188  0.366790    0.001990          0.030050           2.273940         Europe   \n",
       "225  0.251230    0.152750          0.029610           1.571400         Europe   \n",
       "325  0.334000    0.082000          0.031000           0.000000         Europe   \n",
       "328  0.245000    0.181000          0.000000           0.000000         Europe   \n",
       "378  0.178000    0.187000          0.010000           0.000000         Europe   \n",
       "447  0.399000    0.065000          0.025000           0.000000         Europe   \n",
       "514  0.163000    0.187000          0.011000           0.000000         Europe   \n",
       "575  0.252020    0.199970          0.019030           3.380070         Europe   \n",
       "576  0.326820    0.027360          0.035860           2.591150         Europe   \n",
       "633  0.128590    0.203630          0.018290           1.500660         Europe   \n",
       "728  0.399500    0.099042          0.045699           1.815717         Europe   \n",
       "748  0.271717    0.087179          0.063625           1.744841  South America   \n",
       "120  0.106180    0.311871          0.061158           2.150801           Asia   \n",
       "60   0.465733    0.152074          0.092610           1.835011         Africa   \n",
       "187  0.416680    0.182950          0.110230           2.090660         Africa   \n",
       "329  0.416000    0.133000          0.152000           0.000000         Africa   \n",
       "458  0.496000    0.116000          0.148000           0.000000         Africa   \n",
       "509  0.189000    0.181000          0.060000           0.000000         Africa   \n",
       "527  0.065000    0.149000          0.076000           0.000000         Africa   \n",
       "585  0.406720    0.170870          0.103390           2.393740         Africa   \n",
       "659  0.043200    0.202900          0.094190           2.104040         Africa   \n",
       "733  0.451354    0.142758          0.172258           1.888563         Africa   \n",
       "781  0.275399    0.187402          0.212187           2.401507         Africa   \n",
       "\n",
       "     Year  social_support  cpi_score  Good cpi_score Happiness Category  \\\n",
       "44   2015        0.000000         29               0               Okay   \n",
       "59   2015        0.000000         32               0                Sad   \n",
       "113  2015        0.000000         27               0           Very Sad   \n",
       "176  2016        0.000000         30               0               Okay   \n",
       "188  2016        0.000000         29               0               Okay   \n",
       "225  2016        0.000000         29               0           Very Sad   \n",
       "325  2017        1.452000         29               0                Sad   \n",
       "328  2017        1.328000         31               0                Sad   \n",
       "378  2017        1.390000         30               0           Very Sad   \n",
       "447  2018        1.479000         28               0               Okay   \n",
       "514  2018        1.413000         32               0           Very Sad   \n",
       "575  2019        0.000000         32               0               Okay   \n",
       "576  2019        0.000000         28               0               Okay   \n",
       "633  2019        0.000000         30               0           Very Sad   \n",
       "728  2020        1.378644         30               0                Sad   \n",
       "748  2020        1.348547         15               0                Sad   \n",
       "120  2015        0.000000         11               0           Very Sad   \n",
       "60   2015        0.000000         16               0                Sad   \n",
       "187  2016        0.000000         14               0               Okay   \n",
       "329  2017        1.303000         17               0                Sad   \n",
       "458  2018        1.350000         17               0                Sad   \n",
       "509  2018        0.907000         19               0           Very Sad   \n",
       "527  2018        0.627000         17               0    Most depressing   \n",
       "585  2019        0.000000         18               0                Sad   \n",
       "659  2019        0.000000         19               0    Most depressing   \n",
       "733  2020        1.196284         17               0                Sad   \n",
       "781  2020        0.403575         19               0           Very Sad   \n",
       "\n",
       "     great country   z-score  \n",
       "44               0 -1.662422  \n",
       "59               0 -1.500465  \n",
       "113              0 -1.770393  \n",
       "176              0 -1.608436  \n",
       "188              0 -1.662422  \n",
       "225              0 -1.662422  \n",
       "325              0 -1.662422  \n",
       "328              0 -1.554451  \n",
       "378              0 -1.608436  \n",
       "447              0 -1.716407  \n",
       "514              0 -1.500465  \n",
       "575              0 -1.500465  \n",
       "576              0 -1.716407  \n",
       "633              0 -1.608436  \n",
       "728              0 -1.608436  \n",
       "748              0 -1.533578  \n",
       "120              0 -1.683574  \n",
       "60               0 -1.813733  \n",
       "187              0 -2.013068  \n",
       "329              0 -1.714066  \n",
       "458              0 -1.714066  \n",
       "509              0 -1.514732  \n",
       "527              0 -1.714066  \n",
       "585              0 -1.614399  \n",
       "659              0 -1.514732  \n",
       "733              0 -1.714066  \n",
       "781              0 -1.514732  "
      ]
     },
     "execution_count": 60,
     "metadata": {},
     "output_type": "execute_result"
    }
   ],
   "source": [
    "happy[happy['z-score'] < -1.5]"
   ]
  },
  {
   "cell_type": "code",
   "execution_count": 61,
   "id": "316e8e92",
   "metadata": {},
   "outputs": [
    {
     "data": {
      "text/plain": [
       "(27, 17)"
      ]
     },
     "execution_count": 61,
     "metadata": {},
     "output_type": "execute_result"
    }
   ],
   "source": [
    "happy[happy['z-score'] < -1.5].shape"
   ]
  },
  {
   "cell_type": "markdown",
   "id": "caf45895",
   "metadata": {},
   "source": [
    "Мы зафиксировали 27 выбросов из датасета. В таблице выше отображены наиболее коррумпированные страны.\n",
    "Далее сгоруппируем датасет по категориям счастья и посмотрим на отношение к коррупции в каждой категории."
   ]
  },
  {
   "cell_type": "code",
   "execution_count": 62,
   "id": "8cda8a5e",
   "metadata": {},
   "outputs": [
    {
     "data": {
      "text/plain": [
       "Happiness Category\n",
       "Happy              0.903399\n",
       "Most depressing   -0.205986\n",
       "Okay               0.091140\n",
       "Sad               -0.379911\n",
       "The most happy     1.024172\n",
       "Very Sad          -0.300664\n",
       "Name: z-score, dtype: float64"
      ]
     },
     "execution_count": 62,
     "metadata": {},
     "output_type": "execute_result"
    }
   ],
   "source": [
    "happy.groupby('Happiness Category')['z-score'].mean()"
   ]
  },
  {
   "cell_type": "markdown",
   "id": "b3d3f259",
   "metadata": {},
   "source": [
    "Как и предполагалаось, наилучшее отношение к коррупции фиксируется в старанах с самым высоким уровенем счастья и наоборот.\n",
    "\n",
    "Проверим, есть ли выбросы по переменной доверия правительству. "
   ]
  },
  {
   "cell_type": "code",
   "execution_count": 63,
   "id": "0b9fb5c9",
   "metadata": {},
   "outputs": [
    {
     "data": {
      "text/plain": [
       "count    792.000000\n",
       "mean       0.125720\n",
       "std        0.109032\n",
       "min        0.000000\n",
       "25%        0.052862\n",
       "50%        0.089000\n",
       "75%        0.154250\n",
       "max        0.551910\n",
       "Name: government_trust, dtype: float64"
      ]
     },
     "execution_count": 63,
     "metadata": {},
     "output_type": "execute_result"
    }
   ],
   "source": [
    "happy['government_trust'].describe()"
   ]
  },
  {
   "cell_type": "code",
   "execution_count": 64,
   "id": "b636662e",
   "metadata": {},
   "outputs": [],
   "source": [
    "q1 = happy['government_trust'].quantile(0.25)\n",
    "q3 = happy['government_trust'].quantile(0.75)\n",
    "iqr = q3 - q1"
   ]
  },
  {
   "cell_type": "code",
   "execution_count": 65,
   "id": "4ac2e344",
   "metadata": {},
   "outputs": [
    {
     "name": "stdout",
     "output_type": "stream",
     "text": [
      "-0.09921875\n",
      "0.30633125\n"
     ]
    }
   ],
   "source": [
    "iqr_outlier_threshold_bottom = q1 - 1.5 * iqr\n",
    "iqr_outlier_threshold_up = q3 + 1.5 * iqr\n",
    "print(iqr_outlier_threshold_bottom)\n",
    "print(iqr_outlier_threshold_up)"
   ]
  },
  {
   "cell_type": "code",
   "execution_count": 66,
   "id": "81afe592",
   "metadata": {},
   "outputs": [
    {
     "data": {
      "text/plain": [
       "(77, 17)"
      ]
     },
     "execution_count": 66,
     "metadata": {},
     "output_type": "execute_result"
    }
   ],
   "source": [
    "happy[happy['government_trust'] > iqr_outlier_threshold_up].shape"
   ]
  },
  {
   "cell_type": "markdown",
   "id": "800b23cb",
   "metadata": {},
   "source": [
    "Фиксируем, что у нас 77 выбросов по переменной доверия к правительству. Посмотрим, относительно категорий счастья в странах. "
   ]
  },
  {
   "cell_type": "code",
   "execution_count": 67,
   "id": "e3de8674",
   "metadata": {},
   "outputs": [
    {
     "data": {
      "text/plain": [
       "The most happy     51\n",
       "Happy               9\n",
       "Okay                8\n",
       "Most depressing     6\n",
       "Very Sad            2\n",
       "Sad                 1\n",
       "Name: Happiness Category, dtype: int64"
      ]
     },
     "execution_count": 67,
     "metadata": {},
     "output_type": "execute_result"
    }
   ],
   "source": [
    "happy[happy['government_trust'] > iqr_outlier_threshold_up]['Happiness Category'].value_counts()"
   ]
  },
  {
   "cell_type": "markdown",
   "id": "11e93eef",
   "metadata": {},
   "source": [
    "Инетерсно, что наибольшее количество выбросов зафисикровано по категории с наименьшим числом стран. Сгруппируем распределение выбросов по годам."
   ]
  },
  {
   "cell_type": "code",
   "execution_count": 68,
   "id": "20dd6f41",
   "metadata": {},
   "outputs": [
    {
     "data": {
      "text/plain": [
       "2016    18\n",
       "2020    15\n",
       "2019    13\n",
       "2017    11\n",
       "2015    10\n",
       "2018    10\n",
       "Name: Year, dtype: int64"
      ]
     },
     "execution_count": 68,
     "metadata": {},
     "output_type": "execute_result"
    }
   ],
   "source": [
    "happy[happy['government_trust'] > iqr_outlier_threshold_up]['Year'].value_counts()"
   ]
  },
  {
   "cell_type": "markdown",
   "id": "41e56113",
   "metadata": {},
   "source": [
    "# 6. Корреляция\n",
    "\n",
    "Сначала выявим с каким значением больше всего коррелируется показатель счаться, затем задаем переменные, группированные по континентам по переменным счастья, ВВП на душу населения, здоровья и отношения к коррупции."
   ]
  },
  {
   "cell_type": "code",
   "execution_count": 69,
   "id": "440c9c12",
   "metadata": {},
   "outputs": [
    {
     "data": {
      "text/plain": [
       "Year                 0.023495\n",
       "great country        0.124613\n",
       "family               0.154946\n",
       "generosity           0.155419\n",
       "dystopia_residual    0.174161\n",
       "social_support       0.192633\n",
       "z-score              0.404490\n",
       "government_trust     0.455477\n",
       "Good cpi_score       0.467090\n",
       "freedom              0.544284\n",
       "cpi_score            0.693001\n",
       "health               0.753534\n",
       "gdp_per_capita       0.793267\n",
       "happiness_score      1.000000\n",
       "Name: happiness_score, dtype: float64"
      ]
     },
     "execution_count": 69,
     "metadata": {},
     "output_type": "execute_result"
    }
   ],
   "source": [
    "happy.corr()['happiness_score'].sort_values() #выявляем наиболее высокие степени коррелляции"
   ]
  },
  {
   "cell_type": "code",
   "execution_count": 70,
   "id": "3c014078",
   "metadata": {},
   "outputs": [],
   "source": [
    "happy_mean = happy.groupby(happy['continent'])['happiness_score'].mean()\n",
    "gdp_mean = happy.groupby(happy['continent'])['gdp_per_capita'].mean()\n",
    "health_mean = happy.groupby(happy['continent'])['health'].mean()\n",
    "cpi_mean = happy.groupby(happy['continent'])['cpi_score'].mean()"
   ]
  },
  {
   "cell_type": "code",
   "execution_count": 71,
   "id": "8f9367d9",
   "metadata": {},
   "outputs": [],
   "source": [
    "happy_important = pd.concat([happy_mean, gdp_mean, health_mean, cpi_mean], axis=1)"
   ]
  },
  {
   "cell_type": "code",
   "execution_count": 72,
   "id": "37a3cef3",
   "metadata": {
    "scrolled": true
   },
   "outputs": [
    {
     "data": {
      "text/html": [
       "<div>\n",
       "<style scoped>\n",
       "    .dataframe tbody tr th:only-of-type {\n",
       "        vertical-align: middle;\n",
       "    }\n",
       "\n",
       "    .dataframe tbody tr th {\n",
       "        vertical-align: top;\n",
       "    }\n",
       "\n",
       "    .dataframe thead th {\n",
       "        text-align: right;\n",
       "    }\n",
       "</style>\n",
       "<table border=\"1\" class=\"dataframe\">\n",
       "  <thead>\n",
       "    <tr style=\"text-align: right;\">\n",
       "      <th></th>\n",
       "      <th>happiness_score</th>\n",
       "      <th>gdp_per_capita</th>\n",
       "      <th>health</th>\n",
       "      <th>cpi_score</th>\n",
       "    </tr>\n",
       "  </thead>\n",
       "  <tbody>\n",
       "    <tr>\n",
       "      <th>happiness_score</th>\n",
       "      <td>1.000000</td>\n",
       "      <td>0.945707</td>\n",
       "      <td>0.956723</td>\n",
       "      <td>0.872614</td>\n",
       "    </tr>\n",
       "    <tr>\n",
       "      <th>gdp_per_capita</th>\n",
       "      <td>0.945707</td>\n",
       "      <td>1.000000</td>\n",
       "      <td>0.982672</td>\n",
       "      <td>0.868432</td>\n",
       "    </tr>\n",
       "    <tr>\n",
       "      <th>health</th>\n",
       "      <td>0.956723</td>\n",
       "      <td>0.982672</td>\n",
       "      <td>1.000000</td>\n",
       "      <td>0.838792</td>\n",
       "    </tr>\n",
       "    <tr>\n",
       "      <th>cpi_score</th>\n",
       "      <td>0.872614</td>\n",
       "      <td>0.868432</td>\n",
       "      <td>0.838792</td>\n",
       "      <td>1.000000</td>\n",
       "    </tr>\n",
       "  </tbody>\n",
       "</table>\n",
       "</div>"
      ],
      "text/plain": [
       "                 happiness_score  gdp_per_capita    health  cpi_score\n",
       "happiness_score         1.000000        0.945707  0.956723   0.872614\n",
       "gdp_per_capita          0.945707        1.000000  0.982672   0.868432\n",
       "health                  0.956723        0.982672  1.000000   0.838792\n",
       "cpi_score               0.872614        0.868432  0.838792   1.000000"
      ]
     },
     "execution_count": 72,
     "metadata": {},
     "output_type": "execute_result"
    }
   ],
   "source": [
    "happy_important.corr()"
   ]
  },
  {
   "cell_type": "markdown",
   "id": "65cd854b",
   "metadata": {},
   "source": [
    "У всех выделенных переменных фиксируется достаточно высокая корреляция, наиболее сильная между переменным уровня счастья и ВВП на душу неселения, счастье и здоровье, здоровье и ВВП на душу населения. Отразим это на графиках."
   ]
  },
  {
   "cell_type": "code",
   "execution_count": 73,
   "id": "f1db5cad",
   "metadata": {},
   "outputs": [
    {
     "data": {
      "text/plain": [
       "<AxesSubplot:xlabel='gdp_per_capita', ylabel='happiness_score'>"
      ]
     },
     "execution_count": 73,
     "metadata": {},
     "output_type": "execute_result"
    },
    {
     "data": {
      "image/png": "[encoded data removed]",
      "text/plain": [
       "<Figure size 432x288 with 1 Axes>"
      ]
     },
     "metadata": {
      "needs_background": "light"
     },
     "output_type": "display_data"
    }
   ],
   "source": [
    "happy_important.plot('gdp_per_capita','happiness_score', kind='scatter')"
   ]
  },
  {
   "cell_type": "code",
   "execution_count": 74,
   "id": "08d23416",
   "metadata": {},
   "outputs": [
    {
     "data": {
      "text/plain": [
       "<AxesSubplot:xlabel='happiness_score', ylabel='health'>"
      ]
     },
     "execution_count": 74,
     "metadata": {},
     "output_type": "execute_result"
    },
    {
     "data": {
      "image/png": "[encoded data removed]",
      "text/plain": [
       "<Figure size 432x288 with 1 Axes>"
      ]
     },
     "metadata": {
      "needs_background": "light"
     },
     "output_type": "display_data"
    }
   ],
   "source": [
    "happy_important.plot('happiness_score','health', kind='scatter')"
   ]
  },
  {
   "cell_type": "code",
   "execution_count": 75,
   "id": "1ee9b28f",
   "metadata": {},
   "outputs": [
    {
     "data": {
      "text/plain": [
       "<AxesSubplot:xlabel='gdp_per_capita', ylabel='health'>"
      ]
     },
     "execution_count": 75,
     "metadata": {},
     "output_type": "execute_result"
    },
    {
     "data": {
      "image/png": "[encoded data removed]",
      "text/plain": [
       "<Figure size 432x288 with 1 Axes>"
      ]
     },
     "metadata": {
      "needs_background": "light"
     },
     "output_type": "display_data"
    }
   ],
   "source": [
    "happy_important.plot('gdp_per_capita','health', kind='scatter')"
   ]
  },
  {
   "cell_type": "markdown",
   "id": "af0450dc",
   "metadata": {},
   "source": [
    "Области точек не сильно выражены, в силу того, что континентов всего 6, наблюдается зависимость - чем выше ВВП на душу населения тем выше уровень счатья и уровень здоровья в старане. Также чем счастливие старна, тем выше уровень здоровья в ней.\n",
    "Рассредоточенность точек связана с сильным разбросом показателей по континентам."
   ]
  },
  {
   "cell_type": "code",
   "execution_count": 76,
   "id": "341409c0",
   "metadata": {},
   "outputs": [
    {
     "data": {
      "text/plain": [
       "cpi_score          0.868432\n",
       "happiness_score    0.945707\n",
       "health             0.982672\n",
       "gdp_per_capita     1.000000\n",
       "Name: gdp_per_capita, dtype: float64"
      ]
     },
     "execution_count": 76,
     "metadata": {},
     "output_type": "execute_result"
    }
   ],
   "source": [
    "happy_important.corr()['gdp_per_capita'].sort_values()"
   ]
  },
  {
   "cell_type": "markdown",
   "id": "41d08c18",
   "metadata": {},
   "source": [
    "Делаем вывод, что и показатель счастья, и показатель отношения к коррупции в большей степени коррелируется с показателем ВВП на душу населения.\n",
    "\n",
    "Также посмотрим корреляцию нашего маленького датасета со всеми переменными в нем."
   ]
  },
  {
   "cell_type": "code",
   "execution_count": 77,
   "id": "cc819082",
   "metadata": {},
   "outputs": [
    {
     "data": {
      "text/plain": [
       "happiness_score  happiness_score    1.000000\n",
       "gdp_per_capita   gdp_per_capita     1.000000\n",
       "health           health             1.000000\n",
       "cpi_score        cpi_score          1.000000\n",
       "gdp_per_capita   health             0.982672\n",
       "health           gdp_per_capita     0.982672\n",
       "happiness_score  health             0.956723\n",
       "health           happiness_score    0.956723\n",
       "happiness_score  gdp_per_capita     0.945707\n",
       "gdp_per_capita   happiness_score    0.945707\n",
       "happiness_score  cpi_score          0.872614\n",
       "cpi_score        happiness_score    0.872614\n",
       "gdp_per_capita   cpi_score          0.868432\n",
       "cpi_score        gdp_per_capita     0.868432\n",
       "health           cpi_score          0.838792\n",
       "cpi_score        health             0.838792\n",
       "dtype: float64"
      ]
     },
     "execution_count": 77,
     "metadata": {},
     "output_type": "execute_result"
    }
   ],
   "source": [
    "corr = happy_important.corr()\n",
    "c1 = corr.unstack()\n",
    "c1.sort_values(ascending = False)"
   ]
  },
  {
   "cell_type": "markdown",
   "id": "52bc530e",
   "metadata": {},
   "source": [
    "# 7. Введение в визуализацию данных\n",
    "\n",
    "Построим столбчатую диаграмму по переменной уровня здоровья. Для начала агрегируем данные по годам и найдем средний уровень здоровья по каждому году."
   ]
  },
  {
   "cell_type": "code",
   "execution_count": 78,
   "id": "7dcc8d9d",
   "metadata": {},
   "outputs": [
    {
     "data": {
      "text/plain": [
       "Year\n",
       "2015    0.573726\n",
       "2016    0.654272\n",
       "2017    0.755167\n",
       "2018    0.620212\n",
       "2019    0.571824\n",
       "2020    0.716946\n",
       "Name: health, dtype: float64"
      ]
     },
     "execution_count": 78,
     "metadata": {},
     "output_type": "execute_result"
    }
   ],
   "source": [
    "happy_health = happy.groupby(happy['Year'])['health'].mean()\n",
    "happy_health"
   ]
  },
  {
   "cell_type": "code",
   "execution_count": 79,
   "id": "bc7a7c8d",
   "metadata": {},
   "outputs": [
    {
     "data": {
      "text/plain": [
       "<BarContainer object of 6 artists>"
      ]
     },
     "execution_count": 79,
     "metadata": {},
     "output_type": "execute_result"
    },
    {
     "data": {
      "image/png": "[encoded data removed]",
      "text/plain": [
       "<Figure size 360x216 with 1 Axes>"
      ]
     },
     "metadata": {
      "needs_background": "light"
     },
     "output_type": "display_data"
    }
   ],
   "source": [
    "fig, ax = plt.subplots(figsize=(5,3)) # с помощью функции figsize выбираем нужную размерность\n",
    "\n",
    "ax.bar(happy_health.index, happy_health)"
   ]
  },
  {
   "cell_type": "markdown",
   "id": "9292257e",
   "metadata": {},
   "source": [
    "Отобразим на графике динамику счастья по годам."
   ]
  },
  {
   "cell_type": "code",
   "execution_count": 80,
   "id": "9f72ba24",
   "metadata": {},
   "outputs": [
    {
     "data": {
      "text/plain": [
       "Year\n",
       "2015    717.747999\n",
       "2016    718.112000\n",
       "2017    726.904000\n",
       "2018    721.340000\n",
       "2019    716.853000\n",
       "2020    733.904399\n",
       "Name: happiness_score, dtype: float64"
      ]
     },
     "execution_count": 80,
     "metadata": {},
     "output_type": "execute_result"
    }
   ],
   "source": [
    "happy_sum = happy.groupby(happy['Year'])['happiness_score'].sum()\n",
    "happy_sum"
   ]
  },
  {
   "cell_type": "code",
   "execution_count": 81,
   "id": "a5ef973a",
   "metadata": {},
   "outputs": [
    {
     "data": {
      "text/plain": [
       "[<matplotlib.lines.Line2D at 0xde19eb0>]"
      ]
     },
     "execution_count": 81,
     "metadata": {},
     "output_type": "execute_result"
    },
    {
     "data": {
      "image/png": "[encoded data removed]",
      "text/plain": [
       "<Figure size 648x360 with 1 Axes>"
      ]
     },
     "metadata": {
      "needs_background": "light"
     },
     "output_type": "display_data"
    }
   ],
   "source": [
    "fig, ax = plt.subplots(figsize=(9,5))\n",
    "ax.plot(happy_sum)"
   ]
  },
  {
   "cell_type": "markdown",
   "id": "7220f95d",
   "metadata": {},
   "source": [
    "Сгруппируем суммы счастья стран по годам и континентам, затем создадим 6 графиков для кажого континента, стандартизируя шкалы."
   ]
  },
  {
   "cell_type": "code",
   "execution_count": 82,
   "id": "fc1068a9",
   "metadata": {},
   "outputs": [
    {
     "data": {
      "text/plain": [
       "continent      Year\n",
       "Africa         2015    4.311844\n",
       "               2016    4.288156\n",
       "               2017    4.426656\n",
       "               2018    4.355437\n",
       "               2019    4.275531\n",
       "               2020    4.466041\n",
       "Asia           2015    5.284027\n",
       "               2016    5.255919\n",
       "               2017    5.252027\n",
       "               2018    5.264108\n",
       "               2019    5.264784\n",
       "               2020    5.284451\n",
       "Australia      2015    7.299000\n",
       "               2016    7.285000\n",
       "               2017    7.267500\n",
       "               2018    7.298000\n",
       "               2019    7.323500\n",
       "               2020    7.261200\n",
       "Europe         2015    6.128895\n",
       "               2016    6.076421\n",
       "               2017    6.285158\n",
       "               2018    6.201711\n",
       "               2019    6.091237\n",
       "               2020    6.378879\n",
       "North America  2015    6.962333\n",
       "               2016    7.244333\n",
       "               2017    6.921667\n",
       "               2018    6.900667\n",
       "               2019    7.095333\n",
       "               2020    6.878900\n",
       "South America  2015    5.793850\n",
       "               2016    5.960750\n",
       "               2017    5.839500\n",
       "               2018    5.811550\n",
       "               2019    5.891950\n",
       "               2020    5.895495\n",
       "Name: happiness_score, dtype: float64"
      ]
     },
     "execution_count": 82,
     "metadata": {},
     "output_type": "execute_result"
    }
   ],
   "source": [
    "happy_year = happy.groupby(['continent', 'Year'])['happiness_score'].mean()\n",
    "happy_year"
   ]
  },
  {
   "cell_type": "code",
   "execution_count": 83,
   "id": "fc4d4170",
   "metadata": {},
   "outputs": [
    {
     "data": {
      "image/png": "[encoded data removed]",
      "text/plain": [
       "<Figure size 1080x936 with 6 Axes>"
      ]
     },
     "metadata": {
      "needs_background": "light"
     },
     "output_type": "display_data"
    }
   ],
   "source": [
    "fig, ax = plt.subplots(3,2, figsize=(15,13))\n",
    "\n",
    "ax[0][0].plot(happy.groupby(['continent', 'Year'])['happiness_score'].mean().loc['Africa'], c='#FFA07A')\n",
    "ax[0][1].plot(happy.groupby(['continent', 'Year'])['happiness_score'].mean().loc['Asia'], c='#D8BFD8')\n",
    "ax[1][0].plot(happy.groupby(['continent', 'Year'])['happiness_score'].mean().loc['Europe'], c='#DB7093')\n",
    "ax[1][1].plot(happy.groupby(['continent', 'Year'])['happiness_score'].mean().loc['North America'], c='#3CB371')\n",
    "ax[2][1].plot(happy.groupby(['continent', 'Year'])['happiness_score'].mean().loc['South America'], c='#4682B4')\n",
    "ax[2][0].plot(happy.groupby(['continent', 'Year'])['happiness_score'].mean().loc['Australia'], c='#008B8B')\n",
    "\n",
    "for axis in ax.ravel():\n",
    "    axis.set_xlabel('Year')\n",
    "    axis.set_ylim(4,7.30)\n",
    "    axis.set_ylabel('Happiness score')\n",
    "    axis.axhline(5.47, c='#696969', lw=0.2) #добавляем линию среднего уровня счастья\n",
    "    axis.spines['right'].set_visible(False)\n",
    "    axis.spines['top'].set_visible(False)\n",
    "    axis.spines['left'].set_linewidth(0.2)\n",
    "    axis.spines['bottom'].set_linewidth(0.2)\n",
    "\n",
    "ax[0][0].legend(['Africa', 'Avarage happiness'], frameon=False)\n",
    "ax[0][1].legend(['Asia, Avarage happiness'], frameon=False)\n",
    "ax[1][0].legend(['Europe', 'Avarage happiness'], frameon=False)\n",
    "ax[1][1].legend(['North America', 'Avarage happiness'], frameon=False)\n",
    "ax[2][1].legend(['South America', 'Avarage happiness'], frameon=False)\n",
    "ax[2][0].legend(['Australia', 'Avarage happiness'], frameon=False)\n",
    "\n",
    "fig.suptitle('Happiness yearly means by continent', fontsize=13)\n",
    "fig.savefig('happiness.pdf')\n",
    "fig.savefig('happiness.png', dpi=100)"
   ]
  },
  {
   "cell_type": "markdown",
   "id": "803f86e8",
   "metadata": {},
   "source": [
    "Графики выше иллюстрируют предыдущие выводы о том, что в страны Австралии устойчиво фикисировали наивысшие показатели счастья с 2015 по 2020 года, на втором месте Северная Америка, в странах на этом континенте фиксируется некоторая динамика относительно годов, самые \"печальные\" года - 2017 и 2018, а самый счастливый - 2016. Стоит отметить, что даже самые низкие показатели по Северной Америке находятся на уровне сильно выше среднего значения счастья по миру.\n",
    "На третьем месте фиксируется Европа, уровень счастья в странах этого континента также заметно выше среднего, динамика варьируется от 6.0 до 6.5, что говорит о том, что люди в этих странах относительно счастливы. Южная Америка также фиксирует счастье выше сроднено, пик пришелся на 2016 после этого был спад в течение двух лет и с 2018 года прослеживается небольшой рост счастья, но уровень 2016 года еще не достигнут.\n",
    "В странах Азии и Африки уровень счастья заметно ниже среднемирового. В старнах Азии фикисировался практически стабильный уровень примерно 5.25 в течение всего исследуемого периода. А в странах Африки самым счастливыми годами были 2017 и 2020 с показателем счастья 4.49 и 4.5. "
   ]
  },
  {
   "cell_type": "code",
   "execution_count": 84,
   "id": "675fb6de",
   "metadata": {},
   "outputs": [
    {
     "data": {
      "text/plain": [
       "count    792.000000\n",
       "mean       5.473310\n",
       "std        1.124726\n",
       "min        2.566900\n",
       "25%        4.590750\n",
       "50%        5.485500\n",
       "75%        6.300500\n",
       "max        7.808700\n",
       "Name: happiness_score, dtype: float64"
      ]
     },
     "execution_count": 84,
     "metadata": {},
     "output_type": "execute_result"
    }
   ],
   "source": [
    "happy['happiness_score'].describe() #вывели для нахождения среднего для графиков выше"
   ]
  },
  {
   "cell_type": "markdown",
   "id": "1e1b25a5",
   "metadata": {},
   "source": [
    "Построим график рассеивания по переменным уровень счастья, отношение к коррпции, ВВП на душу населения в распределении по континентам."
   ]
  },
  {
   "cell_type": "code",
   "execution_count": 85,
   "id": "667c0298",
   "metadata": {},
   "outputs": [],
   "source": [
    "happy_mean = happy.groupby('continent')['happiness_score'].mean()\n",
    "gdp_av = happy.groupby('continent')['gdp_per_capita'].mean()\n",
    "government_av = happy.groupby('continent')['government_trust'].mean()\n",
    "good_cpi = happy.groupby('continent')['Good cpi_score'].max()\n",
    "\n",
    "happy_data = pd.concat([happy_mean, gdp_av, government_av, good_cpi], axis=1)"
   ]
  },
  {
   "cell_type": "code",
   "execution_count": 86,
   "id": "aa1f0abf",
   "metadata": {},
   "outputs": [
    {
     "data": {
      "image/png": "[encoded data removed]",
      "text/plain": [
       "<Figure size 1008x576 with 2 Axes>"
      ]
     },
     "metadata": {
      "needs_background": "light"
     },
     "output_type": "display_data"
    }
   ],
   "source": [
    "fig, ax = plt.subplots(figsize=(14,8))\n",
    "graph = ax.scatter(happy_data['gdp_per_capita'], happy_data['happiness_score'], \n",
    "           c = happy_data['Good cpi_score'], s = happy_data['government_trust']*500, \n",
    "           alpha = 1)\n",
    "plt.colorbar(graph, ticks=range(3), label='\"Хорошее\" отношение к коррупции') # выводим легенду для обозначения цветов \n",
    "\n",
    "ax.set_title('Зависимость отношения к коррупции от ВВП на душу населения, уровня доверей государству и уровня счастья', fontsize=14)\n",
    "ax.spines['right'].set_visible(False)\n",
    "ax.spines['top'].set_visible(False)\n",
    "ax.spines['right'].set_visible(False)\n",
    "ax.spines['top'].set_visible(False)\n",
    "ax.spines['left'].set_linewidth(0.2)\n",
    "ax.spines['bottom'].set_linewidth(0.2)\n",
    "ax.set_xlabel('ВВП на дущу населения', fontsize=10)\n",
    "ax.set_ylabel('Уровень счастья', fontsize=10)\n",
    "\n",
    "fig.savefig('happy_gdp_cpi.pdf')"
   ]
  },
  {
   "cell_type": "markdown",
   "id": "58d372e3",
   "metadata": {},
   "source": [
    "Получаем 6 точек, разбросанных по графику, каждая точка отображает континент. Фиолетовым цветом обозначены точки, иллюстрирующие континенты, вклюающие страны с \"плохим\" отношением к коррупции, то есть это коррумпируемые страны. Желтые - \"хорошее\" отношение к коррупции. Также фиксируется зивисимость уровеня счастья от ВВП на душу населения - чем выше, тем лучше."
   ]
  },
  {
   "cell_type": "markdown",
   "id": "92121309",
   "metadata": {},
   "source": [
    "# 8. Продвинутая визуализация\n",
    "\n",
    "Начнем с разведочного анализа данных.\n",
    "\n",
    "Сначала отобразим распредление уровней доверя к государству."
   ]
  },
  {
   "cell_type": "code",
   "execution_count": 87,
   "id": "c9f803ac",
   "metadata": {
    "scrolled": true
   },
   "outputs": [
    {
     "data": {
      "text/plain": [
       "<AxesSubplot:xlabel='government_trust', ylabel='Count'>"
      ]
     },
     "execution_count": 87,
     "metadata": {},
     "output_type": "execute_result"
    },
    {
     "data": {
      "image/png": "[encoded data removed]",
      "text/plain": [
       "<Figure size 432x288 with 1 Axes>"
      ]
     },
     "metadata": {
      "needs_background": "light"
     },
     "output_type": "display_data"
    }
   ],
   "source": [
    "sns.histplot(happy['government_trust'])"
   ]
  },
  {
   "cell_type": "markdown",
   "id": "d8acdec6",
   "metadata": {},
   "source": [
    "Далее посмотрим на распредление по переменной \"Хорошее отношение к коррупции\", сгруппируем их по целевой переменной и отобразим на столбчатой диаграмме."
   ]
  },
  {
   "cell_type": "code",
   "execution_count": 88,
   "id": "23f02dee",
   "metadata": {},
   "outputs": [
    {
     "data": {
      "text/plain": [
       "0    730\n",
       "1     62\n",
       "Name: Good cpi_score, dtype: int64"
      ]
     },
     "execution_count": 88,
     "metadata": {},
     "output_type": "execute_result"
    }
   ],
   "source": [
    "happy['Good cpi_score'].value_counts()"
   ]
  },
  {
   "cell_type": "code",
   "execution_count": 89,
   "id": "5027fa89",
   "metadata": {},
   "outputs": [
    {
     "data": {
      "image/png": "[encoded data removed]",
      "text/plain": [
       "<Figure size 432x288 with 1 Axes>"
      ]
     },
     "metadata": {
      "needs_background": "light"
     },
     "output_type": "display_data"
    }
   ],
   "source": [
    "sns.barplot(x=happy['Good cpi_score'].value_counts().index, y=happy['Good cpi_score'].value_counts())\n",
    "plt.show()"
   ]
  },
  {
   "cell_type": "markdown",
   "id": "0f35e87a",
   "metadata": {},
   "source": [
    "Построим скрипичный график по \"Хорошему\" отношению к коррпуции и доверию государству, что отбразит распеределение доверия государству в зависимости от целевой переменной,  хорошего отношения к коррупции."
   ]
  },
  {
   "cell_type": "code",
   "execution_count": 90,
   "id": "f4344063",
   "metadata": {},
   "outputs": [
    {
     "data": {
      "image/png": "[encoded data removed]",
      "text/plain": [
       "<Figure size 432x288 with 1 Axes>"
      ]
     },
     "metadata": {
      "needs_background": "light"
     },
     "output_type": "display_data"
    }
   ],
   "source": [
    "sns.violinplot(x=happy['Good cpi_score'], y=happy['government_trust'])\n",
    "plt.show()"
   ]
  },
  {
   "cell_type": "markdown",
   "id": "c73dd0bd",
   "metadata": {},
   "source": [
    "На основании графика делаем вывод о том, что в большинстве коррумпированных стран фиксируется низкое доверие государству, в странах с \"хорошим\" отношением к коррпуции наоборото высокое доверие госудаству. \n",
    "Для полноты картины посмотрим ящик с усами для этих же переменных."
   ]
  },
  {
   "cell_type": "code",
   "execution_count": 91,
   "id": "4a0923cc",
   "metadata": {},
   "outputs": [
    {
     "data": {
      "text/plain": [
       "<AxesSubplot:xlabel='government_trust', ylabel='Count'>"
      ]
     },
     "execution_count": 91,
     "metadata": {},
     "output_type": "execute_result"
    },
    {
     "data": {
      "image/png": "[encoded data removed]",
      "text/plain": [
       "<Figure size 432x288 with 1 Axes>"
      ]
     },
     "metadata": {
      "needs_background": "light"
     },
     "output_type": "display_data"
    }
   ],
   "source": [
    "sns.histplot(happy[happy['Good cpi_score']==0]['government_trust'], kde=True)"
   ]
  },
  {
   "cell_type": "code",
   "execution_count": 92,
   "id": "e15356b7",
   "metadata": {},
   "outputs": [
    {
     "data": {
      "image/png": "[encoded data removed]",
      "text/plain": [
       "<Figure size 432x288 with 1 Axes>"
      ]
     },
     "metadata": {
      "needs_background": "light"
     },
     "output_type": "display_data"
    }
   ],
   "source": [
    "sns.boxplot(x=happy['Good cpi_score'], y=happy['government_trust'])\n",
    "plt.show()"
   ]
  },
  {
   "cell_type": "markdown",
   "id": "11b9471c",
   "metadata": {},
   "source": [
    "Данный график чуть менее информативный, чем скрипичный. В катогории стран с плохим отношением к коррупции фиксируется несколько выбросов относительно доверия правительству, несколько стран зафиксированы на уровне выше медианы.\n",
    "\n",
    "Далее построим тепловую карту корреляции - цвет ячейки будет зависеть от силы корреляции."
   ]
  },
  {
   "cell_type": "code",
   "execution_count": 93,
   "id": "0f4932ec",
   "metadata": {},
   "outputs": [],
   "source": [
    "cols_num = ['government_trust', 'cpi_score', 'dystopia_residual', 'freedom']"
   ]
  },
  {
   "cell_type": "code",
   "execution_count": 94,
   "id": "fcf6dcd0",
   "metadata": {},
   "outputs": [],
   "source": [
    "correlation = happy.corr().loc[cols_num, cols_num]"
   ]
  },
  {
   "cell_type": "code",
   "execution_count": 95,
   "id": "bf56f0fa",
   "metadata": {},
   "outputs": [
    {
     "data": {
      "text/plain": [
       "<AxesSubplot:>"
      ]
     },
     "execution_count": 95,
     "metadata": {},
     "output_type": "execute_result"
    },
    {
     "data": {
      "image/png": "[encoded data removed]",
      "text/plain": [
       "<Figure size 1008x864 with 2 Axes>"
      ]
     },
     "metadata": {
      "needs_background": "light"
     },
     "output_type": "display_data"
    }
   ],
   "source": [
    "fig , ax = plt.subplots(figsize = (14,12))\n",
    "\n",
    "sns.heatmap(correlation, vmax=1, vmin=-1,\n",
    "            linewidths=0.5, annot=True,cmap='viridis',\n",
    "            linecolor=\"white\", annot_kws = {'size':12})"
   ]
  },
  {
   "cell_type": "markdown",
   "id": "ac23273d",
   "metadata": {},
   "source": [
    "На основании графика выше видим, что сильной корреляции между количественными переменными и целевой переменной.\n",
    "\n",
    "Теперь постром графики рассеивания для всех количественных переменных, а по диагонале автоматически отобразятся гистрограммы, т.к. здесь переменные анализируются самии с собой."
   ]
  },
  {
   "cell_type": "code",
   "execution_count": 96,
   "id": "44a7d14b",
   "metadata": {},
   "outputs": [
    {
     "data": {
      "text/plain": [
       "<seaborn.axisgrid.PairGrid at 0xe985238>"
      ]
     },
     "execution_count": 96,
     "metadata": {},
     "output_type": "execute_result"
    },
    {
     "data": {
      "image/png": "[encoded data removed]",
      "text/plain": [
       "<Figure size 720x720 with 20 Axes>"
      ]
     },
     "metadata": {
      "needs_background": "light"
     },
     "output_type": "display_data"
    }
   ],
   "source": [
    "sns.pairplot(happy[cols_num])"
   ]
  },
  {
   "cell_type": "markdown",
   "id": "2e93ec39",
   "metadata": {},
   "source": [
    "Одновременно проанализируем распредление количественной переменной dystopia_residual по обоим категориальным переменным, Good cpi_score и great country, построив ящики с усами. Напомним, что dystopia_residual отражает сравнение своей страны с самым грустным государств."
   ]
  },
  {
   "cell_type": "code",
   "execution_count": 97,
   "id": "fe59a7de",
   "metadata": {},
   "outputs": [],
   "source": [
    "cat_features = ['Good cpi_score', 'great country']"
   ]
  },
  {
   "cell_type": "code",
   "execution_count": 98,
   "id": "5fde5cd9",
   "metadata": {},
   "outputs": [
    {
     "data": {
      "text/html": [
       "<div>\n",
       "<style scoped>\n",
       "    .dataframe tbody tr th:only-of-type {\n",
       "        vertical-align: middle;\n",
       "    }\n",
       "\n",
       "    .dataframe tbody tr th {\n",
       "        vertical-align: top;\n",
       "    }\n",
       "\n",
       "    .dataframe thead th {\n",
       "        text-align: right;\n",
       "    }\n",
       "</style>\n",
       "<table border=\"1\" class=\"dataframe\">\n",
       "  <thead>\n",
       "    <tr style=\"text-align: right;\">\n",
       "      <th></th>\n",
       "      <th>dystopia_residual</th>\n",
       "      <th>variable</th>\n",
       "      <th>value</th>\n",
       "    </tr>\n",
       "  </thead>\n",
       "  <tbody>\n",
       "    <tr>\n",
       "      <th>0</th>\n",
       "      <td>2.277027</td>\n",
       "      <td>Good cpi_score</td>\n",
       "      <td>1</td>\n",
       "    </tr>\n",
       "    <tr>\n",
       "      <th>1</th>\n",
       "      <td>2.313707</td>\n",
       "      <td>Good cpi_score</td>\n",
       "      <td>1</td>\n",
       "    </tr>\n",
       "    <tr>\n",
       "      <th>2</th>\n",
       "      <td>2.322715</td>\n",
       "      <td>Good cpi_score</td>\n",
       "      <td>0</td>\n",
       "    </tr>\n",
       "    <tr>\n",
       "      <th>3</th>\n",
       "      <td>2.276716</td>\n",
       "      <td>Good cpi_score</td>\n",
       "      <td>1</td>\n",
       "    </tr>\n",
       "    <tr>\n",
       "      <th>4</th>\n",
       "      <td>2.430182</td>\n",
       "      <td>Good cpi_score</td>\n",
       "      <td>1</td>\n",
       "    </tr>\n",
       "  </tbody>\n",
       "</table>\n",
       "</div>"
      ],
      "text/plain": [
       "   dystopia_residual        variable  value\n",
       "0           2.277027  Good cpi_score      1\n",
       "1           2.313707  Good cpi_score      1\n",
       "2           2.322715  Good cpi_score      0\n",
       "3           2.276716  Good cpi_score      1\n",
       "4           2.430182  Good cpi_score      1"
      ]
     },
     "execution_count": 98,
     "metadata": {},
     "output_type": "execute_result"
    }
   ],
   "source": [
    "happy_melted = pd.melt(happy, id_vars='dystopia_residual', value_vars=cat_features)\n",
    "happy_melted.head()"
   ]
  },
  {
   "cell_type": "code",
   "execution_count": 99,
   "id": "9d70ed1b",
   "metadata": {},
   "outputs": [
    {
     "data": {
      "text/plain": [
       "<seaborn.axisgrid.FacetGrid at 0x103fdef8>"
      ]
     },
     "execution_count": 99,
     "metadata": {},
     "output_type": "execute_result"
    },
    {
     "data": {
      "image/png": "[encoded data removed]",
      "text/plain": [
       "<Figure size 720x360 with 2 Axes>"
      ]
     },
     "metadata": {
      "needs_background": "light"
     },
     "output_type": "display_data"
    }
   ],
   "source": [
    "def boxplot(x, y, **kwargs):\n",
    "    sns.boxplot(x=x, y=y)\n",
    "    x=plt.xticks(rotation=90) # просим подписать области вертикально\n",
    "    \n",
    "g = sns.FacetGrid(happy_melted, col=\"variable\",  # подписываем сверху \"переменная\" и какая это переменная\n",
    "                  col_wrap=2, sharex=False, sharey=False, height=5)\n",
    "g.map(boxplot, \"value\", 'dystopia_residual')"
   ]
  },
  {
   "cell_type": "markdown",
   "id": "126099d8",
   "metadata": {},
   "source": [
    "На основании графиков сверху можно сделать следюущие выводы. Уровень сравнения своей страны с самой грустной стронйо в мире немного ниже среди коррумпированных стран. Станы попадающие под определение \"отличная страна\" дают более высокую оценку при сравнении с грустной строной, чем те, кто не попадает под эти критерии. Узость ящика \"отличных\" стран объясняется маленьким числом стран, подходящих под эти критерии. "
   ]
  },
  {
   "cell_type": "markdown",
   "id": "b47ceb12",
   "metadata": {},
   "source": [
    "# 9. t-тест\n",
    "\n",
    "Тестируем гипотезу о том, есть разница между уровенем щедрости в странах с \"хорошим\" отношением к коррупции, то есть в некоррумпированных странах. Нулевая гипотеза - разницы между этими значениями нет.\n",
    "\n",
    "**Параметры теста:**\n",
    "* Двусторонний тест\n",
    "* alpha = 0.05\n",
    "* Критическое значение t-критерия: ±1.9667\n",
    "* Критическая область: (-∞, -1.9667] ∪ [1.9667, ∞)\n",
    "\n",
    "Поделим датасет на два кусочка - коррумпированные и некоррумпированные страны."
   ]
  },
  {
   "cell_type": "code",
   "execution_count": 100,
   "id": "0e837235",
   "metadata": {},
   "outputs": [],
   "source": [
    "good_cpi = happy[happy['Good cpi_score'] == 1]['generosity']\n",
    "bad_cpi = happy[happy['Good cpi_score'] == 0]['generosity']"
   ]
  },
  {
   "cell_type": "markdown",
   "id": "559adf1a",
   "metadata": {},
   "source": [
    "Посмотрим, является ли распредление по первой переменной нормальным."
   ]
  },
  {
   "cell_type": "code",
   "execution_count": 101,
   "id": "c58aa9dd",
   "metadata": {},
   "outputs": [
    {
     "data": {
      "text/plain": [
       "<AxesSubplot:>"
      ]
     },
     "execution_count": 101,
     "metadata": {},
     "output_type": "execute_result"
    },
    {
     "data": {
      "image/png": "[encoded data removed]",
      "text/plain": [
       "<Figure size 432x288 with 1 Axes>"
      ]
     },
     "metadata": {
      "needs_background": "light"
     },
     "output_type": "display_data"
    }
   ],
   "source": [
    "good_cpi.hist()"
   ]
  },
  {
   "cell_type": "code",
   "execution_count": 102,
   "id": "8ad5b105",
   "metadata": {},
   "outputs": [
    {
     "data": {
      "text/plain": [
       "<AxesSubplot:>"
      ]
     },
     "execution_count": 102,
     "metadata": {},
     "output_type": "execute_result"
    },
    {
     "data": {
      "image/png": "[encoded data removed]",
      "text/plain": [
       "<Figure size 432x288 with 1 Axes>"
      ]
     },
     "metadata": {
      "needs_background": "light"
     },
     "output_type": "display_data"
    }
   ],
   "source": [
    "bad_cpi.hist()"
   ]
  },
  {
   "cell_type": "markdown",
   "id": "47ccc857",
   "metadata": {},
   "source": [
    "Графики относительно похожи на колокольчики, будем считать, что преподссылка нормальности пройдена.\n",
    "\n",
    "Далее проверим равность дисперсий у заданных переменных."
   ]
  },
  {
   "cell_type": "code",
   "execution_count": 103,
   "id": "52ef4b34",
   "metadata": {},
   "outputs": [
    {
     "name": "stdout",
     "output_type": "stream",
     "text": [
      "730 62\n"
     ]
    }
   ],
   "source": [
    "b_c = len(bad_cpi)\n",
    "g_c = len(good_cpi)\n",
    "print(b_c, g_c)"
   ]
  },
  {
   "cell_type": "code",
   "execution_count": 104,
   "id": "0f00aeb5",
   "metadata": {},
   "outputs": [
    {
     "name": "stdout",
     "output_type": "stream",
     "text": [
      "0.014323065604892502 0.007539155800826682\n"
     ]
    }
   ],
   "source": [
    "var_b = bad_cpi.var()\n",
    "var_g = good_cpi.var()\n",
    "print(var_b, var_g)"
   ]
  },
  {
   "cell_type": "markdown",
   "id": "9a301e9d",
   "metadata": {},
   "source": [
    "В силу того, что дисперсии не равны, будем использовать критерий Стьюдента с поправкой welch."
   ]
  },
  {
   "cell_type": "code",
   "execution_count": 105,
   "id": "ec9f3b53",
   "metadata": {},
   "outputs": [
    {
     "name": "stdout",
     "output_type": "stream",
     "text": [
      "0.20314067006849332 0.3219263912258064\n"
     ]
    }
   ],
   "source": [
    "mean_b = bad_cpi.mean()\n",
    "mean_g = good_cpi.mean()\n",
    "print(mean_b, mean_g)"
   ]
  },
  {
   "cell_type": "code",
   "execution_count": 106,
   "id": "d693f03a",
   "metadata": {},
   "outputs": [
    {
     "name": "stdout",
     "output_type": "stream",
     "text": [
      "82.0946071593688\n",
      "82\n"
     ]
    }
   ],
   "source": [
    "v_b = var_b/b_c\n",
    "v_g = var_g/g_c\n",
    "\n",
    "happy_welch = (v_b + v_g)**2 / (v_b**2 / (b_c - 1) + v_g**2 / (g_c - 1))\n",
    "print(happy_welch)\n",
    "print(int(happy_welch)) # отображаем округленное количество степеней свободы"
   ]
  },
  {
   "cell_type": "markdown",
   "id": "2020308d",
   "metadata": {},
   "source": [
    "Внедряем функцию для t-критерия, определяющую можем ли отвергуть нулевую гипотезу. "
   ]
  },
  {
   "cell_type": "code",
   "execution_count": 107,
   "id": "c4a8506a",
   "metadata": {},
   "outputs": [],
   "source": [
    "def hypothesis_check(p_value, t_critical):\n",
    "    if abs(p_value) < t_critical:\n",
    "        print('Отвергаем Н0. Разница между средними статистически значима.')\n",
    "    else:\n",
    "        print('Не удалось отвергнуть H0')\n",
    "        \n",
    "t_critical = 1.9667 # задаем критическое значение"
   ]
  },
  {
   "cell_type": "markdown",
   "id": "ef0381a5",
   "metadata": {},
   "source": [
    "Приступаем к расчету t-критерия. Сначала выявляем стандартную ошибку."
   ]
  },
  {
   "cell_type": "code",
   "execution_count": 108,
   "id": "3acf4778",
   "metadata": {},
   "outputs": [
    {
     "name": "stdout",
     "output_type": "stream",
     "text": [
      "0.011883598988733549\n"
     ]
    }
   ],
   "source": [
    "s_mb_mg = np.sqrt(var_b/b_c + var_g/g_c)\n",
    "print(s_mb_mg)"
   ]
  },
  {
   "cell_type": "code",
   "execution_count": 109,
   "id": "ebdba194",
   "metadata": {},
   "outputs": [
    {
     "name": "stdout",
     "output_type": "stream",
     "text": [
      "-9.995769906905302\n"
     ]
    }
   ],
   "source": [
    "t = (mean_b - mean_g) / s_mb_mg\n",
    "print(t)"
   ]
  },
  {
   "cell_type": "code",
   "execution_count": 110,
   "id": "bede5cc2",
   "metadata": {},
   "outputs": [
    {
     "name": "stdout",
     "output_type": "stream",
     "text": [
      "Не удалось отвергнуть H0\n"
     ]
    }
   ],
   "source": [
    "hypothesis_check(t, t_critical)"
   ]
  },
  {
   "cell_type": "markdown",
   "id": "6a0c57f0",
   "metadata": {},
   "source": [
    "Следовательно, делаем вывод, что разница между средними статистически не значима.\n",
    "\n",
    "\n",
    "# 10. Линейная регрессия \n",
    "\n",
    "Будем работать с агерированными данными среднего показателя счастья, щедрости, сравнения с грустной страной и свободой по континентам."
   ]
  },
  {
   "cell_type": "code",
   "execution_count": 111,
   "id": "e1890edf",
   "metadata": {},
   "outputs": [
    {
     "data": {
      "text/html": [
       "<div>\n",
       "<style scoped>\n",
       "    .dataframe tbody tr th:only-of-type {\n",
       "        vertical-align: middle;\n",
       "    }\n",
       "\n",
       "    .dataframe tbody tr th {\n",
       "        vertical-align: top;\n",
       "    }\n",
       "\n",
       "    .dataframe thead th {\n",
       "        text-align: right;\n",
       "    }\n",
       "</style>\n",
       "<table border=\"1\" class=\"dataframe\">\n",
       "  <thead>\n",
       "    <tr style=\"text-align: right;\">\n",
       "      <th></th>\n",
       "      <th>happiness_score</th>\n",
       "      <th>generosity</th>\n",
       "      <th>dystopia_residual</th>\n",
       "      <th>freedom</th>\n",
       "    </tr>\n",
       "    <tr>\n",
       "      <th>continent</th>\n",
       "      <th></th>\n",
       "      <th></th>\n",
       "      <th></th>\n",
       "      <th></th>\n",
       "    </tr>\n",
       "  </thead>\n",
       "  <tbody>\n",
       "    <tr>\n",
       "      <th>Africa</th>\n",
       "      <td>4.353944</td>\n",
       "      <td>0.190301</td>\n",
       "      <td>1.297886</td>\n",
       "      <td>0.362420</td>\n",
       "    </tr>\n",
       "    <tr>\n",
       "      <th>Asia</th>\n",
       "      <td>5.267553</td>\n",
       "      <td>0.239480</td>\n",
       "      <td>1.241343</td>\n",
       "      <td>0.438396</td>\n",
       "    </tr>\n",
       "    <tr>\n",
       "      <th>Australia</th>\n",
       "      <td>7.289033</td>\n",
       "      <td>0.407926</td>\n",
       "      <td>1.493527</td>\n",
       "      <td>0.615233</td>\n",
       "    </tr>\n",
       "    <tr>\n",
       "      <th>Europe</th>\n",
       "      <td>6.193717</td>\n",
       "      <td>0.205434</td>\n",
       "      <td>1.404200</td>\n",
       "      <td>0.434020</td>\n",
       "    </tr>\n",
       "    <tr>\n",
       "      <th>North America</th>\n",
       "      <td>7.000539</td>\n",
       "      <td>0.272680</td>\n",
       "      <td>1.777789</td>\n",
       "      <td>0.528074</td>\n",
       "    </tr>\n",
       "  </tbody>\n",
       "</table>\n",
       "</div>"
      ],
      "text/plain": [
       "               happiness_score  generosity  dystopia_residual   freedom\n",
       "continent                                                              \n",
       "Africa                4.353944    0.190301           1.297886  0.362420\n",
       "Asia                  5.267553    0.239480           1.241343  0.438396\n",
       "Australia             7.289033    0.407926           1.493527  0.615233\n",
       "Europe                6.193717    0.205434           1.404200  0.434020\n",
       "North America         7.000539    0.272680           1.777789  0.528074"
      ]
     },
     "execution_count": 111,
     "metadata": {},
     "output_type": "execute_result"
    }
   ],
   "source": [
    "happy_mean = happy.groupby(happy['continent'])['happiness_score'].mean()\n",
    "generosity_mean = happy.groupby(happy['continent'])['generosity'].mean()\n",
    "dystopia_residual_mean = happy.groupby(happy['continent'])['dystopia_residual'].mean()\n",
    "freedom_mean = happy.groupby(happy['continent'])['freedom'].mean()\n",
    "\n",
    "happy_continent = pd.concat([happy_mean, generosity_mean, dystopia_residual_mean, freedom_mean], axis=1)\n",
    "happy_continent.head()"
   ]
  },
  {
   "cell_type": "markdown",
   "id": "d671a87a",
   "metadata": {},
   "source": [
    "По агрегированному датасету выше будет построена модель линейной регресии.\n",
    "\n",
    "Проверим предпоссылки до построения модели:\n",
    "\n",
    "1.отсутствие мултиколлинарности, т.е. независимые перемнные между собой не коррелирируют.\n",
    "2. наличие линейной взаимосвязи."
   ]
  },
  {
   "cell_type": "code",
   "execution_count": 112,
   "id": "b921b9cf",
   "metadata": {
    "scrolled": false
   },
   "outputs": [
    {
     "data": {
      "text/plain": [
       "<AxesSubplot:>"
      ]
     },
     "execution_count": 112,
     "metadata": {},
     "output_type": "execute_result"
    },
    {
     "data": {
      "image/png": "[encoded data removed]",
      "text/plain": [
       "<Figure size 1008x864 with 2 Axes>"
      ]
     },
     "metadata": {
      "needs_background": "light"
     },
     "output_type": "display_data"
    }
   ],
   "source": [
    "fig , ax = plt.subplots(figsize = (14,12))\n",
    "\n",
    "sns.heatmap(happy_continent.corr(), annot=True, cmap='RdYlGn', vmax=1, vmin=-1)"
   ]
  },
  {
   "cell_type": "markdown",
   "id": "fd4d1c22",
   "metadata": {},
   "source": [
    "Некоторые переменные имеют корреляцию друг с другом, однако также встерчается и умеренная корреляция. Будем считать, что условие выполнено."
   ]
  },
  {
   "cell_type": "code",
   "execution_count": 113,
   "id": "077db27c",
   "metadata": {
    "scrolled": true
   },
   "outputs": [
    {
     "data": {
      "text/plain": [
       "<seaborn.axisgrid.PairGrid at 0xdfe3370>"
      ]
     },
     "execution_count": 113,
     "metadata": {},
     "output_type": "execute_result"
    },
    {
     "data": {
      "image/png": "[encoded data removed]",
      "text/plain": [
       "<Figure size 720x720 with 20 Axes>"
      ]
     },
     "metadata": {
      "needs_background": "light"
     },
     "output_type": "display_data"
    }
   ],
   "source": [
    "sns.pairplot(happy_continent)"
   ]
  },
  {
   "cell_type": "markdown",
   "id": "f9d44e77",
   "metadata": {},
   "source": [
    "Исходя из графиков, делаем вывод, что тренд линейной зависимости присутствует.\n",
    "В первую очередь построим модель на основании уровней счастья и свободы, т.к. по данным переменным прослеживается наиболее четкая линия."
   ]
  },
  {
   "cell_type": "code",
   "execution_count": 114,
   "id": "a54f6c6e",
   "metadata": {
    "scrolled": true
   },
   "outputs": [
    {
     "name": "stdout",
     "output_type": "stream",
     "text": [
      "LinregressResult(slope=11.473358233741306, intercept=0.563992850807205, rvalue=0.9197592987385274, pvalue=0.009399537516864766, stderr=2.4479757911786044, intercept_stderr=1.1751814193059948)\n"
     ]
    }
   ],
   "source": [
    "X = happy_continent['freedom'] # подразумевается матрица признаков\n",
    "y = happy_continent['happiness_score'] # массив, целевая переменная\n",
    "\n",
    "res = scipy.stats.linregress(X, y)\n",
    "print(res)"
   ]
  },
  {
   "cell_type": "markdown",
   "id": "725e4229",
   "metadata": {},
   "source": [
    "Вычислим r в квадрате, т.е. коэффициент детерминации"
   ]
  },
  {
   "cell_type": "code",
   "execution_count": 115,
   "id": "6a941833",
   "metadata": {},
   "outputs": [
    {
     "name": "stdout",
     "output_type": "stream",
     "text": [
      "0.8459571676159876\n"
     ]
    }
   ],
   "source": [
    "r_sq = res.rvalue ** 2\n",
    "print(r_sq)"
   ]
  },
  {
   "cell_type": "markdown",
   "id": "e93365e2",
   "metadata": {},
   "source": [
    "Делаем вывод, что наша модель хорошая, это очень высокое значение для коэффициента детерминации. Наша модель объясняет дисперсию в целевой переменной на 84%. Построим график рассеивания по результатам."
   ]
  },
  {
   "cell_type": "code",
   "execution_count": 116,
   "id": "f26edb99",
   "metadata": {
    "scrolled": true
   },
   "outputs": [
    {
     "data": {
      "image/png": "[encoded data removed]",
      "text/plain": [
       "<Figure size 432x288 with 1 Axes>"
      ]
     },
     "metadata": {
      "needs_background": "light"
     },
     "output_type": "display_data"
    }
   ],
   "source": [
    "plt.plot(X, y, 'o', label='оригинальные данные')\n",
    "plt.plot(X, res.intercept + res.slope*X, 'r', label='линия регрессии') # уравнение предсказывает значение \"у\".\n",
    "plt.legend()\n",
    "plt.show()"
   ]
  },
  {
   "cell_type": "markdown",
   "id": "0ceda1ae",
   "metadata": {},
   "source": [
    "Для точки, расположенной на линии, ошибка будет минимальной.\n",
    "\n",
    "Теперь проанализируем уравнение регресии через библиотеку stats models."
   ]
  },
  {
   "cell_type": "code",
   "execution_count": 117,
   "id": "93006aa0",
   "metadata": {},
   "outputs": [
    {
     "name": "stdout",
     "output_type": "stream",
     "text": [
      "                            OLS Regression Results                            \n",
      "==============================================================================\n",
      "Dep. Variable:        happiness_score   R-squared:                       0.846\n",
      "Model:                            OLS   Adj. R-squared:                  0.807\n",
      "Method:                 Least Squares   F-statistic:                     21.97\n",
      "Date:                Wed, 14 Dec 2022   Prob (F-statistic):            0.00940\n",
      "Time:                        13:38:41   Log-Likelihood:                -2.8841\n",
      "No. Observations:                   6   AIC:                             9.768\n",
      "Df Residuals:                       4   BIC:                             9.352\n",
      "Df Model:                           1                                         \n",
      "Covariance Type:            nonrobust                                         \n",
      "==============================================================================\n",
      "                 coef    std err          t      P>|t|      [0.025      0.975]\n",
      "------------------------------------------------------------------------------\n",
      "const          0.5640      1.175      0.480      0.656      -2.699       3.827\n",
      "freedom       11.4734      2.448      4.687      0.009       4.677      18.270\n",
      "==============================================================================\n",
      "Omnibus:                          nan   Durbin-Watson:                   1.291\n",
      "Prob(Omnibus):                    nan   Jarque-Bera (JB):                0.744\n",
      "Skew:                           0.575   Prob(JB):                        0.689\n",
      "Kurtosis:                       1.714   Cond. No.                         15.3\n",
      "==============================================================================\n",
      "\n",
      "Notes:\n",
      "[1] Standard Errors assume that the covariance matrix of the errors is correctly specified.\n"
     ]
    },
    {
     "name": "stderr",
     "output_type": "stream",
     "text": [
      "C:\\Users\\hp\\anaconda3\\lib\\site-packages\\statsmodels\\stats\\stattools.py:74: ValueWarning: omni_normtest is not valid with less than 8 observations; 6 samples were given.\n",
      "  warn(\"omni_normtest is not valid with less than 8 observations; %i \"\n"
     ]
    }
   ],
   "source": [
    "X_simple = happy_continent['freedom']\n",
    "y = happy_continent['happiness_score'] \n",
    "X_simple_constant = sm.add_constant(X_simple) # добавим точку пересечения с \"у\", т.е. константу (свободный член)\n",
    "\n",
    "mod = sm.OLS(y, X_simple_constant)\n",
    "res_simple = mod.fit()\n",
    "print(res_simple.summary())"
   ]
  },
  {
   "cell_type": "markdown",
   "id": "a35a659a",
   "metadata": {},
   "source": [
    "Построим линейную регрессию с несколькими предикторами."
   ]
  },
  {
   "cell_type": "code",
   "execution_count": 118,
   "id": "200198c6",
   "metadata": {
    "scrolled": true
   },
   "outputs": [
    {
     "name": "stdout",
     "output_type": "stream",
     "text": [
      "                            OLS Regression Results                            \n",
      "==============================================================================\n",
      "Dep. Variable:        happiness_score   R-squared:                       0.902\n",
      "Model:                            OLS   Adj. R-squared:                  0.755\n",
      "Method:                 Least Squares   F-statistic:                     6.133\n",
      "Date:                Wed, 14 Dec 2022   Prob (F-statistic):              0.143\n",
      "Time:                        13:38:42   Log-Likelihood:                -1.5286\n",
      "No. Observations:                   6   AIC:                             11.06\n",
      "Df Residuals:                       2   BIC:                             10.22\n",
      "Df Model:                           3                                         \n",
      "Covariance Type:            nonrobust                                         \n",
      "=====================================================================================\n",
      "                        coef    std err          t      P>|t|      [0.025      0.975]\n",
      "-------------------------------------------------------------------------------------\n",
      "const                -0.6359      1.806     -0.352      0.758      -8.408       7.137\n",
      "generosity           -5.2809     11.480     -0.460      0.691     -54.674      44.112\n",
      "dystopia_residual     0.4023      2.457      0.164      0.885     -10.168      10.973\n",
      "freedom              15.5391     12.883      1.206      0.351     -39.892      70.971\n",
      "==============================================================================\n",
      "Omnibus:                          nan   Durbin-Watson:                   1.644\n",
      "Prob(Omnibus):                    nan   Jarque-Bera (JB):                0.832\n",
      "Skew:                           0.902   Prob(JB):                        0.660\n",
      "Kurtosis:                       2.737   Cond. No.                         146.\n",
      "==============================================================================\n",
      "\n",
      "Notes:\n",
      "[1] Standard Errors assume that the covariance matrix of the errors is correctly specified.\n"
     ]
    },
    {
     "name": "stderr",
     "output_type": "stream",
     "text": [
      "C:\\Users\\hp\\anaconda3\\lib\\site-packages\\statsmodels\\stats\\stattools.py:74: ValueWarning: omni_normtest is not valid with less than 8 observations; 6 samples were given.\n",
      "  warn(\"omni_normtest is not valid with less than 8 observations; %i \"\n"
     ]
    }
   ],
   "source": [
    "X_mult = happy_continent.drop('happiness_score', axis=1)\n",
    "y = happy_continent['happiness_score']\n",
    "X_mult_constant = sm.add_constant(X_mult)\n",
    "\n",
    "mod = sm.OLS(y, X_mult_constant)\n",
    "res_mult = mod.fit()\n",
    "print(res_mult.summary())"
   ]
  },
  {
   "cell_type": "markdown",
   "id": "a6befa24",
   "metadata": {},
   "source": [
    "Коэффициент детеминации сократился посравнению с предыдущей моделью. Согласно полученным данным, показатели отношения к коррупции и совободы получаются с отрицательными знаками, что говорит о том, что чем выше эти значения, тем ниже средний уровень счастья на континентах, однако ранее мы подтвреждали обратные гипотезы.\n",
    "\n",
    "\n",
    "# 11. Логистическая регрессия\n",
    "\n",
    "Для построения модели немного преобразуем наш датасет, введем новую категориальную переменую. Страны Европы будем обозначать единицей, а все остальные - 0, таким образом, мы сможем качественно построить логистическую регрессию. Выбираем именно Европу, т.к. на этом континенте больше всего стран. \n",
    "Другая переменная, которую будем анализировать - хорошее отношение к коррупции."
   ]
  },
  {
   "cell_type": "code",
   "execution_count": 119,
   "id": "ae988fe5",
   "metadata": {},
   "outputs": [],
   "source": [
    "happy['European'] = np.where((happy['continent'] == 'Europe'), 1, 0)"
   ]
  },
  {
   "cell_type": "code",
   "execution_count": 138,
   "id": "46302cd3",
   "metadata": {},
   "outputs": [],
   "source": [
    "cols_num = ['generosity', 'gdp_per_capita', 'government_trust', 'dystopia_residual']"
   ]
  },
  {
   "cell_type": "markdown",
   "id": "32523fc5",
   "metadata": {},
   "source": [
    "Выше обозначаем количественные переменные, к которым вернемся позднее. \n",
    "Построим логистическую регрессию."
   ]
  },
  {
   "cell_type": "code",
   "execution_count": 121,
   "id": "6ee81d24",
   "metadata": {},
   "outputs": [
    {
     "name": "stdout",
     "output_type": "stream",
     "text": [
      "Optimization terminated successfully.\n",
      "         Current function value: 0.562321\n",
      "         Iterations 5\n",
      "                           Logit Regression Results                           \n",
      "==============================================================================\n",
      "Dep. Variable:               European   No. Observations:                  792\n",
      "Model:                          Logit   Df Residuals:                      790\n",
      "Method:                           MLE   Df Model:                            1\n",
      "Date:                Wed, 14 Dec 2022   Pseudo R-squ.:                 0.06318\n",
      "Time:                        13:38:42   Log-Likelihood:                -445.36\n",
      "converged:                       True   LL-Null:                       -475.39\n",
      "Covariance Type:            nonrobust   LLR p-value:                 9.169e-15\n",
      "==================================================================================\n",
      "                     coef    std err          z      P>|z|      [0.025      0.975]\n",
      "----------------------------------------------------------------------------------\n",
      "const             -1.1023      0.086    -12.884      0.000      -1.270      -0.935\n",
      "Good cpi_score     2.1583      0.303      7.133      0.000       1.565       2.751\n",
      "==================================================================================\n"
     ]
    }
   ],
   "source": [
    "X = happy['Good cpi_score']\n",
    "y = happy['European']\n",
    "X_constant = sm.add_constant(X)\n",
    "logit = sm.Logit(y, X_constant).fit()\n",
    "print(logit.summary())"
   ]
  },
  {
   "cell_type": "markdown",
   "id": "c6e74728",
   "metadata": {},
   "source": [
    "coef - логарифм шанса, экспонируем коэффициенты для интерпритации."
   ]
  },
  {
   "cell_type": "code",
   "execution_count": 122,
   "id": "c66ec15e",
   "metadata": {},
   "outputs": [
    {
     "name": "stdout",
     "output_type": "stream",
     "text": [
      "0.3321063599749712\n",
      "8.656409247140784\n"
     ]
    }
   ],
   "source": [
    "print(np.exp(-1.1023))\n",
    "print(np.exp(2.1583))"
   ]
  },
  {
   "cell_type": "markdown",
   "id": "2263501a",
   "metadata": {},
   "source": [
    "Интерпритируем значения относительно единицы. В данном случае константа обозначает, что вероятность того, что страна с плохим отношением к коррупции, т.е.коррумпированая, находится в Европе - 8 к 1. Шанс того, что эта страна европейская минимален.\n",
    "\n",
    "Рассчитаем свободный член для проверки. Для этого построим таблицу сопряженности, чтобы отобразить частоты и посчитать вероятности принадлежности к той или иной группе."
   ]
  },
  {
   "cell_type": "code",
   "execution_count": 123,
   "id": "aba761cc",
   "metadata": {},
   "outputs": [
    {
     "data": {
      "text/html": [
       "<div>\n",
       "<style scoped>\n",
       "    .dataframe tbody tr th:only-of-type {\n",
       "        vertical-align: middle;\n",
       "    }\n",
       "\n",
       "    .dataframe tbody tr th {\n",
       "        vertical-align: top;\n",
       "    }\n",
       "\n",
       "    .dataframe thead th {\n",
       "        text-align: right;\n",
       "    }\n",
       "</style>\n",
       "<table border=\"1\" class=\"dataframe\">\n",
       "  <thead>\n",
       "    <tr style=\"text-align: right;\">\n",
       "      <th>Good cpi_score</th>\n",
       "      <th>0</th>\n",
       "      <th>1</th>\n",
       "    </tr>\n",
       "    <tr>\n",
       "      <th>European</th>\n",
       "      <th></th>\n",
       "      <th></th>\n",
       "    </tr>\n",
       "  </thead>\n",
       "  <tbody>\n",
       "    <tr>\n",
       "      <th>0</th>\n",
       "      <td>548</td>\n",
       "      <td>16</td>\n",
       "    </tr>\n",
       "    <tr>\n",
       "      <th>1</th>\n",
       "      <td>182</td>\n",
       "      <td>46</td>\n",
       "    </tr>\n",
       "  </tbody>\n",
       "</table>\n",
       "</div>"
      ],
      "text/plain": [
       "Good cpi_score    0   1\n",
       "European               \n",
       "0               548  16\n",
       "1               182  46"
      ]
     },
     "execution_count": 123,
     "metadata": {},
     "output_type": "execute_result"
    }
   ],
   "source": [
    "happy.groupby('European')['Good cpi_score'].value_counts().unstack()"
   ]
  },
  {
   "cell_type": "code",
   "execution_count": 124,
   "id": "405a8a20",
   "metadata": {},
   "outputs": [
    {
     "name": "stdout",
     "output_type": "stream",
     "text": [
      "0.33211678832116787\n",
      "-1.1022685998712203\n"
     ]
    }
   ],
   "source": [
    "p_1_bad = 182 / (182 + 548) # вероятность наступления события\n",
    "p_0_bad = 1 - p_1_bad # вероятность ненаступления события\n",
    "odds_1_bad = p_1_bad / p_0_bad\n",
    "print(odds_1_bad)\n",
    "print(np.log(odds_1_bad))"
   ]
  },
  {
   "cell_type": "markdown",
   "id": "a325a73b",
   "metadata": {},
   "source": [
    "Построим логистическую регрессию для всех количественных переменных, кроме European."
   ]
  },
  {
   "cell_type": "code",
   "execution_count": 139,
   "id": "cb4fc4ba",
   "metadata": {},
   "outputs": [
    {
     "name": "stdout",
     "output_type": "stream",
     "text": [
      "Optimization terminated successfully.\n",
      "         Current function value: 0.442574\n",
      "         Iterations 7\n",
      "                           Logit Regression Results                           \n",
      "==============================================================================\n",
      "Dep. Variable:               European   No. Observations:                  792\n",
      "Model:                          Logit   Df Residuals:                      787\n",
      "Method:                           MLE   Df Model:                            4\n",
      "Date:                Wed, 14 Dec 2022   Pseudo R-squ.:                  0.2627\n",
      "Time:                        13:59:37   Log-Likelihood:                -350.52\n",
      "converged:                       True   LL-Null:                       -475.39\n",
      "Covariance Type:            nonrobust   LLR p-value:                 7.385e-53\n",
      "=====================================================================================\n",
      "                        coef    std err          z      P>|z|      [0.025      0.975]\n",
      "-------------------------------------------------------------------------------------\n",
      "const                -5.8931      0.520    -11.339      0.000      -6.912      -4.874\n",
      "generosity           -0.9274      0.813     -1.141      0.254      -2.521       0.666\n",
      "gdp_per_capita        5.3438      0.487     10.964      0.000       4.388       6.299\n",
      "government_trust     -3.8629      0.985     -3.924      0.000      -5.793      -1.933\n",
      "dystopia_residual     0.0134      0.087      0.155      0.877      -0.157       0.184\n",
      "=====================================================================================\n"
     ]
    }
   ],
   "source": [
    "X = happy[cols_num]\n",
    "y = happy['European']\n",
    "X_constant = sm.add_constant(X)\n",
    "logit = sm.Logit(y, X_constant).fit()\n",
    "print(logit.summary())"
   ]
  },
  {
   "cell_type": "markdown",
   "id": "e069e16d",
   "metadata": {},
   "source": [
    "Центрируем расспределение по среднему значению, чтобы константа не интерпритировалась относительно нулевого значение, а среденего значения."
   ]
  },
  {
   "cell_type": "code",
   "execution_count": 141,
   "id": "32abdcde",
   "metadata": {},
   "outputs": [
    {
     "name": "stdout",
     "output_type": "stream",
     "text": [
      "Optimization terminated successfully.\n",
      "         Current function value: 0.442574\n",
      "         Iterations 7\n",
      "                           Logit Regression Results                           \n",
      "==============================================================================\n",
      "Dep. Variable:               European   No. Observations:                  792\n",
      "Model:                          Logit   Df Residuals:                      787\n",
      "Method:                           MLE   Df Model:                            4\n",
      "Date:                Wed, 14 Dec 2022   Pseudo R-squ.:                  0.2627\n",
      "Time:                        14:06:36   Log-Likelihood:                -350.52\n",
      "converged:                       True   LL-Null:                       -475.39\n",
      "Covariance Type:            nonrobust   LLR p-value:                 7.385e-53\n",
      "=====================================================================================\n",
      "                        coef    std err          z      P>|z|      [0.025      0.975]\n",
      "-------------------------------------------------------------------------------------\n",
      "const                -1.5916      0.137    -11.605      0.000      -1.860      -1.323\n",
      "generosity           -0.9274      0.813     -1.141      0.254      -2.521       0.666\n",
      "gdp_per_capita        5.3438      0.487     10.964      0.000       4.388       6.299\n",
      "government_trust     -3.8629      0.985     -3.924      0.000      -5.793      -1.933\n",
      "dystopia_residual     0.0134      0.087      0.155      0.877      -0.157       0.184\n",
      "=====================================================================================\n"
     ]
    }
   ],
   "source": [
    "X = happy[cols_num] - happy[cols_num].mean()\n",
    "y = happy['European']\n",
    "X_constant = sm.add_constant(X)\n",
    "logit = sm.Logit(y, X_constant).fit()\n",
    "print(logit.summary())"
   ]
  },
  {
   "cell_type": "markdown",
   "id": "44574df1",
   "metadata": {},
   "source": [
    "Стандартизируем, т.е. приведем модель к z распределению, чтобы значения интерпритировались не как отклонение на 1 ед., а на одно среднеквадратичное отклонение."
   ]
  },
  {
   "cell_type": "code",
   "execution_count": 142,
   "id": "b0a08eaa",
   "metadata": {},
   "outputs": [
    {
     "name": "stdout",
     "output_type": "stream",
     "text": [
      "Optimization terminated successfully.\n",
      "         Current function value: 0.442574\n",
      "         Iterations 7\n",
      "                           Logit Regression Results                           \n",
      "==============================================================================\n",
      "Dep. Variable:               European   No. Observations:                  792\n",
      "Model:                          Logit   Df Residuals:                      787\n",
      "Method:                           MLE   Df Model:                            4\n",
      "Date:                Wed, 14 Dec 2022   Pseudo R-squ.:                  0.2627\n",
      "Time:                        14:10:16   Log-Likelihood:                -350.52\n",
      "converged:                       True   LL-Null:                       -475.39\n",
      "Covariance Type:            nonrobust   LLR p-value:                 7.385e-53\n",
      "=====================================================================================\n",
      "                        coef    std err          z      P>|z|      [0.025      0.975]\n",
      "-------------------------------------------------------------------------------------\n",
      "const                -1.5916      0.137    -11.605      0.000      -1.860      -1.323\n",
      "generosity           -0.1128      0.099     -1.141      0.254      -0.307       0.081\n",
      "gdp_per_capita        2.0615      0.188     10.964      0.000       1.693       2.430\n",
      "government_trust     -0.4212      0.107     -3.924      0.000      -0.632      -0.211\n",
      "dystopia_residual     0.0144      0.093      0.155      0.877      -0.169       0.198\n",
      "=====================================================================================\n"
     ]
    }
   ],
   "source": [
    "X = (happy[cols_num] - happy[cols_num].mean()) / happy[cols_num].std()\n",
    "y = happy['European']\n",
    "X_constant = sm.add_constant(X)\n",
    "logit = sm.Logit(y, X_constant).fit()\n",
    "print(logit.summary())"
   ]
  },
  {
   "cell_type": "code",
   "execution_count": 143,
   "id": "13f4d47e",
   "metadata": {},
   "outputs": [
    {
     "data": {
      "text/plain": [
       "7.857747596164978"
      ]
     },
     "execution_count": 143,
     "metadata": {},
     "output_type": "execute_result"
    }
   ],
   "source": [
    "np.exp(2.0615)"
   ]
  },
  {
   "cell_type": "markdown",
   "id": "025cb01e",
   "metadata": {},
   "source": [
    "ВВП на душу население явялется важным коэффициентом относительно принадложности к европейскому континенту."
   ]
  },
  {
   "cell_type": "code",
   "execution_count": 144,
   "id": "f16d97e5",
   "metadata": {},
   "outputs": [
    {
     "data": {
      "text/plain": [
       "1.0145041794607625"
      ]
     },
     "execution_count": 144,
     "metadata": {},
     "output_type": "execute_result"
    }
   ],
   "source": [
    "np.exp(0.0144)"
   ]
  },
  {
   "cell_type": "markdown",
   "id": "af2dd47c",
   "metadata": {},
   "source": [
    "Сравнение себя с самой грустной страной в мире дает шанс 1 к 1 быть часть Европы."
   ]
  },
  {
   "cell_type": "markdown",
   "id": "a82a437c",
   "metadata": {},
   "source": [
    "# Вывод"
   ]
  },
  {
   "cell_type": "markdown",
   "id": "bcee43d6",
   "metadata": {},
   "source": [
    "Итак, мы провели большой анализ датасета по соотношению уровней счастья и коррупции в странах мира. Большая часть анализа была проведена относительно распределения по континентам. Мы выявили, что самыми счастливыми и не коррумпированными странами явяляются страны Австралии (Австралия и Новая Зеландия) и Северная Америка (США и Канада). 2016 был самым счастливым годом для большиства стран. ВВП на душу населения и уровень здоровья являеются основополагающими относительно формированя изученных уровней.\n",
    "Страны Африки явялются наиболее несчастными, все изученные показатели находили на критических уровнях в течение всего анализируемого периода."
   ]
  },
  {
   "cell_type": "code",
   "execution_count": null,
   "id": "f3331f9a",
   "metadata": {},
   "outputs": [],
   "source": []
  }
 ],
 "metadata": {
  "celltoolbar": "Отсутствует",
  "kernelspec": {
   "display_name": "Python 3 (ipykernel)",
   "language": "python",
   "name": "python3"
  },
  "language_info": {
   "codemirror_mode": {
    "name": "ipython",
    "version": 3
   },
   "file_extension": ".py",
   "mimetype": "text/x-python",
   "name": "python",
   "nbconvert_exporter": "python",
   "pygments_lexer": "ipython3",
   "version": "3.9.12"
  }
 },
 "nbformat": 4,
 "nbformat_minor": 5
}
